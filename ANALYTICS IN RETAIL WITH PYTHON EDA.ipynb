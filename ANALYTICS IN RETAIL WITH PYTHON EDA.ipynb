{
 "cells": [
  {
   "cell_type": "markdown",
   "id": "f08b5eba",
   "metadata": {},
   "source": [
    "   # ANALYTICS IN RETAIL WITH PYTHON EDA"
   ]
  },
  {
   "cell_type": "code",
   "execution_count": 1,
   "id": "691f1f82",
   "metadata": {},
   "outputs": [],
   "source": [
    "#Importing all the EDA libraries"
   ]
  },
  {
   "cell_type": "code",
   "execution_count": 2,
   "id": "a5ef57d3",
   "metadata": {},
   "outputs": [],
   "source": [
    "import pandas as pd\n",
    "import numpy as np\n",
    "import matplotlib as mb\n",
    "import matplotlib.pyplot as plt\n",
    "import seaborn as sns"
   ]
  },
  {
   "cell_type": "code",
   "execution_count": 3,
   "id": "c240f331",
   "metadata": {},
   "outputs": [],
   "source": [
    "#Importing the datasets and understanding the info"
   ]
  },
  {
   "cell_type": "code",
   "execution_count": 4,
   "id": "182b1d08",
   "metadata": {},
   "outputs": [],
   "source": [
    "cust= pd.read_csv(\"Customer.csv\")"
   ]
  },
  {
   "cell_type": "code",
   "execution_count": 5,
   "id": "f2a43eaa",
   "metadata": {},
   "outputs": [
    {
     "data": {
      "text/html": [
       "<div>\n",
       "<style scoped>\n",
       "    .dataframe tbody tr th:only-of-type {\n",
       "        vertical-align: middle;\n",
       "    }\n",
       "\n",
       "    .dataframe tbody tr th {\n",
       "        vertical-align: top;\n",
       "    }\n",
       "\n",
       "    .dataframe thead th {\n",
       "        text-align: right;\n",
       "    }\n",
       "</style>\n",
       "<table border=\"1\" class=\"dataframe\">\n",
       "  <thead>\n",
       "    <tr style=\"text-align: right;\">\n",
       "      <th></th>\n",
       "      <th>cust_id</th>\n",
       "      <th>DOB</th>\n",
       "      <th>Gender</th>\n",
       "      <th>city_code</th>\n",
       "    </tr>\n",
       "  </thead>\n",
       "  <tbody>\n",
       "    <tr>\n",
       "      <th>0</th>\n",
       "      <td>268408</td>\n",
       "      <td>02-01-1970</td>\n",
       "      <td>M</td>\n",
       "      <td>4.0</td>\n",
       "    </tr>\n",
       "    <tr>\n",
       "      <th>1</th>\n",
       "      <td>269696</td>\n",
       "      <td>07-01-1970</td>\n",
       "      <td>F</td>\n",
       "      <td>8.0</td>\n",
       "    </tr>\n",
       "    <tr>\n",
       "      <th>2</th>\n",
       "      <td>268159</td>\n",
       "      <td>08-01-1970</td>\n",
       "      <td>F</td>\n",
       "      <td>8.0</td>\n",
       "    </tr>\n",
       "    <tr>\n",
       "      <th>3</th>\n",
       "      <td>270181</td>\n",
       "      <td>10-01-1970</td>\n",
       "      <td>F</td>\n",
       "      <td>2.0</td>\n",
       "    </tr>\n",
       "    <tr>\n",
       "      <th>4</th>\n",
       "      <td>268073</td>\n",
       "      <td>11-01-1970</td>\n",
       "      <td>M</td>\n",
       "      <td>1.0</td>\n",
       "    </tr>\n",
       "  </tbody>\n",
       "</table>\n",
       "</div>"
      ],
      "text/plain": [
       "   cust_id         DOB Gender  city_code\n",
       "0   268408  02-01-1970      M        4.0\n",
       "1   269696  07-01-1970      F        8.0\n",
       "2   268159  08-01-1970      F        8.0\n",
       "3   270181  10-01-1970      F        2.0\n",
       "4   268073  11-01-1970      M        1.0"
      ]
     },
     "execution_count": 5,
     "metadata": {},
     "output_type": "execute_result"
    }
   ],
   "source": [
    "cust.head()"
   ]
  },
  {
   "cell_type": "code",
   "execution_count": 6,
   "id": "44bf93cf",
   "metadata": {},
   "outputs": [
    {
     "name": "stdout",
     "output_type": "stream",
     "text": [
      "<class 'pandas.core.frame.DataFrame'>\n",
      "RangeIndex: 5647 entries, 0 to 5646\n",
      "Data columns (total 4 columns):\n",
      " #   Column     Non-Null Count  Dtype  \n",
      "---  ------     --------------  -----  \n",
      " 0   cust_id    5647 non-null   int64  \n",
      " 1   DOB        5647 non-null   object \n",
      " 2   Gender     5645 non-null   object \n",
      " 3   city_code  5645 non-null   float64\n",
      "dtypes: float64(1), int64(1), object(2)\n",
      "memory usage: 176.6+ KB\n"
     ]
    }
   ],
   "source": [
    "cust.info()"
   ]
  },
  {
   "cell_type": "code",
   "execution_count": 7,
   "id": "4a046278",
   "metadata": {},
   "outputs": [
    {
     "data": {
      "text/plain": [
       "Index(['cust_id', 'DOB', 'Gender', 'city_code'], dtype='object')"
      ]
     },
     "execution_count": 7,
     "metadata": {},
     "output_type": "execute_result"
    }
   ],
   "source": [
    "cust.columns"
   ]
  },
  {
   "cell_type": "code",
   "execution_count": 8,
   "id": "484c5878",
   "metadata": {},
   "outputs": [
    {
     "data": {
      "text/plain": [
       "cust_id      5647\n",
       "DOB          5647\n",
       "Gender       5645\n",
       "city_code    5645\n",
       "dtype: int64"
      ]
     },
     "execution_count": 8,
     "metadata": {},
     "output_type": "execute_result"
    }
   ],
   "source": [
    "cust.count()"
   ]
  },
  {
   "cell_type": "code",
   "execution_count": 9,
   "id": "aaec2c5a",
   "metadata": {},
   "outputs": [
    {
     "data": {
      "text/plain": [
       "cust_id      0\n",
       "DOB          0\n",
       "Gender       2\n",
       "city_code    2\n",
       "dtype: int64"
      ]
     },
     "execution_count": 9,
     "metadata": {},
     "output_type": "execute_result"
    }
   ],
   "source": [
    "cust.isnull().sum()"
   ]
  },
  {
   "cell_type": "code",
   "execution_count": 10,
   "id": "ef2b75ae",
   "metadata": {},
   "outputs": [
    {
     "data": {
      "text/plain": [
       "(5647, 4)"
      ]
     },
     "execution_count": 10,
     "metadata": {},
     "output_type": "execute_result"
    }
   ],
   "source": [
    "cust.shape"
   ]
  },
  {
   "cell_type": "code",
   "execution_count": 11,
   "id": "e4ecf221",
   "metadata": {},
   "outputs": [
    {
     "data": {
      "text/plain": [
       "RangeIndex(start=0, stop=5647, step=1)"
      ]
     },
     "execution_count": 11,
     "metadata": {},
     "output_type": "execute_result"
    }
   ],
   "source": [
    "cust.index"
   ]
  },
  {
   "cell_type": "code",
   "execution_count": 12,
   "id": "dc260680",
   "metadata": {},
   "outputs": [],
   "source": [
    "# Dataset II"
   ]
  },
  {
   "cell_type": "code",
   "execution_count": 13,
   "id": "a25cd8e5",
   "metadata": {},
   "outputs": [],
   "source": [
    "pcat= pd.read_csv(\"prod_cat_info.csv\")"
   ]
  },
  {
   "cell_type": "code",
   "execution_count": 14,
   "id": "b9e13900",
   "metadata": {},
   "outputs": [
    {
     "data": {
      "text/html": [
       "<div>\n",
       "<style scoped>\n",
       "    .dataframe tbody tr th:only-of-type {\n",
       "        vertical-align: middle;\n",
       "    }\n",
       "\n",
       "    .dataframe tbody tr th {\n",
       "        vertical-align: top;\n",
       "    }\n",
       "\n",
       "    .dataframe thead th {\n",
       "        text-align: right;\n",
       "    }\n",
       "</style>\n",
       "<table border=\"1\" class=\"dataframe\">\n",
       "  <thead>\n",
       "    <tr style=\"text-align: right;\">\n",
       "      <th></th>\n",
       "      <th>prod_cat_code</th>\n",
       "      <th>prod_cat</th>\n",
       "      <th>prod_sub_cat_code</th>\n",
       "      <th>prod_subcat</th>\n",
       "    </tr>\n",
       "  </thead>\n",
       "  <tbody>\n",
       "    <tr>\n",
       "      <th>0</th>\n",
       "      <td>1</td>\n",
       "      <td>Clothing</td>\n",
       "      <td>4</td>\n",
       "      <td>Mens</td>\n",
       "    </tr>\n",
       "    <tr>\n",
       "      <th>1</th>\n",
       "      <td>1</td>\n",
       "      <td>Clothing</td>\n",
       "      <td>1</td>\n",
       "      <td>Women</td>\n",
       "    </tr>\n",
       "    <tr>\n",
       "      <th>2</th>\n",
       "      <td>1</td>\n",
       "      <td>Clothing</td>\n",
       "      <td>3</td>\n",
       "      <td>Kids</td>\n",
       "    </tr>\n",
       "    <tr>\n",
       "      <th>3</th>\n",
       "      <td>2</td>\n",
       "      <td>Footwear</td>\n",
       "      <td>1</td>\n",
       "      <td>Mens</td>\n",
       "    </tr>\n",
       "    <tr>\n",
       "      <th>4</th>\n",
       "      <td>2</td>\n",
       "      <td>Footwear</td>\n",
       "      <td>3</td>\n",
       "      <td>Women</td>\n",
       "    </tr>\n",
       "  </tbody>\n",
       "</table>\n",
       "</div>"
      ],
      "text/plain": [
       "   prod_cat_code  prod_cat  prod_sub_cat_code prod_subcat\n",
       "0              1  Clothing                  4        Mens\n",
       "1              1  Clothing                  1       Women\n",
       "2              1  Clothing                  3        Kids\n",
       "3              2  Footwear                  1        Mens\n",
       "4              2  Footwear                  3       Women"
      ]
     },
     "execution_count": 14,
     "metadata": {},
     "output_type": "execute_result"
    }
   ],
   "source": [
    "pcat.head()"
   ]
  },
  {
   "cell_type": "code",
   "execution_count": 15,
   "id": "ab157d45",
   "metadata": {},
   "outputs": [
    {
     "name": "stdout",
     "output_type": "stream",
     "text": [
      "<class 'pandas.core.frame.DataFrame'>\n",
      "RangeIndex: 23 entries, 0 to 22\n",
      "Data columns (total 4 columns):\n",
      " #   Column             Non-Null Count  Dtype \n",
      "---  ------             --------------  ----- \n",
      " 0   prod_cat_code      23 non-null     int64 \n",
      " 1   prod_cat           23 non-null     object\n",
      " 2   prod_sub_cat_code  23 non-null     int64 \n",
      " 3   prod_subcat        23 non-null     object\n",
      "dtypes: int64(2), object(2)\n",
      "memory usage: 864.0+ bytes\n"
     ]
    }
   ],
   "source": [
    "pcat.info()"
   ]
  },
  {
   "cell_type": "code",
   "execution_count": 16,
   "id": "29272b61",
   "metadata": {},
   "outputs": [
    {
     "data": {
      "text/plain": [
       "Index(['prod_cat_code', 'prod_cat', 'prod_sub_cat_code', 'prod_subcat'], dtype='object')"
      ]
     },
     "execution_count": 16,
     "metadata": {},
     "output_type": "execute_result"
    }
   ],
   "source": [
    "pcat.columns"
   ]
  },
  {
   "cell_type": "code",
   "execution_count": 17,
   "id": "9d1d8cb3",
   "metadata": {},
   "outputs": [
    {
     "data": {
      "text/plain": [
       "prod_cat_code        23\n",
       "prod_cat             23\n",
       "prod_sub_cat_code    23\n",
       "prod_subcat          23\n",
       "dtype: int64"
      ]
     },
     "execution_count": 17,
     "metadata": {},
     "output_type": "execute_result"
    }
   ],
   "source": [
    "pcat.count()"
   ]
  },
  {
   "cell_type": "code",
   "execution_count": 18,
   "id": "47b79620",
   "metadata": {},
   "outputs": [
    {
     "data": {
      "text/plain": [
       "prod_cat_code        0\n",
       "prod_cat             0\n",
       "prod_sub_cat_code    0\n",
       "prod_subcat          0\n",
       "dtype: int64"
      ]
     },
     "execution_count": 18,
     "metadata": {},
     "output_type": "execute_result"
    }
   ],
   "source": [
    "pcat.isnull().sum()"
   ]
  },
  {
   "cell_type": "code",
   "execution_count": 19,
   "id": "ef3c1302",
   "metadata": {},
   "outputs": [
    {
     "data": {
      "text/plain": [
       "(23, 4)"
      ]
     },
     "execution_count": 19,
     "metadata": {},
     "output_type": "execute_result"
    }
   ],
   "source": [
    "pcat.shape"
   ]
  },
  {
   "cell_type": "code",
   "execution_count": 20,
   "id": "cbad2901",
   "metadata": {},
   "outputs": [
    {
     "data": {
      "text/plain": [
       "RangeIndex(start=0, stop=23, step=1)"
      ]
     },
     "execution_count": 20,
     "metadata": {},
     "output_type": "execute_result"
    }
   ],
   "source": [
    "pcat.index"
   ]
  },
  {
   "cell_type": "code",
   "execution_count": 21,
   "id": "63a69bfd",
   "metadata": {},
   "outputs": [],
   "source": [
    "# Dataset III"
   ]
  },
  {
   "cell_type": "code",
   "execution_count": 22,
   "id": "7299458c",
   "metadata": {},
   "outputs": [],
   "source": [
    "trans= pd.read_csv(\"Transactions.csv\")"
   ]
  },
  {
   "cell_type": "code",
   "execution_count": 23,
   "id": "ad3fb35c",
   "metadata": {},
   "outputs": [
    {
     "data": {
      "text/html": [
       "<div>\n",
       "<style scoped>\n",
       "    .dataframe tbody tr th:only-of-type {\n",
       "        vertical-align: middle;\n",
       "    }\n",
       "\n",
       "    .dataframe tbody tr th {\n",
       "        vertical-align: top;\n",
       "    }\n",
       "\n",
       "    .dataframe thead th {\n",
       "        text-align: right;\n",
       "    }\n",
       "</style>\n",
       "<table border=\"1\" class=\"dataframe\">\n",
       "  <thead>\n",
       "    <tr style=\"text-align: right;\">\n",
       "      <th></th>\n",
       "      <th>transaction_id</th>\n",
       "      <th>cust_id</th>\n",
       "      <th>tran_date</th>\n",
       "      <th>prod_sub_cat_code</th>\n",
       "      <th>prod_cat_code</th>\n",
       "      <th>Qty</th>\n",
       "      <th>Rate</th>\n",
       "      <th>Tax</th>\n",
       "      <th>total_amt</th>\n",
       "      <th>Store_type</th>\n",
       "    </tr>\n",
       "  </thead>\n",
       "  <tbody>\n",
       "    <tr>\n",
       "      <th>0</th>\n",
       "      <td>80712190438</td>\n",
       "      <td>270351</td>\n",
       "      <td>28-02-2014</td>\n",
       "      <td>1</td>\n",
       "      <td>1</td>\n",
       "      <td>-5</td>\n",
       "      <td>-772</td>\n",
       "      <td>405.300</td>\n",
       "      <td>-4265.300</td>\n",
       "      <td>e-Shop</td>\n",
       "    </tr>\n",
       "    <tr>\n",
       "      <th>1</th>\n",
       "      <td>29258453508</td>\n",
       "      <td>270384</td>\n",
       "      <td>27-02-2014</td>\n",
       "      <td>5</td>\n",
       "      <td>3</td>\n",
       "      <td>-5</td>\n",
       "      <td>-1497</td>\n",
       "      <td>785.925</td>\n",
       "      <td>-8270.925</td>\n",
       "      <td>e-Shop</td>\n",
       "    </tr>\n",
       "    <tr>\n",
       "      <th>2</th>\n",
       "      <td>51750724947</td>\n",
       "      <td>273420</td>\n",
       "      <td>24-02-2014</td>\n",
       "      <td>6</td>\n",
       "      <td>5</td>\n",
       "      <td>-2</td>\n",
       "      <td>-791</td>\n",
       "      <td>166.110</td>\n",
       "      <td>-1748.110</td>\n",
       "      <td>TeleShop</td>\n",
       "    </tr>\n",
       "    <tr>\n",
       "      <th>3</th>\n",
       "      <td>93274880719</td>\n",
       "      <td>271509</td>\n",
       "      <td>24-02-2014</td>\n",
       "      <td>11</td>\n",
       "      <td>6</td>\n",
       "      <td>-3</td>\n",
       "      <td>-1363</td>\n",
       "      <td>429.345</td>\n",
       "      <td>-4518.345</td>\n",
       "      <td>e-Shop</td>\n",
       "    </tr>\n",
       "    <tr>\n",
       "      <th>4</th>\n",
       "      <td>51750724947</td>\n",
       "      <td>273420</td>\n",
       "      <td>23-02-2014</td>\n",
       "      <td>6</td>\n",
       "      <td>5</td>\n",
       "      <td>-2</td>\n",
       "      <td>-791</td>\n",
       "      <td>166.110</td>\n",
       "      <td>-1748.110</td>\n",
       "      <td>TeleShop</td>\n",
       "    </tr>\n",
       "  </tbody>\n",
       "</table>\n",
       "</div>"
      ],
      "text/plain": [
       "   transaction_id  cust_id   tran_date  prod_sub_cat_code  prod_cat_code  Qty  \\\n",
       "0     80712190438   270351  28-02-2014                  1              1   -5   \n",
       "1     29258453508   270384  27-02-2014                  5              3   -5   \n",
       "2     51750724947   273420  24-02-2014                  6              5   -2   \n",
       "3     93274880719   271509  24-02-2014                 11              6   -3   \n",
       "4     51750724947   273420  23-02-2014                  6              5   -2   \n",
       "\n",
       "   Rate      Tax  total_amt Store_type  \n",
       "0  -772  405.300  -4265.300     e-Shop  \n",
       "1 -1497  785.925  -8270.925     e-Shop  \n",
       "2  -791  166.110  -1748.110   TeleShop  \n",
       "3 -1363  429.345  -4518.345     e-Shop  \n",
       "4  -791  166.110  -1748.110   TeleShop  "
      ]
     },
     "execution_count": 23,
     "metadata": {},
     "output_type": "execute_result"
    }
   ],
   "source": [
    "trans.head()"
   ]
  },
  {
   "cell_type": "code",
   "execution_count": 24,
   "id": "f388da1c",
   "metadata": {},
   "outputs": [
    {
     "name": "stdout",
     "output_type": "stream",
     "text": [
      "<class 'pandas.core.frame.DataFrame'>\n",
      "RangeIndex: 23053 entries, 0 to 23052\n",
      "Data columns (total 10 columns):\n",
      " #   Column             Non-Null Count  Dtype  \n",
      "---  ------             --------------  -----  \n",
      " 0   transaction_id     23053 non-null  int64  \n",
      " 1   cust_id            23053 non-null  int64  \n",
      " 2   tran_date          23053 non-null  object \n",
      " 3   prod_sub_cat_code  23053 non-null  int64  \n",
      " 4   prod_cat_code      23053 non-null  int64  \n",
      " 5   Qty                23053 non-null  int64  \n",
      " 6   Rate               23053 non-null  int64  \n",
      " 7   Tax                23053 non-null  float64\n",
      " 8   total_amt          23053 non-null  float64\n",
      " 9   Store_type         23053 non-null  object \n",
      "dtypes: float64(2), int64(6), object(2)\n",
      "memory usage: 1.8+ MB\n"
     ]
    }
   ],
   "source": [
    "trans.info()"
   ]
  },
  {
   "cell_type": "code",
   "execution_count": 25,
   "id": "9440884c",
   "metadata": {},
   "outputs": [
    {
     "data": {
      "text/plain": [
       "Index(['transaction_id', 'cust_id', 'tran_date', 'prod_sub_cat_code',\n",
       "       'prod_cat_code', 'Qty', 'Rate', 'Tax', 'total_amt', 'Store_type'],\n",
       "      dtype='object')"
      ]
     },
     "execution_count": 25,
     "metadata": {},
     "output_type": "execute_result"
    }
   ],
   "source": [
    "trans.columns"
   ]
  },
  {
   "cell_type": "code",
   "execution_count": 26,
   "id": "b2985083",
   "metadata": {},
   "outputs": [
    {
     "data": {
      "text/plain": [
       "transaction_id       23053\n",
       "cust_id              23053\n",
       "tran_date            23053\n",
       "prod_sub_cat_code    23053\n",
       "prod_cat_code        23053\n",
       "Qty                  23053\n",
       "Rate                 23053\n",
       "Tax                  23053\n",
       "total_amt            23053\n",
       "Store_type           23053\n",
       "dtype: int64"
      ]
     },
     "execution_count": 26,
     "metadata": {},
     "output_type": "execute_result"
    }
   ],
   "source": [
    "trans.count()"
   ]
  },
  {
   "cell_type": "code",
   "execution_count": 27,
   "id": "dbf3a583",
   "metadata": {},
   "outputs": [
    {
     "data": {
      "text/plain": [
       "transaction_id       0\n",
       "cust_id              0\n",
       "tran_date            0\n",
       "prod_sub_cat_code    0\n",
       "prod_cat_code        0\n",
       "Qty                  0\n",
       "Rate                 0\n",
       "Tax                  0\n",
       "total_amt            0\n",
       "Store_type           0\n",
       "dtype: int64"
      ]
     },
     "execution_count": 27,
     "metadata": {},
     "output_type": "execute_result"
    }
   ],
   "source": [
    "trans.isnull().sum()"
   ]
  },
  {
   "cell_type": "code",
   "execution_count": 28,
   "id": "0cd6aa01",
   "metadata": {},
   "outputs": [
    {
     "data": {
      "text/plain": [
       "(23053, 10)"
      ]
     },
     "execution_count": 28,
     "metadata": {},
     "output_type": "execute_result"
    }
   ],
   "source": [
    "trans.shape"
   ]
  },
  {
   "cell_type": "code",
   "execution_count": 29,
   "id": "5bdd7249",
   "metadata": {},
   "outputs": [
    {
     "data": {
      "text/plain": [
       "RangeIndex(start=0, stop=23053, step=1)"
      ]
     },
     "execution_count": 29,
     "metadata": {},
     "output_type": "execute_result"
    }
   ],
   "source": [
    "trans.index"
   ]
  },
  {
   "cell_type": "markdown",
   "id": "20572126",
   "metadata": {},
   "source": [
    "# 1. Merge the datasets Customers, Product Hierarchy and Transactions "
   ]
  },
  {
   "cell_type": "code",
   "execution_count": 30,
   "id": "b31acb32",
   "metadata": {},
   "outputs": [],
   "source": [
    "# Concatinating the datasets into one dataframe"
   ]
  },
  {
   "cell_type": "code",
   "execution_count": 31,
   "id": "2d9a36b2",
   "metadata": {},
   "outputs": [],
   "source": [
    "# Merging the Product_Category_Info with Transactions info into new dataset while considering the product_codes as primary keys\n",
    "\n",
    "\n",
    "pt= pd.merge(left=trans, right= pcat, on= [\"prod_cat_code\", \"prod_sub_cat_code\"], how= \"left\")"
   ]
  },
  {
   "cell_type": "code",
   "execution_count": 32,
   "id": "b13ecd4d",
   "metadata": {},
   "outputs": [
    {
     "data": {
      "text/html": [
       "<div>\n",
       "<style scoped>\n",
       "    .dataframe tbody tr th:only-of-type {\n",
       "        vertical-align: middle;\n",
       "    }\n",
       "\n",
       "    .dataframe tbody tr th {\n",
       "        vertical-align: top;\n",
       "    }\n",
       "\n",
       "    .dataframe thead th {\n",
       "        text-align: right;\n",
       "    }\n",
       "</style>\n",
       "<table border=\"1\" class=\"dataframe\">\n",
       "  <thead>\n",
       "    <tr style=\"text-align: right;\">\n",
       "      <th></th>\n",
       "      <th>transaction_id</th>\n",
       "      <th>cust_id</th>\n",
       "      <th>tran_date</th>\n",
       "      <th>prod_sub_cat_code</th>\n",
       "      <th>prod_cat_code</th>\n",
       "      <th>Qty</th>\n",
       "      <th>Rate</th>\n",
       "      <th>Tax</th>\n",
       "      <th>total_amt</th>\n",
       "      <th>Store_type</th>\n",
       "      <th>prod_cat</th>\n",
       "      <th>prod_subcat</th>\n",
       "    </tr>\n",
       "  </thead>\n",
       "  <tbody>\n",
       "    <tr>\n",
       "      <th>0</th>\n",
       "      <td>80712190438</td>\n",
       "      <td>270351</td>\n",
       "      <td>28-02-2014</td>\n",
       "      <td>1</td>\n",
       "      <td>1</td>\n",
       "      <td>-5</td>\n",
       "      <td>-772</td>\n",
       "      <td>405.300</td>\n",
       "      <td>-4265.300</td>\n",
       "      <td>e-Shop</td>\n",
       "      <td>Clothing</td>\n",
       "      <td>Women</td>\n",
       "    </tr>\n",
       "    <tr>\n",
       "      <th>1</th>\n",
       "      <td>29258453508</td>\n",
       "      <td>270384</td>\n",
       "      <td>27-02-2014</td>\n",
       "      <td>5</td>\n",
       "      <td>3</td>\n",
       "      <td>-5</td>\n",
       "      <td>-1497</td>\n",
       "      <td>785.925</td>\n",
       "      <td>-8270.925</td>\n",
       "      <td>e-Shop</td>\n",
       "      <td>Electronics</td>\n",
       "      <td>Computers</td>\n",
       "    </tr>\n",
       "    <tr>\n",
       "      <th>2</th>\n",
       "      <td>51750724947</td>\n",
       "      <td>273420</td>\n",
       "      <td>24-02-2014</td>\n",
       "      <td>6</td>\n",
       "      <td>5</td>\n",
       "      <td>-2</td>\n",
       "      <td>-791</td>\n",
       "      <td>166.110</td>\n",
       "      <td>-1748.110</td>\n",
       "      <td>TeleShop</td>\n",
       "      <td>Books</td>\n",
       "      <td>DIY</td>\n",
       "    </tr>\n",
       "    <tr>\n",
       "      <th>3</th>\n",
       "      <td>93274880719</td>\n",
       "      <td>271509</td>\n",
       "      <td>24-02-2014</td>\n",
       "      <td>11</td>\n",
       "      <td>6</td>\n",
       "      <td>-3</td>\n",
       "      <td>-1363</td>\n",
       "      <td>429.345</td>\n",
       "      <td>-4518.345</td>\n",
       "      <td>e-Shop</td>\n",
       "      <td>Home and kitchen</td>\n",
       "      <td>Bath</td>\n",
       "    </tr>\n",
       "    <tr>\n",
       "      <th>4</th>\n",
       "      <td>51750724947</td>\n",
       "      <td>273420</td>\n",
       "      <td>23-02-2014</td>\n",
       "      <td>6</td>\n",
       "      <td>5</td>\n",
       "      <td>-2</td>\n",
       "      <td>-791</td>\n",
       "      <td>166.110</td>\n",
       "      <td>-1748.110</td>\n",
       "      <td>TeleShop</td>\n",
       "      <td>Books</td>\n",
       "      <td>DIY</td>\n",
       "    </tr>\n",
       "  </tbody>\n",
       "</table>\n",
       "</div>"
      ],
      "text/plain": [
       "   transaction_id  cust_id   tran_date  prod_sub_cat_code  prod_cat_code  Qty  \\\n",
       "0     80712190438   270351  28-02-2014                  1              1   -5   \n",
       "1     29258453508   270384  27-02-2014                  5              3   -5   \n",
       "2     51750724947   273420  24-02-2014                  6              5   -2   \n",
       "3     93274880719   271509  24-02-2014                 11              6   -3   \n",
       "4     51750724947   273420  23-02-2014                  6              5   -2   \n",
       "\n",
       "   Rate      Tax  total_amt Store_type          prod_cat prod_subcat  \n",
       "0  -772  405.300  -4265.300     e-Shop          Clothing       Women  \n",
       "1 -1497  785.925  -8270.925     e-Shop       Electronics   Computers  \n",
       "2  -791  166.110  -1748.110   TeleShop             Books         DIY  \n",
       "3 -1363  429.345  -4518.345     e-Shop  Home and kitchen        Bath  \n",
       "4  -791  166.110  -1748.110   TeleShop             Books         DIY  "
      ]
     },
     "execution_count": 32,
     "metadata": {},
     "output_type": "execute_result"
    }
   ],
   "source": [
    "pt.head()"
   ]
  },
  {
   "cell_type": "code",
   "execution_count": 33,
   "id": "02124439",
   "metadata": {},
   "outputs": [
    {
     "data": {
      "text/plain": [
       "(23053, 12)"
      ]
     },
     "execution_count": 33,
     "metadata": {},
     "output_type": "execute_result"
    }
   ],
   "source": [
    "pt.shape"
   ]
  },
  {
   "cell_type": "code",
   "execution_count": 34,
   "id": "c21b4bcf",
   "metadata": {},
   "outputs": [
    {
     "data": {
      "text/plain": [
       "Index(['transaction_id', 'cust_id', 'tran_date', 'prod_sub_cat_code',\n",
       "       'prod_cat_code', 'Qty', 'Rate', 'Tax', 'total_amt', 'Store_type',\n",
       "       'prod_cat', 'prod_subcat'],\n",
       "      dtype='object')"
      ]
     },
     "execution_count": 34,
     "metadata": {},
     "output_type": "execute_result"
    }
   ],
   "source": [
    "pt.columns"
   ]
  },
  {
   "cell_type": "code",
   "execution_count": 35,
   "id": "e1e8a88b",
   "metadata": {},
   "outputs": [
    {
     "data": {
      "text/plain": [
       "transaction_id       23053\n",
       "cust_id              23053\n",
       "tran_date            23053\n",
       "prod_sub_cat_code    23053\n",
       "prod_cat_code        23053\n",
       "Qty                  23053\n",
       "Rate                 23053\n",
       "Tax                  23053\n",
       "total_amt            23053\n",
       "Store_type           23053\n",
       "prod_cat             23053\n",
       "prod_subcat          23053\n",
       "dtype: int64"
      ]
     },
     "execution_count": 35,
     "metadata": {},
     "output_type": "execute_result"
    }
   ],
   "source": [
    "pt.count()"
   ]
  },
  {
   "cell_type": "code",
   "execution_count": 36,
   "id": "894b1b8f",
   "metadata": {},
   "outputs": [
    {
     "data": {
      "text/plain": [
       "transaction_id       0\n",
       "cust_id              0\n",
       "tran_date            0\n",
       "prod_sub_cat_code    0\n",
       "prod_cat_code        0\n",
       "Qty                  0\n",
       "Rate                 0\n",
       "Tax                  0\n",
       "total_amt            0\n",
       "Store_type           0\n",
       "prod_cat             0\n",
       "prod_subcat          0\n",
       "dtype: int64"
      ]
     },
     "execution_count": 36,
     "metadata": {},
     "output_type": "execute_result"
    }
   ],
   "source": [
    "pt.isnull().sum()"
   ]
  },
  {
   "cell_type": "code",
   "execution_count": 37,
   "id": "d56785b0",
   "metadata": {},
   "outputs": [],
   "source": [
    "# Merging the newly formed dataset with customers info taking customer Id as primary key \n",
    "df= pd.merge(left= pt, right=cust, on= [\"cust_id\"], how=\"left\")"
   ]
  },
  {
   "cell_type": "code",
   "execution_count": 38,
   "id": "84711263",
   "metadata": {},
   "outputs": [
    {
     "data": {
      "text/html": [
       "<div>\n",
       "<style scoped>\n",
       "    .dataframe tbody tr th:only-of-type {\n",
       "        vertical-align: middle;\n",
       "    }\n",
       "\n",
       "    .dataframe tbody tr th {\n",
       "        vertical-align: top;\n",
       "    }\n",
       "\n",
       "    .dataframe thead th {\n",
       "        text-align: right;\n",
       "    }\n",
       "</style>\n",
       "<table border=\"1\" class=\"dataframe\">\n",
       "  <thead>\n",
       "    <tr style=\"text-align: right;\">\n",
       "      <th></th>\n",
       "      <th>transaction_id</th>\n",
       "      <th>cust_id</th>\n",
       "      <th>tran_date</th>\n",
       "      <th>prod_sub_cat_code</th>\n",
       "      <th>prod_cat_code</th>\n",
       "      <th>Qty</th>\n",
       "      <th>Rate</th>\n",
       "      <th>Tax</th>\n",
       "      <th>total_amt</th>\n",
       "      <th>Store_type</th>\n",
       "      <th>prod_cat</th>\n",
       "      <th>prod_subcat</th>\n",
       "      <th>DOB</th>\n",
       "      <th>Gender</th>\n",
       "      <th>city_code</th>\n",
       "    </tr>\n",
       "  </thead>\n",
       "  <tbody>\n",
       "    <tr>\n",
       "      <th>0</th>\n",
       "      <td>80712190438</td>\n",
       "      <td>270351</td>\n",
       "      <td>28-02-2014</td>\n",
       "      <td>1</td>\n",
       "      <td>1</td>\n",
       "      <td>-5</td>\n",
       "      <td>-772</td>\n",
       "      <td>405.300</td>\n",
       "      <td>-4265.300</td>\n",
       "      <td>e-Shop</td>\n",
       "      <td>Clothing</td>\n",
       "      <td>Women</td>\n",
       "      <td>26-09-1981</td>\n",
       "      <td>M</td>\n",
       "      <td>5.0</td>\n",
       "    </tr>\n",
       "    <tr>\n",
       "      <th>1</th>\n",
       "      <td>29258453508</td>\n",
       "      <td>270384</td>\n",
       "      <td>27-02-2014</td>\n",
       "      <td>5</td>\n",
       "      <td>3</td>\n",
       "      <td>-5</td>\n",
       "      <td>-1497</td>\n",
       "      <td>785.925</td>\n",
       "      <td>-8270.925</td>\n",
       "      <td>e-Shop</td>\n",
       "      <td>Electronics</td>\n",
       "      <td>Computers</td>\n",
       "      <td>11-05-1973</td>\n",
       "      <td>F</td>\n",
       "      <td>8.0</td>\n",
       "    </tr>\n",
       "    <tr>\n",
       "      <th>2</th>\n",
       "      <td>51750724947</td>\n",
       "      <td>273420</td>\n",
       "      <td>24-02-2014</td>\n",
       "      <td>6</td>\n",
       "      <td>5</td>\n",
       "      <td>-2</td>\n",
       "      <td>-791</td>\n",
       "      <td>166.110</td>\n",
       "      <td>-1748.110</td>\n",
       "      <td>TeleShop</td>\n",
       "      <td>Books</td>\n",
       "      <td>DIY</td>\n",
       "      <td>27-07-1992</td>\n",
       "      <td>M</td>\n",
       "      <td>8.0</td>\n",
       "    </tr>\n",
       "    <tr>\n",
       "      <th>3</th>\n",
       "      <td>93274880719</td>\n",
       "      <td>271509</td>\n",
       "      <td>24-02-2014</td>\n",
       "      <td>11</td>\n",
       "      <td>6</td>\n",
       "      <td>-3</td>\n",
       "      <td>-1363</td>\n",
       "      <td>429.345</td>\n",
       "      <td>-4518.345</td>\n",
       "      <td>e-Shop</td>\n",
       "      <td>Home and kitchen</td>\n",
       "      <td>Bath</td>\n",
       "      <td>08-06-1981</td>\n",
       "      <td>M</td>\n",
       "      <td>3.0</td>\n",
       "    </tr>\n",
       "    <tr>\n",
       "      <th>4</th>\n",
       "      <td>51750724947</td>\n",
       "      <td>273420</td>\n",
       "      <td>23-02-2014</td>\n",
       "      <td>6</td>\n",
       "      <td>5</td>\n",
       "      <td>-2</td>\n",
       "      <td>-791</td>\n",
       "      <td>166.110</td>\n",
       "      <td>-1748.110</td>\n",
       "      <td>TeleShop</td>\n",
       "      <td>Books</td>\n",
       "      <td>DIY</td>\n",
       "      <td>27-07-1992</td>\n",
       "      <td>M</td>\n",
       "      <td>8.0</td>\n",
       "    </tr>\n",
       "    <tr>\n",
       "      <th>...</th>\n",
       "      <td>...</td>\n",
       "      <td>...</td>\n",
       "      <td>...</td>\n",
       "      <td>...</td>\n",
       "      <td>...</td>\n",
       "      <td>...</td>\n",
       "      <td>...</td>\n",
       "      <td>...</td>\n",
       "      <td>...</td>\n",
       "      <td>...</td>\n",
       "      <td>...</td>\n",
       "      <td>...</td>\n",
       "      <td>...</td>\n",
       "      <td>...</td>\n",
       "      <td>...</td>\n",
       "    </tr>\n",
       "    <tr>\n",
       "      <th>23048</th>\n",
       "      <td>94340757522</td>\n",
       "      <td>274550</td>\n",
       "      <td>25-01-2011</td>\n",
       "      <td>12</td>\n",
       "      <td>5</td>\n",
       "      <td>1</td>\n",
       "      <td>1264</td>\n",
       "      <td>132.720</td>\n",
       "      <td>1396.720</td>\n",
       "      <td>e-Shop</td>\n",
       "      <td>Books</td>\n",
       "      <td>Academic</td>\n",
       "      <td>21-02-1972</td>\n",
       "      <td>M</td>\n",
       "      <td>7.0</td>\n",
       "    </tr>\n",
       "    <tr>\n",
       "      <th>23049</th>\n",
       "      <td>89780862956</td>\n",
       "      <td>270022</td>\n",
       "      <td>25-01-2011</td>\n",
       "      <td>4</td>\n",
       "      <td>1</td>\n",
       "      <td>1</td>\n",
       "      <td>677</td>\n",
       "      <td>71.085</td>\n",
       "      <td>748.085</td>\n",
       "      <td>e-Shop</td>\n",
       "      <td>Clothing</td>\n",
       "      <td>Mens</td>\n",
       "      <td>27-04-1984</td>\n",
       "      <td>M</td>\n",
       "      <td>9.0</td>\n",
       "    </tr>\n",
       "    <tr>\n",
       "      <th>23050</th>\n",
       "      <td>85115299378</td>\n",
       "      <td>271020</td>\n",
       "      <td>25-01-2011</td>\n",
       "      <td>2</td>\n",
       "      <td>6</td>\n",
       "      <td>4</td>\n",
       "      <td>1052</td>\n",
       "      <td>441.840</td>\n",
       "      <td>4649.840</td>\n",
       "      <td>MBR</td>\n",
       "      <td>Home and kitchen</td>\n",
       "      <td>Furnishing</td>\n",
       "      <td>20-06-1976</td>\n",
       "      <td>M</td>\n",
       "      <td>8.0</td>\n",
       "    </tr>\n",
       "    <tr>\n",
       "      <th>23051</th>\n",
       "      <td>72870271171</td>\n",
       "      <td>270911</td>\n",
       "      <td>25-01-2011</td>\n",
       "      <td>11</td>\n",
       "      <td>5</td>\n",
       "      <td>3</td>\n",
       "      <td>1142</td>\n",
       "      <td>359.730</td>\n",
       "      <td>3785.730</td>\n",
       "      <td>TeleShop</td>\n",
       "      <td>Books</td>\n",
       "      <td>Children</td>\n",
       "      <td>22-05-1970</td>\n",
       "      <td>M</td>\n",
       "      <td>2.0</td>\n",
       "    </tr>\n",
       "    <tr>\n",
       "      <th>23052</th>\n",
       "      <td>77960931771</td>\n",
       "      <td>271961</td>\n",
       "      <td>25-01-2011</td>\n",
       "      <td>11</td>\n",
       "      <td>5</td>\n",
       "      <td>1</td>\n",
       "      <td>447</td>\n",
       "      <td>46.935</td>\n",
       "      <td>493.935</td>\n",
       "      <td>TeleShop</td>\n",
       "      <td>Books</td>\n",
       "      <td>Children</td>\n",
       "      <td>15-01-1982</td>\n",
       "      <td>M</td>\n",
       "      <td>1.0</td>\n",
       "    </tr>\n",
       "  </tbody>\n",
       "</table>\n",
       "<p>23053 rows × 15 columns</p>\n",
       "</div>"
      ],
      "text/plain": [
       "       transaction_id  cust_id   tran_date  prod_sub_cat_code  prod_cat_code  \\\n",
       "0         80712190438   270351  28-02-2014                  1              1   \n",
       "1         29258453508   270384  27-02-2014                  5              3   \n",
       "2         51750724947   273420  24-02-2014                  6              5   \n",
       "3         93274880719   271509  24-02-2014                 11              6   \n",
       "4         51750724947   273420  23-02-2014                  6              5   \n",
       "...               ...      ...         ...                ...            ...   \n",
       "23048     94340757522   274550  25-01-2011                 12              5   \n",
       "23049     89780862956   270022  25-01-2011                  4              1   \n",
       "23050     85115299378   271020  25-01-2011                  2              6   \n",
       "23051     72870271171   270911  25-01-2011                 11              5   \n",
       "23052     77960931771   271961  25-01-2011                 11              5   \n",
       "\n",
       "       Qty  Rate      Tax  total_amt Store_type          prod_cat prod_subcat  \\\n",
       "0       -5  -772  405.300  -4265.300     e-Shop          Clothing       Women   \n",
       "1       -5 -1497  785.925  -8270.925     e-Shop       Electronics   Computers   \n",
       "2       -2  -791  166.110  -1748.110   TeleShop             Books         DIY   \n",
       "3       -3 -1363  429.345  -4518.345     e-Shop  Home and kitchen        Bath   \n",
       "4       -2  -791  166.110  -1748.110   TeleShop             Books         DIY   \n",
       "...    ...   ...      ...        ...        ...               ...         ...   \n",
       "23048    1  1264  132.720   1396.720     e-Shop             Books    Academic   \n",
       "23049    1   677   71.085    748.085     e-Shop          Clothing        Mens   \n",
       "23050    4  1052  441.840   4649.840        MBR  Home and kitchen  Furnishing   \n",
       "23051    3  1142  359.730   3785.730   TeleShop             Books    Children   \n",
       "23052    1   447   46.935    493.935   TeleShop             Books    Children   \n",
       "\n",
       "              DOB Gender  city_code  \n",
       "0      26-09-1981      M        5.0  \n",
       "1      11-05-1973      F        8.0  \n",
       "2      27-07-1992      M        8.0  \n",
       "3      08-06-1981      M        3.0  \n",
       "4      27-07-1992      M        8.0  \n",
       "...           ...    ...        ...  \n",
       "23048  21-02-1972      M        7.0  \n",
       "23049  27-04-1984      M        9.0  \n",
       "23050  20-06-1976      M        8.0  \n",
       "23051  22-05-1970      M        2.0  \n",
       "23052  15-01-1982      M        1.0  \n",
       "\n",
       "[23053 rows x 15 columns]"
      ]
     },
     "execution_count": 38,
     "metadata": {},
     "output_type": "execute_result"
    }
   ],
   "source": [
    "df"
   ]
  },
  {
   "cell_type": "code",
   "execution_count": 39,
   "id": "4cf45c84",
   "metadata": {},
   "outputs": [
    {
     "data": {
      "text/plain": [
       "Index(['transaction_id', 'cust_id', 'tran_date', 'prod_sub_cat_code',\n",
       "       'prod_cat_code', 'Qty', 'Rate', 'Tax', 'total_amt', 'Store_type',\n",
       "       'prod_cat', 'prod_subcat', 'DOB', 'Gender', 'city_code'],\n",
       "      dtype='object')"
      ]
     },
     "execution_count": 39,
     "metadata": {},
     "output_type": "execute_result"
    }
   ],
   "source": [
    "df.columns"
   ]
  },
  {
   "cell_type": "code",
   "execution_count": 40,
   "id": "bcb743e1",
   "metadata": {},
   "outputs": [
    {
     "data": {
      "text/plain": [
       "(23053, 15)"
      ]
     },
     "execution_count": 40,
     "metadata": {},
     "output_type": "execute_result"
    }
   ],
   "source": [
    "df.shape"
   ]
  },
  {
   "cell_type": "markdown",
   "id": "8069f34f",
   "metadata": {},
   "source": [
    "# 2. Prepare a summary report for the merged data set."
   ]
  },
  {
   "cell_type": "code",
   "execution_count": 41,
   "id": "c5df04d7",
   "metadata": {},
   "outputs": [
    {
     "name": "stdout",
     "output_type": "stream",
     "text": [
      "<class 'pandas.core.frame.DataFrame'>\n",
      "Int64Index: 23053 entries, 0 to 23052\n",
      "Data columns (total 15 columns):\n",
      " #   Column             Non-Null Count  Dtype  \n",
      "---  ------             --------------  -----  \n",
      " 0   transaction_id     23053 non-null  int64  \n",
      " 1   cust_id            23053 non-null  int64  \n",
      " 2   tran_date          23053 non-null  object \n",
      " 3   prod_sub_cat_code  23053 non-null  int64  \n",
      " 4   prod_cat_code      23053 non-null  int64  \n",
      " 5   Qty                23053 non-null  int64  \n",
      " 6   Rate               23053 non-null  int64  \n",
      " 7   Tax                23053 non-null  float64\n",
      " 8   total_amt          23053 non-null  float64\n",
      " 9   Store_type         23053 non-null  object \n",
      " 10  prod_cat           23053 non-null  object \n",
      " 11  prod_subcat        23053 non-null  object \n",
      " 12  DOB                23053 non-null  object \n",
      " 13  Gender             23044 non-null  object \n",
      " 14  city_code          23045 non-null  float64\n",
      "dtypes: float64(3), int64(6), object(6)\n",
      "memory usage: 2.8+ MB\n"
     ]
    }
   ],
   "source": [
    "df.info()"
   ]
  },
  {
   "cell_type": "code",
   "execution_count": 42,
   "id": "44edf8c5",
   "metadata": {},
   "outputs": [
    {
     "data": {
      "text/html": [
       "<div>\n",
       "<style scoped>\n",
       "    .dataframe tbody tr th:only-of-type {\n",
       "        vertical-align: middle;\n",
       "    }\n",
       "\n",
       "    .dataframe tbody tr th {\n",
       "        vertical-align: top;\n",
       "    }\n",
       "\n",
       "    .dataframe thead th {\n",
       "        text-align: right;\n",
       "    }\n",
       "</style>\n",
       "<table border=\"1\" class=\"dataframe\">\n",
       "  <thead>\n",
       "    <tr style=\"text-align: right;\">\n",
       "      <th></th>\n",
       "      <th>transaction_id</th>\n",
       "      <th>cust_id</th>\n",
       "      <th>tran_date</th>\n",
       "      <th>prod_sub_cat_code</th>\n",
       "      <th>prod_cat_code</th>\n",
       "      <th>Qty</th>\n",
       "      <th>Rate</th>\n",
       "      <th>Tax</th>\n",
       "      <th>total_amt</th>\n",
       "      <th>Store_type</th>\n",
       "      <th>prod_cat</th>\n",
       "      <th>prod_subcat</th>\n",
       "      <th>DOB</th>\n",
       "      <th>Gender</th>\n",
       "      <th>city_code</th>\n",
       "    </tr>\n",
       "  </thead>\n",
       "  <tbody>\n",
       "    <tr>\n",
       "      <th>0</th>\n",
       "      <td>80712190438</td>\n",
       "      <td>270351</td>\n",
       "      <td>28-02-2014</td>\n",
       "      <td>1</td>\n",
       "      <td>1</td>\n",
       "      <td>-5</td>\n",
       "      <td>-772</td>\n",
       "      <td>405.300</td>\n",
       "      <td>-4265.300</td>\n",
       "      <td>e-Shop</td>\n",
       "      <td>Clothing</td>\n",
       "      <td>Women</td>\n",
       "      <td>26-09-1981</td>\n",
       "      <td>M</td>\n",
       "      <td>5.0</td>\n",
       "    </tr>\n",
       "    <tr>\n",
       "      <th>1</th>\n",
       "      <td>29258453508</td>\n",
       "      <td>270384</td>\n",
       "      <td>27-02-2014</td>\n",
       "      <td>5</td>\n",
       "      <td>3</td>\n",
       "      <td>-5</td>\n",
       "      <td>-1497</td>\n",
       "      <td>785.925</td>\n",
       "      <td>-8270.925</td>\n",
       "      <td>e-Shop</td>\n",
       "      <td>Electronics</td>\n",
       "      <td>Computers</td>\n",
       "      <td>11-05-1973</td>\n",
       "      <td>F</td>\n",
       "      <td>8.0</td>\n",
       "    </tr>\n",
       "    <tr>\n",
       "      <th>2</th>\n",
       "      <td>51750724947</td>\n",
       "      <td>273420</td>\n",
       "      <td>24-02-2014</td>\n",
       "      <td>6</td>\n",
       "      <td>5</td>\n",
       "      <td>-2</td>\n",
       "      <td>-791</td>\n",
       "      <td>166.110</td>\n",
       "      <td>-1748.110</td>\n",
       "      <td>TeleShop</td>\n",
       "      <td>Books</td>\n",
       "      <td>DIY</td>\n",
       "      <td>27-07-1992</td>\n",
       "      <td>M</td>\n",
       "      <td>8.0</td>\n",
       "    </tr>\n",
       "    <tr>\n",
       "      <th>3</th>\n",
       "      <td>93274880719</td>\n",
       "      <td>271509</td>\n",
       "      <td>24-02-2014</td>\n",
       "      <td>11</td>\n",
       "      <td>6</td>\n",
       "      <td>-3</td>\n",
       "      <td>-1363</td>\n",
       "      <td>429.345</td>\n",
       "      <td>-4518.345</td>\n",
       "      <td>e-Shop</td>\n",
       "      <td>Home and kitchen</td>\n",
       "      <td>Bath</td>\n",
       "      <td>08-06-1981</td>\n",
       "      <td>M</td>\n",
       "      <td>3.0</td>\n",
       "    </tr>\n",
       "    <tr>\n",
       "      <th>4</th>\n",
       "      <td>51750724947</td>\n",
       "      <td>273420</td>\n",
       "      <td>23-02-2014</td>\n",
       "      <td>6</td>\n",
       "      <td>5</td>\n",
       "      <td>-2</td>\n",
       "      <td>-791</td>\n",
       "      <td>166.110</td>\n",
       "      <td>-1748.110</td>\n",
       "      <td>TeleShop</td>\n",
       "      <td>Books</td>\n",
       "      <td>DIY</td>\n",
       "      <td>27-07-1992</td>\n",
       "      <td>M</td>\n",
       "      <td>8.0</td>\n",
       "    </tr>\n",
       "    <tr>\n",
       "      <th>5</th>\n",
       "      <td>97439039119</td>\n",
       "      <td>272357</td>\n",
       "      <td>23-02-2014</td>\n",
       "      <td>8</td>\n",
       "      <td>3</td>\n",
       "      <td>-2</td>\n",
       "      <td>-824</td>\n",
       "      <td>173.040</td>\n",
       "      <td>-1821.040</td>\n",
       "      <td>TeleShop</td>\n",
       "      <td>Electronics</td>\n",
       "      <td>Personal Appliances</td>\n",
       "      <td>09-10-1982</td>\n",
       "      <td>F</td>\n",
       "      <td>6.0</td>\n",
       "    </tr>\n",
       "    <tr>\n",
       "      <th>6</th>\n",
       "      <td>45649838090</td>\n",
       "      <td>273667</td>\n",
       "      <td>22-02-2014</td>\n",
       "      <td>11</td>\n",
       "      <td>6</td>\n",
       "      <td>-1</td>\n",
       "      <td>-1450</td>\n",
       "      <td>152.250</td>\n",
       "      <td>-1602.250</td>\n",
       "      <td>e-Shop</td>\n",
       "      <td>Home and kitchen</td>\n",
       "      <td>Bath</td>\n",
       "      <td>29-05-1981</td>\n",
       "      <td>M</td>\n",
       "      <td>9.0</td>\n",
       "    </tr>\n",
       "    <tr>\n",
       "      <th>7</th>\n",
       "      <td>22643667930</td>\n",
       "      <td>271489</td>\n",
       "      <td>22-02-2014</td>\n",
       "      <td>12</td>\n",
       "      <td>6</td>\n",
       "      <td>-1</td>\n",
       "      <td>-1225</td>\n",
       "      <td>128.625</td>\n",
       "      <td>-1353.625</td>\n",
       "      <td>TeleShop</td>\n",
       "      <td>Home and kitchen</td>\n",
       "      <td>Tools</td>\n",
       "      <td>21-04-1971</td>\n",
       "      <td>M</td>\n",
       "      <td>9.0</td>\n",
       "    </tr>\n",
       "    <tr>\n",
       "      <th>8</th>\n",
       "      <td>79792372943</td>\n",
       "      <td>275108</td>\n",
       "      <td>22-02-2014</td>\n",
       "      <td>3</td>\n",
       "      <td>1</td>\n",
       "      <td>-3</td>\n",
       "      <td>-908</td>\n",
       "      <td>286.020</td>\n",
       "      <td>-3010.020</td>\n",
       "      <td>MBR</td>\n",
       "      <td>Clothing</td>\n",
       "      <td>Kids</td>\n",
       "      <td>04-11-1971</td>\n",
       "      <td>F</td>\n",
       "      <td>8.0</td>\n",
       "    </tr>\n",
       "    <tr>\n",
       "      <th>9</th>\n",
       "      <td>50076728598</td>\n",
       "      <td>269014</td>\n",
       "      <td>21-02-2014</td>\n",
       "      <td>8</td>\n",
       "      <td>3</td>\n",
       "      <td>-4</td>\n",
       "      <td>-581</td>\n",
       "      <td>244.020</td>\n",
       "      <td>-2568.020</td>\n",
       "      <td>e-Shop</td>\n",
       "      <td>Electronics</td>\n",
       "      <td>Personal Appliances</td>\n",
       "      <td>27-11-1979</td>\n",
       "      <td>F</td>\n",
       "      <td>3.0</td>\n",
       "    </tr>\n",
       "  </tbody>\n",
       "</table>\n",
       "</div>"
      ],
      "text/plain": [
       "   transaction_id  cust_id   tran_date  prod_sub_cat_code  prod_cat_code  Qty  \\\n",
       "0     80712190438   270351  28-02-2014                  1              1   -5   \n",
       "1     29258453508   270384  27-02-2014                  5              3   -5   \n",
       "2     51750724947   273420  24-02-2014                  6              5   -2   \n",
       "3     93274880719   271509  24-02-2014                 11              6   -3   \n",
       "4     51750724947   273420  23-02-2014                  6              5   -2   \n",
       "5     97439039119   272357  23-02-2014                  8              3   -2   \n",
       "6     45649838090   273667  22-02-2014                 11              6   -1   \n",
       "7     22643667930   271489  22-02-2014                 12              6   -1   \n",
       "8     79792372943   275108  22-02-2014                  3              1   -3   \n",
       "9     50076728598   269014  21-02-2014                  8              3   -4   \n",
       "\n",
       "   Rate      Tax  total_amt Store_type          prod_cat          prod_subcat  \\\n",
       "0  -772  405.300  -4265.300     e-Shop          Clothing                Women   \n",
       "1 -1497  785.925  -8270.925     e-Shop       Electronics            Computers   \n",
       "2  -791  166.110  -1748.110   TeleShop             Books                  DIY   \n",
       "3 -1363  429.345  -4518.345     e-Shop  Home and kitchen                 Bath   \n",
       "4  -791  166.110  -1748.110   TeleShop             Books                  DIY   \n",
       "5  -824  173.040  -1821.040   TeleShop       Electronics  Personal Appliances   \n",
       "6 -1450  152.250  -1602.250     e-Shop  Home and kitchen                 Bath   \n",
       "7 -1225  128.625  -1353.625   TeleShop  Home and kitchen                Tools   \n",
       "8  -908  286.020  -3010.020        MBR          Clothing                 Kids   \n",
       "9  -581  244.020  -2568.020     e-Shop       Electronics  Personal Appliances   \n",
       "\n",
       "          DOB Gender  city_code  \n",
       "0  26-09-1981      M        5.0  \n",
       "1  11-05-1973      F        8.0  \n",
       "2  27-07-1992      M        8.0  \n",
       "3  08-06-1981      M        3.0  \n",
       "4  27-07-1992      M        8.0  \n",
       "5  09-10-1982      F        6.0  \n",
       "6  29-05-1981      M        9.0  \n",
       "7  21-04-1971      M        9.0  \n",
       "8  04-11-1971      F        8.0  \n",
       "9  27-11-1979      F        3.0  "
      ]
     },
     "execution_count": 42,
     "metadata": {},
     "output_type": "execute_result"
    }
   ],
   "source": [
    "df.head(10)"
   ]
  },
  {
   "cell_type": "code",
   "execution_count": 43,
   "id": "a2691d9a",
   "metadata": {},
   "outputs": [
    {
     "data": {
      "text/html": [
       "<div>\n",
       "<style scoped>\n",
       "    .dataframe tbody tr th:only-of-type {\n",
       "        vertical-align: middle;\n",
       "    }\n",
       "\n",
       "    .dataframe tbody tr th {\n",
       "        vertical-align: top;\n",
       "    }\n",
       "\n",
       "    .dataframe thead th {\n",
       "        text-align: right;\n",
       "    }\n",
       "</style>\n",
       "<table border=\"1\" class=\"dataframe\">\n",
       "  <thead>\n",
       "    <tr style=\"text-align: right;\">\n",
       "      <th></th>\n",
       "      <th>transaction_id</th>\n",
       "      <th>cust_id</th>\n",
       "      <th>tran_date</th>\n",
       "      <th>prod_sub_cat_code</th>\n",
       "      <th>prod_cat_code</th>\n",
       "      <th>Qty</th>\n",
       "      <th>Rate</th>\n",
       "      <th>Tax</th>\n",
       "      <th>total_amt</th>\n",
       "      <th>Store_type</th>\n",
       "      <th>prod_cat</th>\n",
       "      <th>prod_subcat</th>\n",
       "      <th>DOB</th>\n",
       "      <th>Gender</th>\n",
       "      <th>city_code</th>\n",
       "    </tr>\n",
       "  </thead>\n",
       "  <tbody>\n",
       "    <tr>\n",
       "      <th>23043</th>\n",
       "      <td>49882891062</td>\n",
       "      <td>271982</td>\n",
       "      <td>25-01-2011</td>\n",
       "      <td>10</td>\n",
       "      <td>5</td>\n",
       "      <td>4</td>\n",
       "      <td>1330</td>\n",
       "      <td>558.600</td>\n",
       "      <td>5878.600</td>\n",
       "      <td>e-Shop</td>\n",
       "      <td>Books</td>\n",
       "      <td>Non-Fiction</td>\n",
       "      <td>10-08-1976</td>\n",
       "      <td>M</td>\n",
       "      <td>8.0</td>\n",
       "    </tr>\n",
       "    <tr>\n",
       "      <th>23044</th>\n",
       "      <td>14787475597</td>\n",
       "      <td>273982</td>\n",
       "      <td>25-01-2011</td>\n",
       "      <td>4</td>\n",
       "      <td>3</td>\n",
       "      <td>5</td>\n",
       "      <td>969</td>\n",
       "      <td>508.725</td>\n",
       "      <td>5353.725</td>\n",
       "      <td>e-Shop</td>\n",
       "      <td>Electronics</td>\n",
       "      <td>Mobiles</td>\n",
       "      <td>12-10-1991</td>\n",
       "      <td>M</td>\n",
       "      <td>4.0</td>\n",
       "    </tr>\n",
       "    <tr>\n",
       "      <th>23045</th>\n",
       "      <td>50691119572</td>\n",
       "      <td>273031</td>\n",
       "      <td>25-01-2011</td>\n",
       "      <td>6</td>\n",
       "      <td>5</td>\n",
       "      <td>1</td>\n",
       "      <td>1148</td>\n",
       "      <td>120.540</td>\n",
       "      <td>1268.540</td>\n",
       "      <td>TeleShop</td>\n",
       "      <td>Books</td>\n",
       "      <td>DIY</td>\n",
       "      <td>17-01-1980</td>\n",
       "      <td>F</td>\n",
       "      <td>8.0</td>\n",
       "    </tr>\n",
       "    <tr>\n",
       "      <th>23046</th>\n",
       "      <td>40893803228</td>\n",
       "      <td>272049</td>\n",
       "      <td>25-01-2011</td>\n",
       "      <td>11</td>\n",
       "      <td>6</td>\n",
       "      <td>3</td>\n",
       "      <td>1077</td>\n",
       "      <td>339.255</td>\n",
       "      <td>3570.255</td>\n",
       "      <td>e-Shop</td>\n",
       "      <td>Home and kitchen</td>\n",
       "      <td>Bath</td>\n",
       "      <td>28-06-1975</td>\n",
       "      <td>F</td>\n",
       "      <td>6.0</td>\n",
       "    </tr>\n",
       "    <tr>\n",
       "      <th>23047</th>\n",
       "      <td>30856003613</td>\n",
       "      <td>266866</td>\n",
       "      <td>25-01-2011</td>\n",
       "      <td>4</td>\n",
       "      <td>2</td>\n",
       "      <td>2</td>\n",
       "      <td>444</td>\n",
       "      <td>93.240</td>\n",
       "      <td>981.240</td>\n",
       "      <td>TeleShop</td>\n",
       "      <td>Footwear</td>\n",
       "      <td>Kids</td>\n",
       "      <td>18-04-1974</td>\n",
       "      <td>M</td>\n",
       "      <td>4.0</td>\n",
       "    </tr>\n",
       "    <tr>\n",
       "      <th>23048</th>\n",
       "      <td>94340757522</td>\n",
       "      <td>274550</td>\n",
       "      <td>25-01-2011</td>\n",
       "      <td>12</td>\n",
       "      <td>5</td>\n",
       "      <td>1</td>\n",
       "      <td>1264</td>\n",
       "      <td>132.720</td>\n",
       "      <td>1396.720</td>\n",
       "      <td>e-Shop</td>\n",
       "      <td>Books</td>\n",
       "      <td>Academic</td>\n",
       "      <td>21-02-1972</td>\n",
       "      <td>M</td>\n",
       "      <td>7.0</td>\n",
       "    </tr>\n",
       "    <tr>\n",
       "      <th>23049</th>\n",
       "      <td>89780862956</td>\n",
       "      <td>270022</td>\n",
       "      <td>25-01-2011</td>\n",
       "      <td>4</td>\n",
       "      <td>1</td>\n",
       "      <td>1</td>\n",
       "      <td>677</td>\n",
       "      <td>71.085</td>\n",
       "      <td>748.085</td>\n",
       "      <td>e-Shop</td>\n",
       "      <td>Clothing</td>\n",
       "      <td>Mens</td>\n",
       "      <td>27-04-1984</td>\n",
       "      <td>M</td>\n",
       "      <td>9.0</td>\n",
       "    </tr>\n",
       "    <tr>\n",
       "      <th>23050</th>\n",
       "      <td>85115299378</td>\n",
       "      <td>271020</td>\n",
       "      <td>25-01-2011</td>\n",
       "      <td>2</td>\n",
       "      <td>6</td>\n",
       "      <td>4</td>\n",
       "      <td>1052</td>\n",
       "      <td>441.840</td>\n",
       "      <td>4649.840</td>\n",
       "      <td>MBR</td>\n",
       "      <td>Home and kitchen</td>\n",
       "      <td>Furnishing</td>\n",
       "      <td>20-06-1976</td>\n",
       "      <td>M</td>\n",
       "      <td>8.0</td>\n",
       "    </tr>\n",
       "    <tr>\n",
       "      <th>23051</th>\n",
       "      <td>72870271171</td>\n",
       "      <td>270911</td>\n",
       "      <td>25-01-2011</td>\n",
       "      <td>11</td>\n",
       "      <td>5</td>\n",
       "      <td>3</td>\n",
       "      <td>1142</td>\n",
       "      <td>359.730</td>\n",
       "      <td>3785.730</td>\n",
       "      <td>TeleShop</td>\n",
       "      <td>Books</td>\n",
       "      <td>Children</td>\n",
       "      <td>22-05-1970</td>\n",
       "      <td>M</td>\n",
       "      <td>2.0</td>\n",
       "    </tr>\n",
       "    <tr>\n",
       "      <th>23052</th>\n",
       "      <td>77960931771</td>\n",
       "      <td>271961</td>\n",
       "      <td>25-01-2011</td>\n",
       "      <td>11</td>\n",
       "      <td>5</td>\n",
       "      <td>1</td>\n",
       "      <td>447</td>\n",
       "      <td>46.935</td>\n",
       "      <td>493.935</td>\n",
       "      <td>TeleShop</td>\n",
       "      <td>Books</td>\n",
       "      <td>Children</td>\n",
       "      <td>15-01-1982</td>\n",
       "      <td>M</td>\n",
       "      <td>1.0</td>\n",
       "    </tr>\n",
       "  </tbody>\n",
       "</table>\n",
       "</div>"
      ],
      "text/plain": [
       "       transaction_id  cust_id   tran_date  prod_sub_cat_code  prod_cat_code  \\\n",
       "23043     49882891062   271982  25-01-2011                 10              5   \n",
       "23044     14787475597   273982  25-01-2011                  4              3   \n",
       "23045     50691119572   273031  25-01-2011                  6              5   \n",
       "23046     40893803228   272049  25-01-2011                 11              6   \n",
       "23047     30856003613   266866  25-01-2011                  4              2   \n",
       "23048     94340757522   274550  25-01-2011                 12              5   \n",
       "23049     89780862956   270022  25-01-2011                  4              1   \n",
       "23050     85115299378   271020  25-01-2011                  2              6   \n",
       "23051     72870271171   270911  25-01-2011                 11              5   \n",
       "23052     77960931771   271961  25-01-2011                 11              5   \n",
       "\n",
       "       Qty  Rate      Tax  total_amt Store_type          prod_cat  \\\n",
       "23043    4  1330  558.600   5878.600     e-Shop             Books   \n",
       "23044    5   969  508.725   5353.725     e-Shop       Electronics   \n",
       "23045    1  1148  120.540   1268.540   TeleShop             Books   \n",
       "23046    3  1077  339.255   3570.255     e-Shop  Home and kitchen   \n",
       "23047    2   444   93.240    981.240   TeleShop          Footwear   \n",
       "23048    1  1264  132.720   1396.720     e-Shop             Books   \n",
       "23049    1   677   71.085    748.085     e-Shop          Clothing   \n",
       "23050    4  1052  441.840   4649.840        MBR  Home and kitchen   \n",
       "23051    3  1142  359.730   3785.730   TeleShop             Books   \n",
       "23052    1   447   46.935    493.935   TeleShop             Books   \n",
       "\n",
       "       prod_subcat         DOB Gender  city_code  \n",
       "23043  Non-Fiction  10-08-1976      M        8.0  \n",
       "23044      Mobiles  12-10-1991      M        4.0  \n",
       "23045          DIY  17-01-1980      F        8.0  \n",
       "23046         Bath  28-06-1975      F        6.0  \n",
       "23047         Kids  18-04-1974      M        4.0  \n",
       "23048     Academic  21-02-1972      M        7.0  \n",
       "23049         Mens  27-04-1984      M        9.0  \n",
       "23050   Furnishing  20-06-1976      M        8.0  \n",
       "23051     Children  22-05-1970      M        2.0  \n",
       "23052     Children  15-01-1982      M        1.0  "
      ]
     },
     "execution_count": 43,
     "metadata": {},
     "output_type": "execute_result"
    }
   ],
   "source": [
    "df.tail(10)"
   ]
  },
  {
   "cell_type": "code",
   "execution_count": 44,
   "id": "d3de59c5",
   "metadata": {},
   "outputs": [
    {
     "data": {
      "text/html": [
       "<div>\n",
       "<style scoped>\n",
       "    .dataframe tbody tr th:only-of-type {\n",
       "        vertical-align: middle;\n",
       "    }\n",
       "\n",
       "    .dataframe tbody tr th {\n",
       "        vertical-align: top;\n",
       "    }\n",
       "\n",
       "    .dataframe thead th {\n",
       "        text-align: right;\n",
       "    }\n",
       "</style>\n",
       "<table border=\"1\" class=\"dataframe\">\n",
       "  <thead>\n",
       "    <tr style=\"text-align: right;\">\n",
       "      <th></th>\n",
       "      <th>count</th>\n",
       "      <th>mean</th>\n",
       "      <th>std</th>\n",
       "      <th>min</th>\n",
       "      <th>25%</th>\n",
       "      <th>50%</th>\n",
       "      <th>75%</th>\n",
       "      <th>max</th>\n",
       "    </tr>\n",
       "  </thead>\n",
       "  <tbody>\n",
       "    <tr>\n",
       "      <th>transaction_id</th>\n",
       "      <td>23053.0</td>\n",
       "      <td>5.007348e+10</td>\n",
       "      <td>2.898194e+10</td>\n",
       "      <td>3268991.000</td>\n",
       "      <td>2.493864e+10</td>\n",
       "      <td>5.009313e+10</td>\n",
       "      <td>7.533000e+10</td>\n",
       "      <td>9.998755e+10</td>\n",
       "    </tr>\n",
       "    <tr>\n",
       "      <th>cust_id</th>\n",
       "      <td>23053.0</td>\n",
       "      <td>2.710217e+05</td>\n",
       "      <td>2.431692e+03</td>\n",
       "      <td>266783.000</td>\n",
       "      <td>2.689350e+05</td>\n",
       "      <td>2.709800e+05</td>\n",
       "      <td>2.731140e+05</td>\n",
       "      <td>2.752650e+05</td>\n",
       "    </tr>\n",
       "    <tr>\n",
       "      <th>prod_sub_cat_code</th>\n",
       "      <td>23053.0</td>\n",
       "      <td>6.149091e+00</td>\n",
       "      <td>3.726372e+00</td>\n",
       "      <td>1.000</td>\n",
       "      <td>3.000000e+00</td>\n",
       "      <td>5.000000e+00</td>\n",
       "      <td>1.000000e+01</td>\n",
       "      <td>1.200000e+01</td>\n",
       "    </tr>\n",
       "    <tr>\n",
       "      <th>prod_cat_code</th>\n",
       "      <td>23053.0</td>\n",
       "      <td>3.763632e+00</td>\n",
       "      <td>1.677016e+00</td>\n",
       "      <td>1.000</td>\n",
       "      <td>2.000000e+00</td>\n",
       "      <td>4.000000e+00</td>\n",
       "      <td>5.000000e+00</td>\n",
       "      <td>6.000000e+00</td>\n",
       "    </tr>\n",
       "    <tr>\n",
       "      <th>Qty</th>\n",
       "      <td>23053.0</td>\n",
       "      <td>2.432395e+00</td>\n",
       "      <td>2.268406e+00</td>\n",
       "      <td>-5.000</td>\n",
       "      <td>1.000000e+00</td>\n",
       "      <td>3.000000e+00</td>\n",
       "      <td>4.000000e+00</td>\n",
       "      <td>5.000000e+00</td>\n",
       "    </tr>\n",
       "    <tr>\n",
       "      <th>Rate</th>\n",
       "      <td>23053.0</td>\n",
       "      <td>6.363697e+02</td>\n",
       "      <td>6.223635e+02</td>\n",
       "      <td>-1499.000</td>\n",
       "      <td>3.120000e+02</td>\n",
       "      <td>7.100000e+02</td>\n",
       "      <td>1.109000e+03</td>\n",
       "      <td>1.500000e+03</td>\n",
       "    </tr>\n",
       "    <tr>\n",
       "      <th>Tax</th>\n",
       "      <td>23053.0</td>\n",
       "      <td>2.486672e+02</td>\n",
       "      <td>1.871778e+02</td>\n",
       "      <td>7.350</td>\n",
       "      <td>9.828000e+01</td>\n",
       "      <td>1.990800e+02</td>\n",
       "      <td>3.657150e+02</td>\n",
       "      <td>7.875000e+02</td>\n",
       "    </tr>\n",
       "    <tr>\n",
       "      <th>total_amt</th>\n",
       "      <td>23053.0</td>\n",
       "      <td>2.107308e+03</td>\n",
       "      <td>2.507561e+03</td>\n",
       "      <td>-8270.925</td>\n",
       "      <td>7.624500e+02</td>\n",
       "      <td>1.754740e+03</td>\n",
       "      <td>3.569150e+03</td>\n",
       "      <td>8.287500e+03</td>\n",
       "    </tr>\n",
       "    <tr>\n",
       "      <th>city_code</th>\n",
       "      <td>23045.0</td>\n",
       "      <td>5.482534e+00</td>\n",
       "      <td>2.863499e+00</td>\n",
       "      <td>1.000</td>\n",
       "      <td>3.000000e+00</td>\n",
       "      <td>5.000000e+00</td>\n",
       "      <td>8.000000e+00</td>\n",
       "      <td>1.000000e+01</td>\n",
       "    </tr>\n",
       "  </tbody>\n",
       "</table>\n",
       "</div>"
      ],
      "text/plain": [
       "                     count          mean           std          min  \\\n",
       "transaction_id     23053.0  5.007348e+10  2.898194e+10  3268991.000   \n",
       "cust_id            23053.0  2.710217e+05  2.431692e+03   266783.000   \n",
       "prod_sub_cat_code  23053.0  6.149091e+00  3.726372e+00        1.000   \n",
       "prod_cat_code      23053.0  3.763632e+00  1.677016e+00        1.000   \n",
       "Qty                23053.0  2.432395e+00  2.268406e+00       -5.000   \n",
       "Rate               23053.0  6.363697e+02  6.223635e+02    -1499.000   \n",
       "Tax                23053.0  2.486672e+02  1.871778e+02        7.350   \n",
       "total_amt          23053.0  2.107308e+03  2.507561e+03    -8270.925   \n",
       "city_code          23045.0  5.482534e+00  2.863499e+00        1.000   \n",
       "\n",
       "                            25%           50%           75%           max  \n",
       "transaction_id     2.493864e+10  5.009313e+10  7.533000e+10  9.998755e+10  \n",
       "cust_id            2.689350e+05  2.709800e+05  2.731140e+05  2.752650e+05  \n",
       "prod_sub_cat_code  3.000000e+00  5.000000e+00  1.000000e+01  1.200000e+01  \n",
       "prod_cat_code      2.000000e+00  4.000000e+00  5.000000e+00  6.000000e+00  \n",
       "Qty                1.000000e+00  3.000000e+00  4.000000e+00  5.000000e+00  \n",
       "Rate               3.120000e+02  7.100000e+02  1.109000e+03  1.500000e+03  \n",
       "Tax                9.828000e+01  1.990800e+02  3.657150e+02  7.875000e+02  \n",
       "total_amt          7.624500e+02  1.754740e+03  3.569150e+03  8.287500e+03  \n",
       "city_code          3.000000e+00  5.000000e+00  8.000000e+00  1.000000e+01  "
      ]
     },
     "execution_count": 44,
     "metadata": {},
     "output_type": "execute_result"
    }
   ],
   "source": [
    "df.describe().T"
   ]
  },
  {
   "cell_type": "code",
   "execution_count": 45,
   "id": "b31dc8a5",
   "metadata": {},
   "outputs": [
    {
     "data": {
      "text/plain": [
       "transaction_id       23053\n",
       "cust_id              23053\n",
       "tran_date            23053\n",
       "prod_sub_cat_code    23053\n",
       "prod_cat_code        23053\n",
       "Qty                  23053\n",
       "Rate                 23053\n",
       "Tax                  23053\n",
       "total_amt            23053\n",
       "Store_type           23053\n",
       "prod_cat             23053\n",
       "prod_subcat          23053\n",
       "DOB                  23053\n",
       "Gender               23044\n",
       "city_code            23045\n",
       "dtype: int64"
      ]
     },
     "execution_count": 45,
     "metadata": {},
     "output_type": "execute_result"
    }
   ],
   "source": [
    "df.count()"
   ]
  },
  {
   "cell_type": "code",
   "execution_count": 46,
   "id": "ff56b1a2",
   "metadata": {},
   "outputs": [
    {
     "data": {
      "text/plain": [
       "transaction_id       0\n",
       "cust_id              0\n",
       "tran_date            0\n",
       "prod_sub_cat_code    0\n",
       "prod_cat_code        0\n",
       "Qty                  0\n",
       "Rate                 0\n",
       "Tax                  0\n",
       "total_amt            0\n",
       "Store_type           0\n",
       "prod_cat             0\n",
       "prod_subcat          0\n",
       "DOB                  0\n",
       "Gender               9\n",
       "city_code            8\n",
       "dtype: int64"
      ]
     },
     "execution_count": 46,
     "metadata": {},
     "output_type": "execute_result"
    }
   ],
   "source": [
    "df.isnull().sum()"
   ]
  },
  {
   "cell_type": "code",
   "execution_count": 47,
   "id": "a742f80f",
   "metadata": {},
   "outputs": [
    {
     "data": {
      "text/html": [
       "<div>\n",
       "<style scoped>\n",
       "    .dataframe tbody tr th:only-of-type {\n",
       "        vertical-align: middle;\n",
       "    }\n",
       "\n",
       "    .dataframe tbody tr th {\n",
       "        vertical-align: top;\n",
       "    }\n",
       "\n",
       "    .dataframe thead th {\n",
       "        text-align: right;\n",
       "    }\n",
       "</style>\n",
       "<table border=\"1\" class=\"dataframe\">\n",
       "  <thead>\n",
       "    <tr style=\"text-align: right;\">\n",
       "      <th></th>\n",
       "      <th>tran_date</th>\n",
       "      <th>Store_type</th>\n",
       "      <th>prod_cat</th>\n",
       "      <th>prod_subcat</th>\n",
       "      <th>DOB</th>\n",
       "      <th>Gender</th>\n",
       "    </tr>\n",
       "  </thead>\n",
       "  <tbody>\n",
       "    <tr>\n",
       "      <th>count</th>\n",
       "      <td>23053</td>\n",
       "      <td>23053</td>\n",
       "      <td>23053</td>\n",
       "      <td>23053</td>\n",
       "      <td>23053</td>\n",
       "      <td>23044</td>\n",
       "    </tr>\n",
       "    <tr>\n",
       "      <th>unique</th>\n",
       "      <td>1129</td>\n",
       "      <td>4</td>\n",
       "      <td>6</td>\n",
       "      <td>18</td>\n",
       "      <td>3987</td>\n",
       "      <td>2</td>\n",
       "    </tr>\n",
       "    <tr>\n",
       "      <th>top</th>\n",
       "      <td>13-07-2011</td>\n",
       "      <td>e-Shop</td>\n",
       "      <td>Books</td>\n",
       "      <td>Women</td>\n",
       "      <td>27-12-1988</td>\n",
       "      <td>M</td>\n",
       "    </tr>\n",
       "    <tr>\n",
       "      <th>freq</th>\n",
       "      <td>35</td>\n",
       "      <td>9311</td>\n",
       "      <td>6069</td>\n",
       "      <td>3048</td>\n",
       "      <td>32</td>\n",
       "      <td>11811</td>\n",
       "    </tr>\n",
       "  </tbody>\n",
       "</table>\n",
       "</div>"
      ],
      "text/plain": [
       "         tran_date Store_type prod_cat prod_subcat         DOB Gender\n",
       "count        23053      23053    23053       23053       23053  23044\n",
       "unique        1129          4        6          18        3987      2\n",
       "top     13-07-2011     e-Shop    Books       Women  27-12-1988      M\n",
       "freq            35       9311     6069        3048          32  11811"
      ]
     },
     "execution_count": 47,
     "metadata": {},
     "output_type": "execute_result"
    }
   ],
   "source": [
    "df.describe(include=\"object\")"
   ]
  },
  {
   "cell_type": "markdown",
   "id": "fc02a67e",
   "metadata": {},
   "source": [
    "# Manipulating and filtering the data"
   ]
  },
  {
   "cell_type": "code",
   "execution_count": 48,
   "id": "2ba63967",
   "metadata": {},
   "outputs": [],
   "source": [
    "# Changing the DOB and Transaction dates to date formats"
   ]
  },
  {
   "cell_type": "code",
   "execution_count": 49,
   "id": "c50377dd",
   "metadata": {},
   "outputs": [],
   "source": [
    "df[\"DOB\"]=pd.to_datetime(df[\"DOB\"],format=\"%d-%m-%Y\")"
   ]
  },
  {
   "cell_type": "code",
   "execution_count": 50,
   "id": "2e8a2f37",
   "metadata": {},
   "outputs": [],
   "source": [
    "df[\"tran_date\"]=pd.to_datetime(df[\"tran_date\"],format=\"%d-%m-%Y\")"
   ]
  },
  {
   "cell_type": "code",
   "execution_count": 51,
   "id": "b1bf83ad",
   "metadata": {},
   "outputs": [
    {
     "name": "stdout",
     "output_type": "stream",
     "text": [
      "<class 'pandas.core.frame.DataFrame'>\n",
      "Int64Index: 23053 entries, 0 to 23052\n",
      "Data columns (total 15 columns):\n",
      " #   Column             Non-Null Count  Dtype         \n",
      "---  ------             --------------  -----         \n",
      " 0   transaction_id     23053 non-null  int64         \n",
      " 1   cust_id            23053 non-null  int64         \n",
      " 2   tran_date          23053 non-null  datetime64[ns]\n",
      " 3   prod_sub_cat_code  23053 non-null  int64         \n",
      " 4   prod_cat_code      23053 non-null  int64         \n",
      " 5   Qty                23053 non-null  int64         \n",
      " 6   Rate               23053 non-null  int64         \n",
      " 7   Tax                23053 non-null  float64       \n",
      " 8   total_amt          23053 non-null  float64       \n",
      " 9   Store_type         23053 non-null  object        \n",
      " 10  prod_cat           23053 non-null  object        \n",
      " 11  prod_subcat        23053 non-null  object        \n",
      " 12  DOB                23053 non-null  datetime64[ns]\n",
      " 13  Gender             23044 non-null  object        \n",
      " 14  city_code          23045 non-null  float64       \n",
      "dtypes: datetime64[ns](2), float64(3), int64(6), object(4)\n",
      "memory usage: 2.8+ MB\n"
     ]
    }
   ],
   "source": [
    "df.info()"
   ]
  },
  {
   "cell_type": "code",
   "execution_count": 52,
   "id": "bb83c13e",
   "metadata": {},
   "outputs": [],
   "source": [
    "# Checking for duplicates"
   ]
  },
  {
   "cell_type": "code",
   "execution_count": 53,
   "id": "1dc9693d",
   "metadata": {},
   "outputs": [
    {
     "data": {
      "text/plain": [
       "13"
      ]
     },
     "execution_count": 53,
     "metadata": {},
     "output_type": "execute_result"
    }
   ],
   "source": [
    "df.duplicated().sum()"
   ]
  },
  {
   "cell_type": "code",
   "execution_count": 54,
   "id": "01d3fbea",
   "metadata": {},
   "outputs": [],
   "source": [
    "df.drop_duplicates(inplace=True)"
   ]
  },
  {
   "cell_type": "code",
   "execution_count": 55,
   "id": "4b7ba718",
   "metadata": {},
   "outputs": [
    {
     "name": "stdout",
     "output_type": "stream",
     "text": [
      "<class 'pandas.core.frame.DataFrame'>\n",
      "Int64Index: 23040 entries, 0 to 23052\n",
      "Data columns (total 15 columns):\n",
      " #   Column             Non-Null Count  Dtype         \n",
      "---  ------             --------------  -----         \n",
      " 0   transaction_id     23040 non-null  int64         \n",
      " 1   cust_id            23040 non-null  int64         \n",
      " 2   tran_date          23040 non-null  datetime64[ns]\n",
      " 3   prod_sub_cat_code  23040 non-null  int64         \n",
      " 4   prod_cat_code      23040 non-null  int64         \n",
      " 5   Qty                23040 non-null  int64         \n",
      " 6   Rate               23040 non-null  int64         \n",
      " 7   Tax                23040 non-null  float64       \n",
      " 8   total_amt          23040 non-null  float64       \n",
      " 9   Store_type         23040 non-null  object        \n",
      " 10  prod_cat           23040 non-null  object        \n",
      " 11  prod_subcat        23040 non-null  object        \n",
      " 12  DOB                23040 non-null  datetime64[ns]\n",
      " 13  Gender             23031 non-null  object        \n",
      " 14  city_code          23032 non-null  float64       \n",
      "dtypes: datetime64[ns](2), float64(3), int64(6), object(4)\n",
      "memory usage: 2.8+ MB\n"
     ]
    }
   ],
   "source": [
    "df.info()"
   ]
  },
  {
   "cell_type": "markdown",
   "id": "5d43f3a0",
   "metadata": {},
   "source": [
    "# 3. Generate histograms for all continuous variables and frequency bars for categorical variables."
   ]
  },
  {
   "cell_type": "code",
   "execution_count": 56,
   "id": "eed359e3",
   "metadata": {},
   "outputs": [
    {
     "data": {
      "text/plain": [
       "Index(['transaction_id', 'cust_id', 'tran_date', 'prod_sub_cat_code',\n",
       "       'prod_cat_code', 'Qty', 'Rate', 'Tax', 'total_amt', 'Store_type',\n",
       "       'prod_cat', 'prod_subcat', 'DOB', 'Gender', 'city_code'],\n",
       "      dtype='object')"
      ]
     },
     "execution_count": 56,
     "metadata": {},
     "output_type": "execute_result"
    }
   ],
   "source": [
    "df.columns"
   ]
  },
  {
   "cell_type": "markdown",
   "id": "18f349df",
   "metadata": {},
   "source": [
    " Histograms for all continuous variables "
   ]
  },
  {
   "cell_type": "code",
   "execution_count": 57,
   "id": "d52f8899",
   "metadata": {},
   "outputs": [
    {
     "data": {
      "text/plain": [
       "5    6066\n",
       "3    4895\n",
       "6    4126\n",
       "2    2996\n",
       "1    2960\n",
       "4    1997\n",
       "Name: prod_cat_code, dtype: int64"
      ]
     },
     "execution_count": 57,
     "metadata": {},
     "output_type": "execute_result"
    }
   ],
   "source": [
    "df.prod_cat_code.value_counts()"
   ]
  },
  {
   "cell_type": "code",
   "execution_count": 58,
   "id": "313e8db5",
   "metadata": {},
   "outputs": [
    {
     "data": {
      "text/plain": [
       "<AxesSubplot:title={'center':'Product Category Code'}, ylabel='Frequency'>"
      ]
     },
     "execution_count": 58,
     "metadata": {},
     "output_type": "execute_result"
    },
    {
     "data": {
      "image/png": "[encoded data removed]",
      "text/plain": [
       "<Figure size 576x432 with 1 Axes>"
      ]
     },
     "metadata": {
      "needs_background": "light"
     },
     "output_type": "display_data"
    }
   ],
   "source": [
    "df.prod_cat_code.plot(kind=\"hist\",title=\"Product Category Code\", color=\"mediumblue\",figsize=(8,6))"
   ]
  },
  {
   "cell_type": "code",
   "execution_count": 59,
   "id": "ed40dff0",
   "metadata": {},
   "outputs": [
    {
     "data": {
      "text/plain": [
       "4     4000\n",
       "3     3065\n",
       "10    2991\n",
       "1     2948\n",
       "11    2057\n",
       "12    2027\n",
       "7     1043\n",
       "2     1007\n",
       "6      989\n",
       "9      985\n",
       "8      970\n",
       "5      958\n",
       "Name: prod_sub_cat_code, dtype: int64"
      ]
     },
     "execution_count": 59,
     "metadata": {},
     "output_type": "execute_result"
    }
   ],
   "source": [
    "df.prod_sub_cat_code.value_counts()"
   ]
  },
  {
   "cell_type": "code",
   "execution_count": 60,
   "id": "df8b65fa",
   "metadata": {},
   "outputs": [
    {
     "data": {
      "text/plain": [
       "<AxesSubplot:title={'center':'Product Sub Category Code'}, ylabel='Frequency'>"
      ]
     },
     "execution_count": 60,
     "metadata": {},
     "output_type": "execute_result"
    },
    {
     "data": {
      "image/png": "[encoded data removed]",
      "text/plain": [
       "<Figure size 576x432 with 1 Axes>"
      ]
     },
     "metadata": {
      "needs_background": "light"
     },
     "output_type": "display_data"
    }
   ],
   "source": [
    "df.prod_sub_cat_code.plot(kind=\"hist\",title=\"Product Sub Category Code\", color=\"mediumblue\",figsize=(8,6))"
   ]
  },
  {
   "cell_type": "code",
   "execution_count": 61,
   "id": "abeec720",
   "metadata": {},
   "outputs": [
    {
     "data": {
      "text/plain": [
       " 5    4259\n",
       " 1    4214\n",
       " 3    4174\n",
       " 2    4123\n",
       " 4    4106\n",
       "-4     455\n",
       "-5     452\n",
       "-2     436\n",
       "-1     417\n",
       "-3     404\n",
       "Name: Qty, dtype: int64"
      ]
     },
     "execution_count": 61,
     "metadata": {},
     "output_type": "execute_result"
    }
   ],
   "source": [
    "df.Qty.value_counts()"
   ]
  },
  {
   "cell_type": "code",
   "execution_count": 62,
   "id": "84e39870",
   "metadata": {},
   "outputs": [
    {
     "data": {
      "text/plain": [
       "<AxesSubplot:title={'center':'Qty'}, ylabel='Frequency'>"
      ]
     },
     "execution_count": 62,
     "metadata": {},
     "output_type": "execute_result"
    },
    {
     "data": {
      "image/png": "[encoded data removed]",
      "text/plain": [
       "<Figure size 576x432 with 1 Axes>"
      ]
     },
     "metadata": {
      "needs_background": "light"
     },
     "output_type": "display_data"
    }
   ],
   "source": [
    "df.Qty.plot(kind=\"hist\",title=\"Qty\", color=\"mediumblue\",figsize=(8,6))"
   ]
  },
  {
   "cell_type": "code",
   "execution_count": 63,
   "id": "38adb6f3",
   "metadata": {},
   "outputs": [
    {
     "data": {
      "text/plain": [
       " 552    29\n",
       " 672    29\n",
       " 472    28\n",
       " 618    27\n",
       " 922    27\n",
       "        ..\n",
       "-519     1\n",
       "-172     1\n",
       "-585     1\n",
       "-407     1\n",
       "-203     1\n",
       "Name: Rate, Length: 2551, dtype: int64"
      ]
     },
     "execution_count": 63,
     "metadata": {},
     "output_type": "execute_result"
    }
   ],
   "source": [
    "df.Rate.value_counts()"
   ]
  },
  {
   "cell_type": "code",
   "execution_count": 64,
   "id": "0ea47d56",
   "metadata": {},
   "outputs": [
    {
     "data": {
      "text/plain": [
       "<AxesSubplot:title={'center':'Rate'}, ylabel='Frequency'>"
      ]
     },
     "execution_count": 64,
     "metadata": {},
     "output_type": "execute_result"
    },
    {
     "data": {
      "image/png": "[encoded data removed]",
      "text/plain": [
       "<Figure size 576x432 with 1 Axes>"
      ]
     },
     "metadata": {
      "needs_background": "light"
     },
     "output_type": "display_data"
    }
   ],
   "source": [
    "df.Rate.plot(kind=\"hist\",title=\"Rate\", color=\"mediumblue\",figsize=(8,6))"
   ]
  },
  {
   "cell_type": "code",
   "execution_count": 65,
   "id": "ff8281fe",
   "metadata": {},
   "outputs": [
    {
     "data": {
      "text/plain": [
       "64.260     26\n",
       "69.300     25\n",
       "129.150    25\n",
       "151.200    23\n",
       "81.900     23\n",
       "           ..\n",
       "415.485     1\n",
       "13.650      1\n",
       "410.445     1\n",
       "601.440     1\n",
       "139.335     1\n",
       "Name: Tax, Length: 4194, dtype: int64"
      ]
     },
     "execution_count": 65,
     "metadata": {},
     "output_type": "execute_result"
    }
   ],
   "source": [
    "df.Tax.value_counts()"
   ]
  },
  {
   "cell_type": "code",
   "execution_count": 66,
   "id": "c620b11c",
   "metadata": {},
   "outputs": [
    {
     "data": {
      "text/plain": [
       "<AxesSubplot:title={'center':'Tax Amount'}, ylabel='Frequency'>"
      ]
     },
     "execution_count": 66,
     "metadata": {},
     "output_type": "execute_result"
    },
    {
     "data": {
      "image/png": "[encoded data removed]",
      "text/plain": [
       "<Figure size 576x432 with 1 Axes>"
      ]
     },
     "metadata": {
      "needs_background": "light"
     },
     "output_type": "display_data"
    }
   ],
   "source": [
    "df.Tax.plot(kind=\"hist\",title=\"Tax Amount\", color=\"mediumblue\",figsize=(8,6))"
   ]
  },
  {
   "cell_type": "code",
   "execution_count": 67,
   "id": "c6b206db",
   "metadata": {},
   "outputs": [
    {
     "data": {
      "text/plain": [
       " 676.260     22\n",
       " 729.300     22\n",
       " 3049.800    22\n",
       " 1591.200    21\n",
       " 1021.020    21\n",
       "             ..\n",
       "-7635.550     1\n",
       "-3416.660     1\n",
       " 5829.980     1\n",
       "-470.730      1\n",
       " 1466.335     1\n",
       "Name: total_amt, Length: 5764, dtype: int64"
      ]
     },
     "execution_count": 67,
     "metadata": {},
     "output_type": "execute_result"
    }
   ],
   "source": [
    "df.total_amt.value_counts()"
   ]
  },
  {
   "cell_type": "code",
   "execution_count": 68,
   "id": "f5314bdb",
   "metadata": {},
   "outputs": [
    {
     "data": {
      "text/plain": [
       "<AxesSubplot:title={'center':'Total Amount'}, ylabel='Frequency'>"
      ]
     },
     "execution_count": 68,
     "metadata": {},
     "output_type": "execute_result"
    },
    {
     "data": {
      "image/png": "[encoded data removed]",
      "text/plain": [
       "<Figure size 576x432 with 1 Axes>"
      ]
     },
     "metadata": {
      "needs_background": "light"
     },
     "output_type": "display_data"
    }
   ],
   "source": [
    "df.total_amt.plot(kind=\"hist\",title=\"Total Amount\", color=\"mediumblue\",figsize=(8,6))"
   ]
  },
  {
   "cell_type": "markdown",
   "id": "3a48b352",
   "metadata": {},
   "source": [
    "# Bar charts for categorical variables"
   ]
  },
  {
   "cell_type": "code",
   "execution_count": 69,
   "id": "322aaf80",
   "metadata": {},
   "outputs": [
    {
     "data": {
      "text/html": [
       "<div>\n",
       "<style scoped>\n",
       "    .dataframe tbody tr th:only-of-type {\n",
       "        vertical-align: middle;\n",
       "    }\n",
       "\n",
       "    .dataframe tbody tr th {\n",
       "        vertical-align: top;\n",
       "    }\n",
       "\n",
       "    .dataframe thead th {\n",
       "        text-align: right;\n",
       "    }\n",
       "</style>\n",
       "<table border=\"1\" class=\"dataframe\">\n",
       "  <thead>\n",
       "    <tr style=\"text-align: right;\">\n",
       "      <th></th>\n",
       "      <th>Store_type</th>\n",
       "      <th>prod_cat</th>\n",
       "      <th>prod_subcat</th>\n",
       "      <th>Gender</th>\n",
       "    </tr>\n",
       "  </thead>\n",
       "  <tbody>\n",
       "    <tr>\n",
       "      <th>0</th>\n",
       "      <td>e-Shop</td>\n",
       "      <td>Clothing</td>\n",
       "      <td>Women</td>\n",
       "      <td>M</td>\n",
       "    </tr>\n",
       "    <tr>\n",
       "      <th>1</th>\n",
       "      <td>e-Shop</td>\n",
       "      <td>Electronics</td>\n",
       "      <td>Computers</td>\n",
       "      <td>F</td>\n",
       "    </tr>\n",
       "    <tr>\n",
       "      <th>2</th>\n",
       "      <td>TeleShop</td>\n",
       "      <td>Books</td>\n",
       "      <td>DIY</td>\n",
       "      <td>M</td>\n",
       "    </tr>\n",
       "    <tr>\n",
       "      <th>3</th>\n",
       "      <td>e-Shop</td>\n",
       "      <td>Home and kitchen</td>\n",
       "      <td>Bath</td>\n",
       "      <td>M</td>\n",
       "    </tr>\n",
       "    <tr>\n",
       "      <th>4</th>\n",
       "      <td>TeleShop</td>\n",
       "      <td>Books</td>\n",
       "      <td>DIY</td>\n",
       "      <td>M</td>\n",
       "    </tr>\n",
       "  </tbody>\n",
       "</table>\n",
       "</div>"
      ],
      "text/plain": [
       "  Store_type          prod_cat prod_subcat Gender\n",
       "0     e-Shop          Clothing       Women      M\n",
       "1     e-Shop       Electronics   Computers      F\n",
       "2   TeleShop             Books         DIY      M\n",
       "3     e-Shop  Home and kitchen        Bath      M\n",
       "4   TeleShop             Books         DIY      M"
      ]
     },
     "execution_count": 69,
     "metadata": {},
     "output_type": "execute_result"
    }
   ],
   "source": [
    "df.loc[:,df.dtypes==\"object\"].head()"
   ]
  },
  {
   "cell_type": "code",
   "execution_count": 70,
   "id": "aadf2e96",
   "metadata": {},
   "outputs": [
    {
     "data": {
      "text/plain": [
       "e-Shop            9304\n",
       "MBR               4660\n",
       "Flagship store    4575\n",
       "TeleShop          4501\n",
       "Name: Store_type, dtype: int64"
      ]
     },
     "execution_count": 70,
     "metadata": {},
     "output_type": "execute_result"
    }
   ],
   "source": [
    "df.Store_type.value_counts()"
   ]
  },
  {
   "cell_type": "code",
   "execution_count": 71,
   "id": "f3fea179",
   "metadata": {},
   "outputs": [
    {
     "name": "stderr",
     "output_type": "stream",
     "text": [
      "C:\\Users\\91903\\anaconda3\\lib\\site-packages\\seaborn\\_decorators.py:36: FutureWarning: Pass the following variable as a keyword arg: x. From version 0.12, the only valid positional argument will be `data`, and passing other arguments without an explicit keyword will result in an error or misinterpretation.\n",
      "  warnings.warn(\n"
     ]
    },
    {
     "data": {
      "image/png": "[encoded data removed]",
      "text/plain": [
       "<Figure size 576x432 with 1 Axes>"
      ]
     },
     "metadata": {
      "needs_background": "light"
     },
     "output_type": "display_data"
    }
   ],
   "source": [
    "plt.figure(figsize=(8,6))\n",
    "sns.countplot(df['Store_type'])\n",
    "plt.xlabel('Store Type')\n",
    "plt.show()"
   ]
  },
  {
   "cell_type": "code",
   "execution_count": 72,
   "id": "e930b33e",
   "metadata": {},
   "outputs": [
    {
     "data": {
      "text/plain": [
       "Books               6066\n",
       "Electronics         4895\n",
       "Home and kitchen    4126\n",
       "Footwear            2996\n",
       "Clothing            2960\n",
       "Bags                1997\n",
       "Name: prod_cat, dtype: int64"
      ]
     },
     "execution_count": 72,
     "metadata": {},
     "output_type": "execute_result"
    }
   ],
   "source": [
    "df.prod_cat.value_counts()"
   ]
  },
  {
   "cell_type": "code",
   "execution_count": 73,
   "id": "431f6fe7",
   "metadata": {},
   "outputs": [
    {
     "name": "stderr",
     "output_type": "stream",
     "text": [
      "C:\\Users\\91903\\anaconda3\\lib\\site-packages\\seaborn\\_decorators.py:36: FutureWarning: Pass the following variable as a keyword arg: x. From version 0.12, the only valid positional argument will be `data`, and passing other arguments without an explicit keyword will result in an error or misinterpretation.\n",
      "  warnings.warn(\n"
     ]
    },
    {
     "data": {
      "image/png": "[encoded data removed]",
      "text/plain": [
       "<Figure size 576x432 with 1 Axes>"
      ]
     },
     "metadata": {
      "needs_background": "light"
     },
     "output_type": "display_data"
    }
   ],
   "source": [
    "plt.figure(figsize=(8,6))\n",
    "sns.countplot(df['prod_cat'])\n",
    "plt.xlabel('Product Category')\n",
    "plt.show()"
   ]
  },
  {
   "cell_type": "code",
   "execution_count": 74,
   "id": "49e0a071",
   "metadata": {},
   "outputs": [
    {
     "data": {
      "text/plain": [
       "Women                  3046\n",
       "Mens                   2910\n",
       "Kids                   1997\n",
       "Tools                  1061\n",
       "Fiction                1043\n",
       "Kitchen                1036\n",
       "Children               1035\n",
       "Mobiles                1030\n",
       "Comics                 1030\n",
       "Bath                   1022\n",
       "Furnishing             1007\n",
       "Non-Fiction            1003\n",
       "DIY                     989\n",
       "Cameras                 985\n",
       "Personal Appliances     970\n",
       "Academic                966\n",
       "Computers               958\n",
       "Audio and video         952\n",
       "Name: prod_subcat, dtype: int64"
      ]
     },
     "execution_count": 74,
     "metadata": {},
     "output_type": "execute_result"
    }
   ],
   "source": [
    "df.prod_subcat.value_counts()"
   ]
  },
  {
   "cell_type": "code",
   "execution_count": 75,
   "id": "74b6c7bc",
   "metadata": {},
   "outputs": [
    {
     "data": {
      "image/png": "[encoded data removed]",
      "text/plain": [
       "<Figure size 576x576 with 1 Axes>"
      ]
     },
     "metadata": {
      "needs_background": "light"
     },
     "output_type": "display_data"
    }
   ],
   "source": [
    "plt.figure(figsize=(8,8))\n",
    "df.groupby('prod_subcat')['prod_subcat'].count().plot(kind='barh')\n",
    "plt.ylabel('Product Sub Category')\n",
    "plt.xlabel(\"Count\")\n",
    "plt.show()"
   ]
  },
  {
   "cell_type": "code",
   "execution_count": 76,
   "id": "13cfa84a",
   "metadata": {},
   "outputs": [
    {
     "data": {
      "text/plain": [
       "M    11804\n",
       "F    11227\n",
       "Name: Gender, dtype: int64"
      ]
     },
     "execution_count": 76,
     "metadata": {},
     "output_type": "execute_result"
    }
   ],
   "source": [
    "df.Gender.value_counts()"
   ]
  },
  {
   "cell_type": "code",
   "execution_count": 77,
   "id": "581a62c9",
   "metadata": {},
   "outputs": [
    {
     "name": "stderr",
     "output_type": "stream",
     "text": [
      "C:\\Users\\91903\\anaconda3\\lib\\site-packages\\seaborn\\_decorators.py:36: FutureWarning: Pass the following variable as a keyword arg: x. From version 0.12, the only valid positional argument will be `data`, and passing other arguments without an explicit keyword will result in an error or misinterpretation.\n",
      "  warnings.warn(\n"
     ]
    },
    {
     "data": {
      "image/png": "[encoded data removed]",
      "text/plain": [
       "<Figure size 576x432 with 1 Axes>"
      ]
     },
     "metadata": {
      "needs_background": "light"
     },
     "output_type": "display_data"
    }
   ],
   "source": [
    "plt.figure(figsize=(8,6))\n",
    "sns.countplot(df['Gender'])\n",
    "plt.xlabel('Gender')\n",
    "plt.show()"
   ]
  },
  {
   "cell_type": "markdown",
   "id": "0b53af34",
   "metadata": {},
   "source": [
    "# 4. Calculate the following information using the merged dataset :\n"
   ]
  },
  {
   "cell_type": "markdown",
   "id": "3bccd259",
   "metadata": {},
   "source": [
    "# a. Time period of the available transaction data"
   ]
  },
  {
   "cell_type": "code",
   "execution_count": 78,
   "id": "602e6090",
   "metadata": {},
   "outputs": [
    {
     "data": {
      "text/html": [
       "<div>\n",
       "<style scoped>\n",
       "    .dataframe tbody tr th:only-of-type {\n",
       "        vertical-align: middle;\n",
       "    }\n",
       "\n",
       "    .dataframe tbody tr th {\n",
       "        vertical-align: top;\n",
       "    }\n",
       "\n",
       "    .dataframe thead th {\n",
       "        text-align: right;\n",
       "    }\n",
       "</style>\n",
       "<table border=\"1\" class=\"dataframe\">\n",
       "  <thead>\n",
       "    <tr style=\"text-align: right;\">\n",
       "      <th></th>\n",
       "      <th>transaction_id</th>\n",
       "      <th>cust_id</th>\n",
       "      <th>tran_date</th>\n",
       "      <th>prod_sub_cat_code</th>\n",
       "      <th>prod_cat_code</th>\n",
       "      <th>Qty</th>\n",
       "      <th>Rate</th>\n",
       "      <th>Tax</th>\n",
       "      <th>total_amt</th>\n",
       "      <th>Store_type</th>\n",
       "      <th>prod_cat</th>\n",
       "      <th>prod_subcat</th>\n",
       "      <th>DOB</th>\n",
       "      <th>Gender</th>\n",
       "      <th>city_code</th>\n",
       "    </tr>\n",
       "  </thead>\n",
       "  <tbody>\n",
       "    <tr>\n",
       "      <th>23052</th>\n",
       "      <td>77960931771</td>\n",
       "      <td>271961</td>\n",
       "      <td>2011-01-25</td>\n",
       "      <td>11</td>\n",
       "      <td>5</td>\n",
       "      <td>1</td>\n",
       "      <td>447</td>\n",
       "      <td>46.935</td>\n",
       "      <td>493.935</td>\n",
       "      <td>TeleShop</td>\n",
       "      <td>Books</td>\n",
       "      <td>Children</td>\n",
       "      <td>1982-01-15</td>\n",
       "      <td>M</td>\n",
       "      <td>1.0</td>\n",
       "    </tr>\n",
       "    <tr>\n",
       "      <th>23033</th>\n",
       "      <td>32887353269</td>\n",
       "      <td>268885</td>\n",
       "      <td>2011-01-25</td>\n",
       "      <td>3</td>\n",
       "      <td>1</td>\n",
       "      <td>1</td>\n",
       "      <td>276</td>\n",
       "      <td>28.980</td>\n",
       "      <td>304.980</td>\n",
       "      <td>Flagship store</td>\n",
       "      <td>Clothing</td>\n",
       "      <td>Kids</td>\n",
       "      <td>1989-04-14</td>\n",
       "      <td>F</td>\n",
       "      <td>6.0</td>\n",
       "    </tr>\n",
       "    <tr>\n",
       "      <th>23034</th>\n",
       "      <td>28972634039</td>\n",
       "      <td>275227</td>\n",
       "      <td>2011-01-25</td>\n",
       "      <td>9</td>\n",
       "      <td>3</td>\n",
       "      <td>1</td>\n",
       "      <td>334</td>\n",
       "      <td>35.070</td>\n",
       "      <td>369.070</td>\n",
       "      <td>MBR</td>\n",
       "      <td>Electronics</td>\n",
       "      <td>Cameras</td>\n",
       "      <td>1989-09-23</td>\n",
       "      <td>M</td>\n",
       "      <td>4.0</td>\n",
       "    </tr>\n",
       "    <tr>\n",
       "      <th>23035</th>\n",
       "      <td>42161597232</td>\n",
       "      <td>267094</td>\n",
       "      <td>2011-01-25</td>\n",
       "      <td>3</td>\n",
       "      <td>1</td>\n",
       "      <td>3</td>\n",
       "      <td>147</td>\n",
       "      <td>46.305</td>\n",
       "      <td>487.305</td>\n",
       "      <td>MBR</td>\n",
       "      <td>Clothing</td>\n",
       "      <td>Kids</td>\n",
       "      <td>1992-11-24</td>\n",
       "      <td>M</td>\n",
       "      <td>9.0</td>\n",
       "    </tr>\n",
       "    <tr>\n",
       "      <th>23036</th>\n",
       "      <td>46821751538</td>\n",
       "      <td>269160</td>\n",
       "      <td>2011-01-25</td>\n",
       "      <td>10</td>\n",
       "      <td>5</td>\n",
       "      <td>5</td>\n",
       "      <td>941</td>\n",
       "      <td>494.025</td>\n",
       "      <td>5199.025</td>\n",
       "      <td>TeleShop</td>\n",
       "      <td>Books</td>\n",
       "      <td>Non-Fiction</td>\n",
       "      <td>1972-01-24</td>\n",
       "      <td>F</td>\n",
       "      <td>1.0</td>\n",
       "    </tr>\n",
       "  </tbody>\n",
       "</table>\n",
       "</div>"
      ],
      "text/plain": [
       "       transaction_id  cust_id  tran_date  prod_sub_cat_code  prod_cat_code  \\\n",
       "23052     77960931771   271961 2011-01-25                 11              5   \n",
       "23033     32887353269   268885 2011-01-25                  3              1   \n",
       "23034     28972634039   275227 2011-01-25                  9              3   \n",
       "23035     42161597232   267094 2011-01-25                  3              1   \n",
       "23036     46821751538   269160 2011-01-25                 10              5   \n",
       "\n",
       "       Qty  Rate      Tax  total_amt      Store_type     prod_cat  \\\n",
       "23052    1   447   46.935    493.935        TeleShop        Books   \n",
       "23033    1   276   28.980    304.980  Flagship store     Clothing   \n",
       "23034    1   334   35.070    369.070             MBR  Electronics   \n",
       "23035    3   147   46.305    487.305             MBR     Clothing   \n",
       "23036    5   941  494.025   5199.025        TeleShop        Books   \n",
       "\n",
       "       prod_subcat        DOB Gender  city_code  \n",
       "23052     Children 1982-01-15      M        1.0  \n",
       "23033         Kids 1989-04-14      F        6.0  \n",
       "23034      Cameras 1989-09-23      M        4.0  \n",
       "23035         Kids 1992-11-24      M        9.0  \n",
       "23036  Non-Fiction 1972-01-24      F        1.0  "
      ]
     },
     "execution_count": 78,
     "metadata": {},
     "output_type": "execute_result"
    }
   ],
   "source": [
    "df.sort_values(by=\"tran_date\").head()"
   ]
  },
  {
   "cell_type": "code",
   "execution_count": 79,
   "id": "81ddcda8",
   "metadata": {},
   "outputs": [],
   "source": [
    "start_date=df.tran_date.min()"
   ]
  },
  {
   "cell_type": "code",
   "execution_count": 80,
   "id": "1d8ac3c5",
   "metadata": {},
   "outputs": [],
   "source": [
    "end_date=df.tran_date.max()"
   ]
  },
  {
   "cell_type": "code",
   "execution_count": 81,
   "id": "fdfd1f3e",
   "metadata": {},
   "outputs": [
    {
     "name": "stdout",
     "output_type": "stream",
     "text": [
      "Time period of the available transaction data is from  2011-01-25 00:00:00 2014-02-28 00:00:00\n"
     ]
    }
   ],
   "source": [
    "print(\"Time period of the available transaction data is from \",start_date,end_date)"
   ]
  },
  {
   "cell_type": "markdown",
   "id": "a6b9d04f",
   "metadata": {},
   "source": [
    "# b. Count of transactions where the total amount of transaction was negative"
   ]
  },
  {
   "cell_type": "code",
   "execution_count": 82,
   "id": "bc79dc9c",
   "metadata": {},
   "outputs": [
    {
     "data": {
      "text/html": [
       "<div>\n",
       "<style scoped>\n",
       "    .dataframe tbody tr th:only-of-type {\n",
       "        vertical-align: middle;\n",
       "    }\n",
       "\n",
       "    .dataframe tbody tr th {\n",
       "        vertical-align: top;\n",
       "    }\n",
       "\n",
       "    .dataframe thead th {\n",
       "        text-align: right;\n",
       "    }\n",
       "</style>\n",
       "<table border=\"1\" class=\"dataframe\">\n",
       "  <thead>\n",
       "    <tr style=\"text-align: right;\">\n",
       "      <th></th>\n",
       "      <th>transaction_id</th>\n",
       "      <th>cust_id</th>\n",
       "      <th>tran_date</th>\n",
       "      <th>prod_sub_cat_code</th>\n",
       "      <th>prod_cat_code</th>\n",
       "      <th>Qty</th>\n",
       "      <th>Rate</th>\n",
       "      <th>Tax</th>\n",
       "      <th>total_amt</th>\n",
       "      <th>Store_type</th>\n",
       "      <th>prod_cat</th>\n",
       "      <th>prod_subcat</th>\n",
       "      <th>DOB</th>\n",
       "      <th>Gender</th>\n",
       "      <th>city_code</th>\n",
       "    </tr>\n",
       "  </thead>\n",
       "  <tbody>\n",
       "    <tr>\n",
       "      <th>0</th>\n",
       "      <td>80712190438</td>\n",
       "      <td>270351</td>\n",
       "      <td>2014-02-28</td>\n",
       "      <td>1</td>\n",
       "      <td>1</td>\n",
       "      <td>-5</td>\n",
       "      <td>-772</td>\n",
       "      <td>405.300</td>\n",
       "      <td>-4265.300</td>\n",
       "      <td>e-Shop</td>\n",
       "      <td>Clothing</td>\n",
       "      <td>Women</td>\n",
       "      <td>1981-09-26</td>\n",
       "      <td>M</td>\n",
       "      <td>5.0</td>\n",
       "    </tr>\n",
       "    <tr>\n",
       "      <th>1</th>\n",
       "      <td>29258453508</td>\n",
       "      <td>270384</td>\n",
       "      <td>2014-02-27</td>\n",
       "      <td>5</td>\n",
       "      <td>3</td>\n",
       "      <td>-5</td>\n",
       "      <td>-1497</td>\n",
       "      <td>785.925</td>\n",
       "      <td>-8270.925</td>\n",
       "      <td>e-Shop</td>\n",
       "      <td>Electronics</td>\n",
       "      <td>Computers</td>\n",
       "      <td>1973-05-11</td>\n",
       "      <td>F</td>\n",
       "      <td>8.0</td>\n",
       "    </tr>\n",
       "    <tr>\n",
       "      <th>2</th>\n",
       "      <td>51750724947</td>\n",
       "      <td>273420</td>\n",
       "      <td>2014-02-24</td>\n",
       "      <td>6</td>\n",
       "      <td>5</td>\n",
       "      <td>-2</td>\n",
       "      <td>-791</td>\n",
       "      <td>166.110</td>\n",
       "      <td>-1748.110</td>\n",
       "      <td>TeleShop</td>\n",
       "      <td>Books</td>\n",
       "      <td>DIY</td>\n",
       "      <td>1992-07-27</td>\n",
       "      <td>M</td>\n",
       "      <td>8.0</td>\n",
       "    </tr>\n",
       "    <tr>\n",
       "      <th>3</th>\n",
       "      <td>93274880719</td>\n",
       "      <td>271509</td>\n",
       "      <td>2014-02-24</td>\n",
       "      <td>11</td>\n",
       "      <td>6</td>\n",
       "      <td>-3</td>\n",
       "      <td>-1363</td>\n",
       "      <td>429.345</td>\n",
       "      <td>-4518.345</td>\n",
       "      <td>e-Shop</td>\n",
       "      <td>Home and kitchen</td>\n",
       "      <td>Bath</td>\n",
       "      <td>1981-06-08</td>\n",
       "      <td>M</td>\n",
       "      <td>3.0</td>\n",
       "    </tr>\n",
       "    <tr>\n",
       "      <th>4</th>\n",
       "      <td>51750724947</td>\n",
       "      <td>273420</td>\n",
       "      <td>2014-02-23</td>\n",
       "      <td>6</td>\n",
       "      <td>5</td>\n",
       "      <td>-2</td>\n",
       "      <td>-791</td>\n",
       "      <td>166.110</td>\n",
       "      <td>-1748.110</td>\n",
       "      <td>TeleShop</td>\n",
       "      <td>Books</td>\n",
       "      <td>DIY</td>\n",
       "      <td>1992-07-27</td>\n",
       "      <td>M</td>\n",
       "      <td>8.0</td>\n",
       "    </tr>\n",
       "  </tbody>\n",
       "</table>\n",
       "</div>"
      ],
      "text/plain": [
       "   transaction_id  cust_id  tran_date  prod_sub_cat_code  prod_cat_code  Qty  \\\n",
       "0     80712190438   270351 2014-02-28                  1              1   -5   \n",
       "1     29258453508   270384 2014-02-27                  5              3   -5   \n",
       "2     51750724947   273420 2014-02-24                  6              5   -2   \n",
       "3     93274880719   271509 2014-02-24                 11              6   -3   \n",
       "4     51750724947   273420 2014-02-23                  6              5   -2   \n",
       "\n",
       "   Rate      Tax  total_amt Store_type          prod_cat prod_subcat  \\\n",
       "0  -772  405.300  -4265.300     e-Shop          Clothing       Women   \n",
       "1 -1497  785.925  -8270.925     e-Shop       Electronics   Computers   \n",
       "2  -791  166.110  -1748.110   TeleShop             Books         DIY   \n",
       "3 -1363  429.345  -4518.345     e-Shop  Home and kitchen        Bath   \n",
       "4  -791  166.110  -1748.110   TeleShop             Books         DIY   \n",
       "\n",
       "         DOB Gender  city_code  \n",
       "0 1981-09-26      M        5.0  \n",
       "1 1973-05-11      F        8.0  \n",
       "2 1992-07-27      M        8.0  \n",
       "3 1981-06-08      M        3.0  \n",
       "4 1992-07-27      M        8.0  "
      ]
     },
     "execution_count": 82,
     "metadata": {},
     "output_type": "execute_result"
    }
   ],
   "source": [
    "df.head()"
   ]
  },
  {
   "cell_type": "code",
   "execution_count": 83,
   "id": "1a41a0bb",
   "metadata": {},
   "outputs": [
    {
     "data": {
      "text/plain": [
       "2164"
      ]
     },
     "execution_count": 83,
     "metadata": {},
     "output_type": "execute_result"
    }
   ],
   "source": [
    "negative_trans= df.loc[df[\"total_amt\"]<0,\"transaction_id\"].count()\n",
    "negative_trans"
   ]
  },
  {
   "cell_type": "code",
   "execution_count": 84,
   "id": "0965a9bf",
   "metadata": {},
   "outputs": [
    {
     "data": {
      "text/plain": [
       "1.8758628137913403e-10"
      ]
     },
     "execution_count": 84,
     "metadata": {},
     "output_type": "execute_result"
    }
   ],
   "source": [
    "# Percentage of negative transactions among total transactions \n",
    "perc_negative_trans=negative_trans/df.transaction_id.sum()*100\n",
    "perc_negative_trans"
   ]
  },
  {
   "cell_type": "code",
   "execution_count": 85,
   "id": "e8988abe",
   "metadata": {},
   "outputs": [
    {
     "name": "stdout",
     "output_type": "stream",
     "text": [
      "The total number of negative transactions are: 2164\n"
     ]
    }
   ],
   "source": [
    "print(\"The total number of negative transactions are:\",negative_trans )"
   ]
  },
  {
   "cell_type": "markdown",
   "id": "0b8adb19",
   "metadata": {},
   "source": [
    "# 5. Analyze which product categories are more popular among female vs male customers."
   ]
  },
  {
   "cell_type": "code",
   "execution_count": 86,
   "id": "605e87fa",
   "metadata": {},
   "outputs": [],
   "source": [
    "Pcat= df.groupby([\"Gender\",\"prod_cat\"])[[\"Qty\"]].sum()"
   ]
  },
  {
   "cell_type": "code",
   "execution_count": 87,
   "id": "6da26b66",
   "metadata": {},
   "outputs": [
    {
     "data": {
      "text/html": [
       "<div>\n",
       "<style scoped>\n",
       "    .dataframe tbody tr th:only-of-type {\n",
       "        vertical-align: middle;\n",
       "    }\n",
       "\n",
       "    .dataframe tbody tr th {\n",
       "        vertical-align: top;\n",
       "    }\n",
       "\n",
       "    .dataframe thead th {\n",
       "        text-align: right;\n",
       "    }\n",
       "</style>\n",
       "<table border=\"1\" class=\"dataframe\">\n",
       "  <thead>\n",
       "    <tr style=\"text-align: right;\">\n",
       "      <th></th>\n",
       "      <th></th>\n",
       "      <th>Qty</th>\n",
       "    </tr>\n",
       "    <tr>\n",
       "      <th>Gender</th>\n",
       "      <th>prod_cat</th>\n",
       "      <th></th>\n",
       "    </tr>\n",
       "  </thead>\n",
       "  <tbody>\n",
       "    <tr>\n",
       "      <th rowspan=\"6\" valign=\"top\">F</th>\n",
       "      <th>Bags</th>\n",
       "      <td>2364</td>\n",
       "    </tr>\n",
       "    <tr>\n",
       "      <th>Books</th>\n",
       "      <td>7080</td>\n",
       "    </tr>\n",
       "    <tr>\n",
       "      <th>Clothing</th>\n",
       "      <td>3425</td>\n",
       "    </tr>\n",
       "    <tr>\n",
       "      <th>Electronics</th>\n",
       "      <td>5832</td>\n",
       "    </tr>\n",
       "    <tr>\n",
       "      <th>Footwear</th>\n",
       "      <td>3721</td>\n",
       "    </tr>\n",
       "    <tr>\n",
       "      <th>Home and kitchen</th>\n",
       "      <td>4898</td>\n",
       "    </tr>\n",
       "    <tr>\n",
       "      <th rowspan=\"6\" valign=\"top\">M</th>\n",
       "      <th>Bags</th>\n",
       "      <td>2346</td>\n",
       "    </tr>\n",
       "    <tr>\n",
       "      <th>Books</th>\n",
       "      <td>7587</td>\n",
       "    </tr>\n",
       "    <tr>\n",
       "      <th>Clothing</th>\n",
       "      <td>3748</td>\n",
       "    </tr>\n",
       "    <tr>\n",
       "      <th>Electronics</th>\n",
       "      <td>6486</td>\n",
       "    </tr>\n",
       "    <tr>\n",
       "      <th>Footwear</th>\n",
       "      <td>3561</td>\n",
       "    </tr>\n",
       "    <tr>\n",
       "      <th>Home and kitchen</th>\n",
       "      <td>5051</td>\n",
       "    </tr>\n",
       "  </tbody>\n",
       "</table>\n",
       "</div>"
      ],
      "text/plain": [
       "                          Qty\n",
       "Gender prod_cat              \n",
       "F      Bags              2364\n",
       "       Books             7080\n",
       "       Clothing          3425\n",
       "       Electronics       5832\n",
       "       Footwear          3721\n",
       "       Home and kitchen  4898\n",
       "M      Bags              2346\n",
       "       Books             7587\n",
       "       Clothing          3748\n",
       "       Electronics       6486\n",
       "       Footwear          3561\n",
       "       Home and kitchen  5051"
      ]
     },
     "execution_count": 87,
     "metadata": {},
     "output_type": "execute_result"
    }
   ],
   "source": [
    "Pcat"
   ]
  },
  {
   "cell_type": "code",
   "execution_count": 88,
   "id": "b4524cc7",
   "metadata": {},
   "outputs": [
    {
     "data": {
      "text/plain": [
       "<AxesSubplot:title={'center':'Produt Categories across Genders'}, xlabel='Product Category', ylabel='Qty'>"
      ]
     },
     "execution_count": 88,
     "metadata": {},
     "output_type": "execute_result"
    },
    {
     "data": {
      "image/png": "[encoded data removed]",
      "text/plain": [
       "<Figure size 864x432 with 1 Axes>"
      ]
     },
     "metadata": {
      "needs_background": "light"
     },
     "output_type": "display_data"
    }
   ],
   "source": [
    "Pcat.plot(kind=\"bar\",figsize=(12,6), xlabel=(\"Product Category\"),ylabel= (\"Qty\"), legend= True, title= \"Produt Categories across Genders\")"
   ]
  },
  {
   "cell_type": "markdown",
   "id": "47a4ebc7",
   "metadata": {},
   "source": [
    "# 6. Which City code has the maximum customers and what was the percentage of customers from that city?\n"
   ]
  },
  {
   "cell_type": "code",
   "execution_count": 89,
   "id": "29b8a0f4",
   "metadata": {},
   "outputs": [
    {
     "data": {
      "text/html": [
       "<div>\n",
       "<style scoped>\n",
       "    .dataframe tbody tr th:only-of-type {\n",
       "        vertical-align: middle;\n",
       "    }\n",
       "\n",
       "    .dataframe tbody tr th {\n",
       "        vertical-align: top;\n",
       "    }\n",
       "\n",
       "    .dataframe thead th {\n",
       "        text-align: right;\n",
       "    }\n",
       "</style>\n",
       "<table border=\"1\" class=\"dataframe\">\n",
       "  <thead>\n",
       "    <tr style=\"text-align: right;\">\n",
       "      <th></th>\n",
       "      <th>transaction_id</th>\n",
       "      <th>cust_id</th>\n",
       "      <th>tran_date</th>\n",
       "      <th>prod_sub_cat_code</th>\n",
       "      <th>prod_cat_code</th>\n",
       "      <th>Qty</th>\n",
       "      <th>Rate</th>\n",
       "      <th>Tax</th>\n",
       "      <th>total_amt</th>\n",
       "      <th>Store_type</th>\n",
       "      <th>prod_cat</th>\n",
       "      <th>prod_subcat</th>\n",
       "      <th>DOB</th>\n",
       "      <th>Gender</th>\n",
       "      <th>city_code</th>\n",
       "    </tr>\n",
       "  </thead>\n",
       "  <tbody>\n",
       "    <tr>\n",
       "      <th>0</th>\n",
       "      <td>80712190438</td>\n",
       "      <td>270351</td>\n",
       "      <td>2014-02-28</td>\n",
       "      <td>1</td>\n",
       "      <td>1</td>\n",
       "      <td>-5</td>\n",
       "      <td>-772</td>\n",
       "      <td>405.300</td>\n",
       "      <td>-4265.300</td>\n",
       "      <td>e-Shop</td>\n",
       "      <td>Clothing</td>\n",
       "      <td>Women</td>\n",
       "      <td>1981-09-26</td>\n",
       "      <td>M</td>\n",
       "      <td>5.0</td>\n",
       "    </tr>\n",
       "    <tr>\n",
       "      <th>1</th>\n",
       "      <td>29258453508</td>\n",
       "      <td>270384</td>\n",
       "      <td>2014-02-27</td>\n",
       "      <td>5</td>\n",
       "      <td>3</td>\n",
       "      <td>-5</td>\n",
       "      <td>-1497</td>\n",
       "      <td>785.925</td>\n",
       "      <td>-8270.925</td>\n",
       "      <td>e-Shop</td>\n",
       "      <td>Electronics</td>\n",
       "      <td>Computers</td>\n",
       "      <td>1973-05-11</td>\n",
       "      <td>F</td>\n",
       "      <td>8.0</td>\n",
       "    </tr>\n",
       "    <tr>\n",
       "      <th>2</th>\n",
       "      <td>51750724947</td>\n",
       "      <td>273420</td>\n",
       "      <td>2014-02-24</td>\n",
       "      <td>6</td>\n",
       "      <td>5</td>\n",
       "      <td>-2</td>\n",
       "      <td>-791</td>\n",
       "      <td>166.110</td>\n",
       "      <td>-1748.110</td>\n",
       "      <td>TeleShop</td>\n",
       "      <td>Books</td>\n",
       "      <td>DIY</td>\n",
       "      <td>1992-07-27</td>\n",
       "      <td>M</td>\n",
       "      <td>8.0</td>\n",
       "    </tr>\n",
       "    <tr>\n",
       "      <th>3</th>\n",
       "      <td>93274880719</td>\n",
       "      <td>271509</td>\n",
       "      <td>2014-02-24</td>\n",
       "      <td>11</td>\n",
       "      <td>6</td>\n",
       "      <td>-3</td>\n",
       "      <td>-1363</td>\n",
       "      <td>429.345</td>\n",
       "      <td>-4518.345</td>\n",
       "      <td>e-Shop</td>\n",
       "      <td>Home and kitchen</td>\n",
       "      <td>Bath</td>\n",
       "      <td>1981-06-08</td>\n",
       "      <td>M</td>\n",
       "      <td>3.0</td>\n",
       "    </tr>\n",
       "    <tr>\n",
       "      <th>4</th>\n",
       "      <td>51750724947</td>\n",
       "      <td>273420</td>\n",
       "      <td>2014-02-23</td>\n",
       "      <td>6</td>\n",
       "      <td>5</td>\n",
       "      <td>-2</td>\n",
       "      <td>-791</td>\n",
       "      <td>166.110</td>\n",
       "      <td>-1748.110</td>\n",
       "      <td>TeleShop</td>\n",
       "      <td>Books</td>\n",
       "      <td>DIY</td>\n",
       "      <td>1992-07-27</td>\n",
       "      <td>M</td>\n",
       "      <td>8.0</td>\n",
       "    </tr>\n",
       "  </tbody>\n",
       "</table>\n",
       "</div>"
      ],
      "text/plain": [
       "   transaction_id  cust_id  tran_date  prod_sub_cat_code  prod_cat_code  Qty  \\\n",
       "0     80712190438   270351 2014-02-28                  1              1   -5   \n",
       "1     29258453508   270384 2014-02-27                  5              3   -5   \n",
       "2     51750724947   273420 2014-02-24                  6              5   -2   \n",
       "3     93274880719   271509 2014-02-24                 11              6   -3   \n",
       "4     51750724947   273420 2014-02-23                  6              5   -2   \n",
       "\n",
       "   Rate      Tax  total_amt Store_type          prod_cat prod_subcat  \\\n",
       "0  -772  405.300  -4265.300     e-Shop          Clothing       Women   \n",
       "1 -1497  785.925  -8270.925     e-Shop       Electronics   Computers   \n",
       "2  -791  166.110  -1748.110   TeleShop             Books         DIY   \n",
       "3 -1363  429.345  -4518.345     e-Shop  Home and kitchen        Bath   \n",
       "4  -791  166.110  -1748.110   TeleShop             Books         DIY   \n",
       "\n",
       "         DOB Gender  city_code  \n",
       "0 1981-09-26      M        5.0  \n",
       "1 1973-05-11      F        8.0  \n",
       "2 1992-07-27      M        8.0  \n",
       "3 1981-06-08      M        3.0  \n",
       "4 1992-07-27      M        8.0  "
      ]
     },
     "execution_count": 89,
     "metadata": {},
     "output_type": "execute_result"
    }
   ],
   "source": [
    "df.head()"
   ]
  },
  {
   "cell_type": "code",
   "execution_count": 90,
   "id": "4d2466b0",
   "metadata": {},
   "outputs": [
    {
     "data": {
      "text/plain": [
       "city_code\n",
       "4.0     2422\n",
       "3.0     2410\n",
       "5.0     2357\n",
       "7.0     2356\n",
       "10.0    2333\n",
       "8.0     2328\n",
       "2.0     2268\n",
       "1.0     2255\n",
       "9.0     2176\n",
       "6.0     2127\n",
       "Name: cust_id, dtype: int64"
      ]
     },
     "execution_count": 90,
     "metadata": {},
     "output_type": "execute_result"
    }
   ],
   "source": [
    "cust_city = df.groupby('city_code')['cust_id'].count().sort_values(ascending =False)\n",
    "cust_city"
   ]
  },
  {
   "cell_type": "code",
   "execution_count": 91,
   "id": "46338722",
   "metadata": {},
   "outputs": [
    {
     "data": {
      "text/plain": [
       "<AxesSubplot:title={'center':'Customer base across cities'}, xlabel='City Code', ylabel='No. of Customers'>"
      ]
     },
     "execution_count": 91,
     "metadata": {},
     "output_type": "execute_result"
    },
    {
     "data": {
      "image/png": "[encoded data removed]",
      "text/plain": [
       "<Figure size 576x432 with 1 Axes>"
      ]
     },
     "metadata": {
      "needs_background": "light"
     },
     "output_type": "display_data"
    }
   ],
   "source": [
    "cust_city.plot(kind=\"bar\", figsize=(8,6), xlabel=(\"City Code\"),ylabel= (\"No. of Customers\"), legend= True, title= \"Customer base across cities\")"
   ]
  },
  {
   "cell_type": "code",
   "execution_count": 92,
   "id": "4583bdff",
   "metadata": {},
   "outputs": [],
   "source": [
    "city_share = (cust_city[4.0]/cust_city.sum())*100"
   ]
  },
  {
   "cell_type": "code",
   "execution_count": 93,
   "id": "c7965a47",
   "metadata": {},
   "outputs": [
    {
     "data": {
      "text/plain": [
       "10.52"
      ]
     },
     "execution_count": 93,
     "metadata": {},
     "output_type": "execute_result"
    }
   ],
   "source": [
    "city_share=round(city_share,2)\n",
    "city_share"
   ]
  },
  {
   "cell_type": "code",
   "execution_count": 94,
   "id": "1402a2df",
   "metadata": {},
   "outputs": [
    {
     "name": "stdout",
     "output_type": "stream",
     "text": [
      "The maximum customers are from city_code 4.0 and its percentage from overall cities is 10.52%\n"
     ]
    }
   ],
   "source": [
    "print(\"The maximum customers are from city_code {} and its percentage from overall cities is {}%\".format(4.0,city_share))"
   ]
  },
  {
   "cell_type": "markdown",
   "id": "d4b133e9",
   "metadata": {},
   "source": [
    "# 7. Which store type sells the maximum products by value and by quantity?"
   ]
  },
  {
   "cell_type": "code",
   "execution_count": 95,
   "id": "b8c92eaf",
   "metadata": {},
   "outputs": [
    {
     "data": {
      "text/html": [
       "<div>\n",
       "<style scoped>\n",
       "    .dataframe tbody tr th:only-of-type {\n",
       "        vertical-align: middle;\n",
       "    }\n",
       "\n",
       "    .dataframe tbody tr th {\n",
       "        vertical-align: top;\n",
       "    }\n",
       "\n",
       "    .dataframe thead th {\n",
       "        text-align: right;\n",
       "    }\n",
       "</style>\n",
       "<table border=\"1\" class=\"dataframe\">\n",
       "  <thead>\n",
       "    <tr style=\"text-align: right;\">\n",
       "      <th></th>\n",
       "      <th>transaction_id</th>\n",
       "      <th>cust_id</th>\n",
       "      <th>tran_date</th>\n",
       "      <th>prod_sub_cat_code</th>\n",
       "      <th>prod_cat_code</th>\n",
       "      <th>Qty</th>\n",
       "      <th>Rate</th>\n",
       "      <th>Tax</th>\n",
       "      <th>total_amt</th>\n",
       "      <th>Store_type</th>\n",
       "      <th>prod_cat</th>\n",
       "      <th>prod_subcat</th>\n",
       "      <th>DOB</th>\n",
       "      <th>Gender</th>\n",
       "      <th>city_code</th>\n",
       "    </tr>\n",
       "  </thead>\n",
       "  <tbody>\n",
       "    <tr>\n",
       "      <th>0</th>\n",
       "      <td>80712190438</td>\n",
       "      <td>270351</td>\n",
       "      <td>2014-02-28</td>\n",
       "      <td>1</td>\n",
       "      <td>1</td>\n",
       "      <td>-5</td>\n",
       "      <td>-772</td>\n",
       "      <td>405.3</td>\n",
       "      <td>-4265.3</td>\n",
       "      <td>e-Shop</td>\n",
       "      <td>Clothing</td>\n",
       "      <td>Women</td>\n",
       "      <td>1981-09-26</td>\n",
       "      <td>M</td>\n",
       "      <td>5.0</td>\n",
       "    </tr>\n",
       "  </tbody>\n",
       "</table>\n",
       "</div>"
      ],
      "text/plain": [
       "   transaction_id  cust_id  tran_date  prod_sub_cat_code  prod_cat_code  Qty  \\\n",
       "0     80712190438   270351 2014-02-28                  1              1   -5   \n",
       "\n",
       "   Rate    Tax  total_amt Store_type  prod_cat prod_subcat        DOB Gender  \\\n",
       "0  -772  405.3    -4265.3     e-Shop  Clothing       Women 1981-09-26      M   \n",
       "\n",
       "   city_code  \n",
       "0        5.0  "
      ]
     },
     "execution_count": 95,
     "metadata": {},
     "output_type": "execute_result"
    }
   ],
   "source": [
    "df.head(1)"
   ]
  },
  {
   "cell_type": "code",
   "execution_count": 96,
   "id": "35f81f4a",
   "metadata": {},
   "outputs": [],
   "source": [
    "store_type_max =df.groupby(\"Store_type\")[[\"Qty\",\"Rate\"]].sum().sort_values(by=\"Qty\" ,ascending= False)"
   ]
  },
  {
   "cell_type": "code",
   "execution_count": 97,
   "id": "2766a2e8",
   "metadata": {},
   "outputs": [
    {
     "data": {
      "text/html": [
       "<div>\n",
       "<style scoped>\n",
       "    .dataframe tbody tr th:only-of-type {\n",
       "        vertical-align: middle;\n",
       "    }\n",
       "\n",
       "    .dataframe tbody tr th {\n",
       "        vertical-align: top;\n",
       "    }\n",
       "\n",
       "    .dataframe thead th {\n",
       "        text-align: right;\n",
       "    }\n",
       "</style>\n",
       "<table border=\"1\" class=\"dataframe\">\n",
       "  <thead>\n",
       "    <tr style=\"text-align: right;\">\n",
       "      <th>Store_type</th>\n",
       "      <th>e-Shop</th>\n",
       "      <th>MBR</th>\n",
       "      <th>Flagship store</th>\n",
       "      <th>TeleShop</th>\n",
       "    </tr>\n",
       "  </thead>\n",
       "  <tbody>\n",
       "    <tr>\n",
       "      <th>Qty</th>\n",
       "      <td>22790</td>\n",
       "      <td>11195</td>\n",
       "      <td>11142</td>\n",
       "      <td>10993</td>\n",
       "    </tr>\n",
       "    <tr>\n",
       "      <th>Rate</th>\n",
       "      <td>5945770</td>\n",
       "      <td>2953665</td>\n",
       "      <td>2942874</td>\n",
       "      <td>2836359</td>\n",
       "    </tr>\n",
       "  </tbody>\n",
       "</table>\n",
       "</div>"
      ],
      "text/plain": [
       "Store_type   e-Shop      MBR  Flagship store  TeleShop\n",
       "Qty           22790    11195           11142     10993\n",
       "Rate        5945770  2953665         2942874   2836359"
      ]
     },
     "execution_count": 97,
     "metadata": {},
     "output_type": "execute_result"
    }
   ],
   "source": [
    "store_type_max.T"
   ]
  },
  {
   "cell_type": "code",
   "execution_count": 98,
   "id": "ec64e1e9",
   "metadata": {},
   "outputs": [
    {
     "data": {
      "text/plain": [
       "array([<AxesSubplot:ylabel='Qty'>, <AxesSubplot:ylabel='Rate'>],\n",
       "      dtype=object)"
      ]
     },
     "execution_count": 98,
     "metadata": {},
     "output_type": "execute_result"
    },
    {
     "data": {
      "image/png": "[encoded data removed]",
      "text/plain": [
       "<Figure size 1008x432 with 2 Axes>"
      ]
     },
     "metadata": {},
     "output_type": "display_data"
    }
   ],
   "source": [
    "store_type_max.plot(kind=\"pie\", subplots=True, figsize=(14,6),legend= False)"
   ]
  },
  {
   "cell_type": "markdown",
   "id": "366271e8",
   "metadata": {},
   "source": [
    "# 8. What was the total amount earned from the \"Electronics\" and \"Clothing\" categories from Flagship Stores?"
   ]
  },
  {
   "cell_type": "code",
   "execution_count": 99,
   "id": "ee48ed5d",
   "metadata": {},
   "outputs": [
    {
     "data": {
      "text/html": [
       "<div>\n",
       "<style scoped>\n",
       "    .dataframe tbody tr th:only-of-type {\n",
       "        vertical-align: middle;\n",
       "    }\n",
       "\n",
       "    .dataframe tbody tr th {\n",
       "        vertical-align: top;\n",
       "    }\n",
       "\n",
       "    .dataframe thead th {\n",
       "        text-align: right;\n",
       "    }\n",
       "</style>\n",
       "<table border=\"1\" class=\"dataframe\">\n",
       "  <thead>\n",
       "    <tr style=\"text-align: right;\">\n",
       "      <th></th>\n",
       "      <th>transaction_id</th>\n",
       "      <th>cust_id</th>\n",
       "      <th>tran_date</th>\n",
       "      <th>prod_sub_cat_code</th>\n",
       "      <th>prod_cat_code</th>\n",
       "      <th>Qty</th>\n",
       "      <th>Rate</th>\n",
       "      <th>Tax</th>\n",
       "      <th>total_amt</th>\n",
       "      <th>Store_type</th>\n",
       "      <th>prod_cat</th>\n",
       "      <th>prod_subcat</th>\n",
       "      <th>DOB</th>\n",
       "      <th>Gender</th>\n",
       "      <th>city_code</th>\n",
       "    </tr>\n",
       "  </thead>\n",
       "  <tbody>\n",
       "    <tr>\n",
       "      <th>0</th>\n",
       "      <td>80712190438</td>\n",
       "      <td>270351</td>\n",
       "      <td>2014-02-28</td>\n",
       "      <td>1</td>\n",
       "      <td>1</td>\n",
       "      <td>-5</td>\n",
       "      <td>-772</td>\n",
       "      <td>405.3</td>\n",
       "      <td>-4265.3</td>\n",
       "      <td>e-Shop</td>\n",
       "      <td>Clothing</td>\n",
       "      <td>Women</td>\n",
       "      <td>1981-09-26</td>\n",
       "      <td>M</td>\n",
       "      <td>5.0</td>\n",
       "    </tr>\n",
       "  </tbody>\n",
       "</table>\n",
       "</div>"
      ],
      "text/plain": [
       "   transaction_id  cust_id  tran_date  prod_sub_cat_code  prod_cat_code  Qty  \\\n",
       "0     80712190438   270351 2014-02-28                  1              1   -5   \n",
       "\n",
       "   Rate    Tax  total_amt Store_type  prod_cat prod_subcat        DOB Gender  \\\n",
       "0  -772  405.3    -4265.3     e-Shop  Clothing       Women 1981-09-26      M   \n",
       "\n",
       "   city_code  \n",
       "0        5.0  "
      ]
     },
     "execution_count": 99,
     "metadata": {},
     "output_type": "execute_result"
    }
   ],
   "source": [
    "df.head(1)"
   ]
  },
  {
   "cell_type": "code",
   "execution_count": 100,
   "id": "230a88c7",
   "metadata": {},
   "outputs": [
    {
     "data": {
      "text/plain": [
       "e-Shop            9304\n",
       "MBR               4660\n",
       "Flagship store    4575\n",
       "TeleShop          4501\n",
       "Name: Store_type, dtype: int64"
      ]
     },
     "execution_count": 100,
     "metadata": {},
     "output_type": "execute_result"
    }
   ],
   "source": [
    "df.Store_type.value_counts()"
   ]
  },
  {
   "cell_type": "code",
   "execution_count": 101,
   "id": "71b0e3a5",
   "metadata": {},
   "outputs": [
    {
     "data": {
      "text/plain": [
       "Books               6066\n",
       "Electronics         4895\n",
       "Home and kitchen    4126\n",
       "Footwear            2996\n",
       "Clothing            2960\n",
       "Bags                1997\n",
       "Name: prod_cat, dtype: int64"
      ]
     },
     "execution_count": 101,
     "metadata": {},
     "output_type": "execute_result"
    }
   ],
   "source": [
    "df.prod_cat.value_counts()"
   ]
  },
  {
   "cell_type": "code",
   "execution_count": 102,
   "id": "cdf019b0",
   "metadata": {},
   "outputs": [
    {
     "data": {
      "text/html": [
       "<div>\n",
       "<style scoped>\n",
       "    .dataframe tbody tr th:only-of-type {\n",
       "        vertical-align: middle;\n",
       "    }\n",
       "\n",
       "    .dataframe tbody tr th {\n",
       "        vertical-align: top;\n",
       "    }\n",
       "\n",
       "    .dataframe thead th {\n",
       "        text-align: right;\n",
       "    }\n",
       "</style>\n",
       "<table border=\"1\" class=\"dataframe\">\n",
       "  <thead>\n",
       "    <tr style=\"text-align: right;\">\n",
       "      <th>Store_type</th>\n",
       "      <th>Flagship store</th>\n",
       "      <th>MBR</th>\n",
       "      <th>TeleShop</th>\n",
       "      <th>e-Shop</th>\n",
       "    </tr>\n",
       "    <tr>\n",
       "      <th>prod_cat</th>\n",
       "      <th></th>\n",
       "      <th></th>\n",
       "      <th></th>\n",
       "      <th></th>\n",
       "    </tr>\n",
       "  </thead>\n",
       "  <tbody>\n",
       "    <tr>\n",
       "      <th>Bags</th>\n",
       "      <td>870548.835</td>\n",
       "      <td>848678.675</td>\n",
       "      <td>789181.055</td>\n",
       "      <td>1617933.265</td>\n",
       "    </tr>\n",
       "    <tr>\n",
       "      <th>Books</th>\n",
       "      <td>2493677.810</td>\n",
       "      <td>2496039.195</td>\n",
       "      <td>2545714.470</td>\n",
       "      <td>5297161.155</td>\n",
       "    </tr>\n",
       "    <tr>\n",
       "      <th>Clothing</th>\n",
       "      <td>1194423.230</td>\n",
       "      <td>1287686.335</td>\n",
       "      <td>1241834.360</td>\n",
       "      <td>2527193.565</td>\n",
       "    </tr>\n",
       "    <tr>\n",
       "      <th>Electronics</th>\n",
       "      <td>2215136.040</td>\n",
       "      <td>2107969.825</td>\n",
       "      <td>1978457.195</td>\n",
       "      <td>4429142.770</td>\n",
       "    </tr>\n",
       "    <tr>\n",
       "      <th>Footwear</th>\n",
       "      <td>1234806.560</td>\n",
       "      <td>1112163.715</td>\n",
       "      <td>1235719.290</td>\n",
       "      <td>2643215.250</td>\n",
       "    </tr>\n",
       "    <tr>\n",
       "      <th>Home and kitchen</th>\n",
       "      <td>1713004.150</td>\n",
       "      <td>1822403.570</td>\n",
       "      <td>1581227.375</td>\n",
       "      <td>3327977.120</td>\n",
       "    </tr>\n",
       "  </tbody>\n",
       "</table>\n",
       "</div>"
      ],
      "text/plain": [
       "Store_type        Flagship store          MBR     TeleShop       e-Shop\n",
       "prod_cat                                                               \n",
       "Bags                  870548.835   848678.675   789181.055  1617933.265\n",
       "Books                2493677.810  2496039.195  2545714.470  5297161.155\n",
       "Clothing             1194423.230  1287686.335  1241834.360  2527193.565\n",
       "Electronics          2215136.040  2107969.825  1978457.195  4429142.770\n",
       "Footwear             1234806.560  1112163.715  1235719.290  2643215.250\n",
       "Home and kitchen     1713004.150  1822403.570  1581227.375  3327977.120"
      ]
     },
     "execution_count": 102,
     "metadata": {},
     "output_type": "execute_result"
    }
   ],
   "source": [
    "cat_group=df.pivot_table(index = \"prod_cat\",columns=\"Store_type\", values=\"total_amt\", aggfunc='sum')\n",
    "cat_group"
   ]
  },
  {
   "cell_type": "code",
   "execution_count": 103,
   "id": "e7ce9c2d",
   "metadata": {},
   "outputs": [
    {
     "data": {
      "text/plain": [
       "<AxesSubplot:title={'center':'Sales Amount across categories and Store types'}, xlabel='Product Category', ylabel='Total Amount'>"
      ]
     },
     "execution_count": 103,
     "metadata": {},
     "output_type": "execute_result"
    },
    {
     "data": {
      "image/png": "[encoded data removed]",
      "text/plain": [
       "<Figure size 720x432 with 1 Axes>"
      ]
     },
     "metadata": {
      "needs_background": "light"
     },
     "output_type": "display_data"
    }
   ],
   "source": [
    "cat_group.plot(kind=\"bar\",figsize=(10,6), xlabel=(\"Product Category\"),ylabel= (\"Total Amount\"), legend= True, title= \"Sales Amount across categories and Store types\")"
   ]
  },
  {
   "cell_type": "code",
   "execution_count": 104,
   "id": "d1620aae",
   "metadata": {},
   "outputs": [
    {
     "data": {
      "text/plain": [
       "3409559.27"
      ]
     },
     "execution_count": 104,
     "metadata": {},
     "output_type": "execute_result"
    }
   ],
   "source": [
    "cat_group_amount=cat_group.loc[[\"Clothing\",\"Electronics\"],\"Flagship store\"].sum()\n",
    "cat_group_amount"
   ]
  },
  {
   "cell_type": "markdown",
   "id": "96829ada",
   "metadata": {},
   "source": [
    "# 9. What was the total amount earned from \"Male\" customers under the \"Electronics\" category?"
   ]
  },
  {
   "cell_type": "code",
   "execution_count": 105,
   "id": "5d50db12",
   "metadata": {},
   "outputs": [
    {
     "data": {
      "text/html": [
       "<div>\n",
       "<style scoped>\n",
       "    .dataframe tbody tr th:only-of-type {\n",
       "        vertical-align: middle;\n",
       "    }\n",
       "\n",
       "    .dataframe tbody tr th {\n",
       "        vertical-align: top;\n",
       "    }\n",
       "\n",
       "    .dataframe thead th {\n",
       "        text-align: right;\n",
       "    }\n",
       "</style>\n",
       "<table border=\"1\" class=\"dataframe\">\n",
       "  <thead>\n",
       "    <tr style=\"text-align: right;\">\n",
       "      <th>Gender</th>\n",
       "      <th>F</th>\n",
       "      <th>M</th>\n",
       "    </tr>\n",
       "    <tr>\n",
       "      <th>prod_cat</th>\n",
       "      <th></th>\n",
       "      <th></th>\n",
       "    </tr>\n",
       "  </thead>\n",
       "  <tbody>\n",
       "    <tr>\n",
       "      <th>Bags</th>\n",
       "      <td>2079618.840</td>\n",
       "      <td>2046722.990</td>\n",
       "    </tr>\n",
       "    <tr>\n",
       "      <th>Books</th>\n",
       "      <td>6174590.825</td>\n",
       "      <td>6645972.775</td>\n",
       "    </tr>\n",
       "    <tr>\n",
       "      <th>Clothing</th>\n",
       "      <td>3026750.805</td>\n",
       "      <td>3224079.495</td>\n",
       "    </tr>\n",
       "    <tr>\n",
       "      <th>Electronics</th>\n",
       "      <td>5019354.210</td>\n",
       "      <td>5711351.620</td>\n",
       "    </tr>\n",
       "    <tr>\n",
       "      <th>Footwear</th>\n",
       "      <td>3203155.215</td>\n",
       "      <td>3020200.365</td>\n",
       "    </tr>\n",
       "    <tr>\n",
       "      <th>Home and kitchen</th>\n",
       "      <td>4133702.235</td>\n",
       "      <td>4305169.505</td>\n",
       "    </tr>\n",
       "  </tbody>\n",
       "</table>\n",
       "</div>"
      ],
      "text/plain": [
       "Gender                      F            M\n",
       "prod_cat                                  \n",
       "Bags              2079618.840  2046722.990\n",
       "Books             6174590.825  6645972.775\n",
       "Clothing          3026750.805  3224079.495\n",
       "Electronics       5019354.210  5711351.620\n",
       "Footwear          3203155.215  3020200.365\n",
       "Home and kitchen  4133702.235  4305169.505"
      ]
     },
     "execution_count": 105,
     "metadata": {},
     "output_type": "execute_result"
    }
   ],
   "source": [
    "gender_group= df.pivot_table(index=\"prod_cat\", columns=\"Gender\", values=\"total_amt\",aggfunc=\"sum\")\n",
    "gender_group"
   ]
  },
  {
   "cell_type": "code",
   "execution_count": 106,
   "id": "9e29ff30",
   "metadata": {},
   "outputs": [
    {
     "data": {
      "text/plain": [
       "<AxesSubplot:title={'center':'Sales Amount across categories and Gender'}, xlabel='Product Category', ylabel='Total Amount'>"
      ]
     },
     "execution_count": 106,
     "metadata": {},
     "output_type": "execute_result"
    },
    {
     "data": {
      "image/png": "[encoded data removed]",
      "text/plain": [
       "<Figure size 576x432 with 1 Axes>"
      ]
     },
     "metadata": {
      "needs_background": "light"
     },
     "output_type": "display_data"
    }
   ],
   "source": [
    "gender_group.plot(kind=\"bar\",figsize=(8,6), xlabel=(\"Product Category\"),ylabel= (\"Total Amount\"), legend= True, title= \"Sales Amount across categories and Gender\")"
   ]
  },
  {
   "cell_type": "code",
   "execution_count": 107,
   "id": "d655e377",
   "metadata": {},
   "outputs": [
    {
     "data": {
      "text/plain": [
       "5711351.62"
      ]
     },
     "execution_count": 107,
     "metadata": {},
     "output_type": "execute_result"
    }
   ],
   "source": [
    "male_amount=gender_group.loc[\"Electronics\",\"M\"]\n",
    "male_amount"
   ]
  },
  {
   "cell_type": "markdown",
   "id": "ed6169d5",
   "metadata": {},
   "source": [
    "# 10. How many customers have more than 10 unique transactions, after removing all transactions which have any negative amounts?"
   ]
  },
  {
   "cell_type": "code",
   "execution_count": 108,
   "id": "54a5e29f",
   "metadata": {},
   "outputs": [],
   "source": [
    "# Finding out all the available positive transactions"
   ]
  },
  {
   "cell_type": "code",
   "execution_count": 109,
   "id": "343d99d4",
   "metadata": {},
   "outputs": [
    {
     "data": {
      "text/html": [
       "<div>\n",
       "<style scoped>\n",
       "    .dataframe tbody tr th:only-of-type {\n",
       "        vertical-align: middle;\n",
       "    }\n",
       "\n",
       "    .dataframe tbody tr th {\n",
       "        vertical-align: top;\n",
       "    }\n",
       "\n",
       "    .dataframe thead th {\n",
       "        text-align: right;\n",
       "    }\n",
       "</style>\n",
       "<table border=\"1\" class=\"dataframe\">\n",
       "  <thead>\n",
       "    <tr style=\"text-align: right;\">\n",
       "      <th></th>\n",
       "      <th>transaction_id</th>\n",
       "      <th>cust_id</th>\n",
       "      <th>tran_date</th>\n",
       "      <th>prod_sub_cat_code</th>\n",
       "      <th>prod_cat_code</th>\n",
       "      <th>Qty</th>\n",
       "      <th>Rate</th>\n",
       "      <th>Tax</th>\n",
       "      <th>total_amt</th>\n",
       "      <th>Store_type</th>\n",
       "      <th>prod_cat</th>\n",
       "      <th>prod_subcat</th>\n",
       "      <th>DOB</th>\n",
       "      <th>Gender</th>\n",
       "      <th>city_code</th>\n",
       "    </tr>\n",
       "  </thead>\n",
       "  <tbody>\n",
       "    <tr>\n",
       "      <th>10</th>\n",
       "      <td>29258453508</td>\n",
       "      <td>270384</td>\n",
       "      <td>2014-02-20</td>\n",
       "      <td>5</td>\n",
       "      <td>3</td>\n",
       "      <td>5</td>\n",
       "      <td>1497</td>\n",
       "      <td>785.925</td>\n",
       "      <td>8270.925</td>\n",
       "      <td>e-Shop</td>\n",
       "      <td>Electronics</td>\n",
       "      <td>Computers</td>\n",
       "      <td>1973-05-11</td>\n",
       "      <td>F</td>\n",
       "      <td>8.0</td>\n",
       "    </tr>\n",
       "    <tr>\n",
       "      <th>11</th>\n",
       "      <td>25455265351</td>\n",
       "      <td>267750</td>\n",
       "      <td>2014-02-20</td>\n",
       "      <td>12</td>\n",
       "      <td>6</td>\n",
       "      <td>3</td>\n",
       "      <td>1360</td>\n",
       "      <td>428.400</td>\n",
       "      <td>4508.400</td>\n",
       "      <td>e-Shop</td>\n",
       "      <td>Home and kitchen</td>\n",
       "      <td>Tools</td>\n",
       "      <td>1986-10-13</td>\n",
       "      <td>M</td>\n",
       "      <td>1.0</td>\n",
       "    </tr>\n",
       "    <tr>\n",
       "      <th>12</th>\n",
       "      <td>1571002198</td>\n",
       "      <td>275023</td>\n",
       "      <td>2014-02-20</td>\n",
       "      <td>6</td>\n",
       "      <td>5</td>\n",
       "      <td>4</td>\n",
       "      <td>587</td>\n",
       "      <td>246.540</td>\n",
       "      <td>2594.540</td>\n",
       "      <td>e-Shop</td>\n",
       "      <td>Books</td>\n",
       "      <td>DIY</td>\n",
       "      <td>1971-03-09</td>\n",
       "      <td>M</td>\n",
       "      <td>6.0</td>\n",
       "    </tr>\n",
       "    <tr>\n",
       "      <th>14</th>\n",
       "      <td>36554696014</td>\n",
       "      <td>269345</td>\n",
       "      <td>2014-02-20</td>\n",
       "      <td>3</td>\n",
       "      <td>5</td>\n",
       "      <td>3</td>\n",
       "      <td>1253</td>\n",
       "      <td>394.695</td>\n",
       "      <td>4153.695</td>\n",
       "      <td>e-Shop</td>\n",
       "      <td>Books</td>\n",
       "      <td>Comics</td>\n",
       "      <td>1970-06-26</td>\n",
       "      <td>F</td>\n",
       "      <td>10.0</td>\n",
       "    </tr>\n",
       "    <tr>\n",
       "      <th>15</th>\n",
       "      <td>56814940239</td>\n",
       "      <td>268799</td>\n",
       "      <td>2014-02-20</td>\n",
       "      <td>7</td>\n",
       "      <td>5</td>\n",
       "      <td>5</td>\n",
       "      <td>368</td>\n",
       "      <td>193.200</td>\n",
       "      <td>2033.200</td>\n",
       "      <td>e-Shop</td>\n",
       "      <td>Books</td>\n",
       "      <td>Fiction</td>\n",
       "      <td>1979-06-27</td>\n",
       "      <td>M</td>\n",
       "      <td>9.0</td>\n",
       "    </tr>\n",
       "    <tr>\n",
       "      <th>...</th>\n",
       "      <td>...</td>\n",
       "      <td>...</td>\n",
       "      <td>...</td>\n",
       "      <td>...</td>\n",
       "      <td>...</td>\n",
       "      <td>...</td>\n",
       "      <td>...</td>\n",
       "      <td>...</td>\n",
       "      <td>...</td>\n",
       "      <td>...</td>\n",
       "      <td>...</td>\n",
       "      <td>...</td>\n",
       "      <td>...</td>\n",
       "      <td>...</td>\n",
       "      <td>...</td>\n",
       "    </tr>\n",
       "    <tr>\n",
       "      <th>23048</th>\n",
       "      <td>94340757522</td>\n",
       "      <td>274550</td>\n",
       "      <td>2011-01-25</td>\n",
       "      <td>12</td>\n",
       "      <td>5</td>\n",
       "      <td>1</td>\n",
       "      <td>1264</td>\n",
       "      <td>132.720</td>\n",
       "      <td>1396.720</td>\n",
       "      <td>e-Shop</td>\n",
       "      <td>Books</td>\n",
       "      <td>Academic</td>\n",
       "      <td>1972-02-21</td>\n",
       "      <td>M</td>\n",
       "      <td>7.0</td>\n",
       "    </tr>\n",
       "    <tr>\n",
       "      <th>23049</th>\n",
       "      <td>89780862956</td>\n",
       "      <td>270022</td>\n",
       "      <td>2011-01-25</td>\n",
       "      <td>4</td>\n",
       "      <td>1</td>\n",
       "      <td>1</td>\n",
       "      <td>677</td>\n",
       "      <td>71.085</td>\n",
       "      <td>748.085</td>\n",
       "      <td>e-Shop</td>\n",
       "      <td>Clothing</td>\n",
       "      <td>Mens</td>\n",
       "      <td>1984-04-27</td>\n",
       "      <td>M</td>\n",
       "      <td>9.0</td>\n",
       "    </tr>\n",
       "    <tr>\n",
       "      <th>23050</th>\n",
       "      <td>85115299378</td>\n",
       "      <td>271020</td>\n",
       "      <td>2011-01-25</td>\n",
       "      <td>2</td>\n",
       "      <td>6</td>\n",
       "      <td>4</td>\n",
       "      <td>1052</td>\n",
       "      <td>441.840</td>\n",
       "      <td>4649.840</td>\n",
       "      <td>MBR</td>\n",
       "      <td>Home and kitchen</td>\n",
       "      <td>Furnishing</td>\n",
       "      <td>1976-06-20</td>\n",
       "      <td>M</td>\n",
       "      <td>8.0</td>\n",
       "    </tr>\n",
       "    <tr>\n",
       "      <th>23051</th>\n",
       "      <td>72870271171</td>\n",
       "      <td>270911</td>\n",
       "      <td>2011-01-25</td>\n",
       "      <td>11</td>\n",
       "      <td>5</td>\n",
       "      <td>3</td>\n",
       "      <td>1142</td>\n",
       "      <td>359.730</td>\n",
       "      <td>3785.730</td>\n",
       "      <td>TeleShop</td>\n",
       "      <td>Books</td>\n",
       "      <td>Children</td>\n",
       "      <td>1970-05-22</td>\n",
       "      <td>M</td>\n",
       "      <td>2.0</td>\n",
       "    </tr>\n",
       "    <tr>\n",
       "      <th>23052</th>\n",
       "      <td>77960931771</td>\n",
       "      <td>271961</td>\n",
       "      <td>2011-01-25</td>\n",
       "      <td>11</td>\n",
       "      <td>5</td>\n",
       "      <td>1</td>\n",
       "      <td>447</td>\n",
       "      <td>46.935</td>\n",
       "      <td>493.935</td>\n",
       "      <td>TeleShop</td>\n",
       "      <td>Books</td>\n",
       "      <td>Children</td>\n",
       "      <td>1982-01-15</td>\n",
       "      <td>M</td>\n",
       "      <td>1.0</td>\n",
       "    </tr>\n",
       "  </tbody>\n",
       "</table>\n",
       "<p>20876 rows × 15 columns</p>\n",
       "</div>"
      ],
      "text/plain": [
       "       transaction_id  cust_id  tran_date  prod_sub_cat_code  prod_cat_code  \\\n",
       "10        29258453508   270384 2014-02-20                  5              3   \n",
       "11        25455265351   267750 2014-02-20                 12              6   \n",
       "12         1571002198   275023 2014-02-20                  6              5   \n",
       "14        36554696014   269345 2014-02-20                  3              5   \n",
       "15        56814940239   268799 2014-02-20                  7              5   \n",
       "...               ...      ...        ...                ...            ...   \n",
       "23048     94340757522   274550 2011-01-25                 12              5   \n",
       "23049     89780862956   270022 2011-01-25                  4              1   \n",
       "23050     85115299378   271020 2011-01-25                  2              6   \n",
       "23051     72870271171   270911 2011-01-25                 11              5   \n",
       "23052     77960931771   271961 2011-01-25                 11              5   \n",
       "\n",
       "       Qty  Rate      Tax  total_amt Store_type          prod_cat prod_subcat  \\\n",
       "10       5  1497  785.925   8270.925     e-Shop       Electronics   Computers   \n",
       "11       3  1360  428.400   4508.400     e-Shop  Home and kitchen       Tools   \n",
       "12       4   587  246.540   2594.540     e-Shop             Books         DIY   \n",
       "14       3  1253  394.695   4153.695     e-Shop             Books      Comics   \n",
       "15       5   368  193.200   2033.200     e-Shop             Books     Fiction   \n",
       "...    ...   ...      ...        ...        ...               ...         ...   \n",
       "23048    1  1264  132.720   1396.720     e-Shop             Books    Academic   \n",
       "23049    1   677   71.085    748.085     e-Shop          Clothing        Mens   \n",
       "23050    4  1052  441.840   4649.840        MBR  Home and kitchen  Furnishing   \n",
       "23051    3  1142  359.730   3785.730   TeleShop             Books    Children   \n",
       "23052    1   447   46.935    493.935   TeleShop             Books    Children   \n",
       "\n",
       "             DOB Gender  city_code  \n",
       "10    1973-05-11      F        8.0  \n",
       "11    1986-10-13      M        1.0  \n",
       "12    1971-03-09      M        6.0  \n",
       "14    1970-06-26      F       10.0  \n",
       "15    1979-06-27      M        9.0  \n",
       "...          ...    ...        ...  \n",
       "23048 1972-02-21      M        7.0  \n",
       "23049 1984-04-27      M        9.0  \n",
       "23050 1976-06-20      M        8.0  \n",
       "23051 1970-05-22      M        2.0  \n",
       "23052 1982-01-15      M        1.0  \n",
       "\n",
       "[20876 rows x 15 columns]"
      ]
     },
     "execution_count": 109,
     "metadata": {},
     "output_type": "execute_result"
    }
   ],
   "source": [
    "pos_trans = df.loc[df[\"total_amt\"]>0,:]\n",
    "pos_trans"
   ]
  },
  {
   "cell_type": "code",
   "execution_count": 110,
   "id": "48af7806",
   "metadata": {},
   "outputs": [],
   "source": [
    "#Finding out all the unique transactions across all the customers"
   ]
  },
  {
   "cell_type": "code",
   "execution_count": 111,
   "id": "2720af4d",
   "metadata": {},
   "outputs": [
    {
     "data": {
      "text/html": [
       "<div>\n",
       "<style scoped>\n",
       "    .dataframe tbody tr th:only-of-type {\n",
       "        vertical-align: middle;\n",
       "    }\n",
       "\n",
       "    .dataframe tbody tr th {\n",
       "        vertical-align: top;\n",
       "    }\n",
       "\n",
       "    .dataframe thead th {\n",
       "        text-align: right;\n",
       "    }\n",
       "</style>\n",
       "<table border=\"1\" class=\"dataframe\">\n",
       "  <thead>\n",
       "    <tr style=\"text-align: right;\">\n",
       "      <th></th>\n",
       "      <th>cust_id</th>\n",
       "      <th>prod_cat</th>\n",
       "      <th>prod_subcat</th>\n",
       "      <th>transaction_id</th>\n",
       "    </tr>\n",
       "  </thead>\n",
       "  <tbody>\n",
       "    <tr>\n",
       "      <th>0</th>\n",
       "      <td>266783</td>\n",
       "      <td>Books</td>\n",
       "      <td>Non-Fiction</td>\n",
       "      <td>1</td>\n",
       "    </tr>\n",
       "    <tr>\n",
       "      <th>1</th>\n",
       "      <td>266783</td>\n",
       "      <td>Clothing</td>\n",
       "      <td>Mens</td>\n",
       "      <td>2</td>\n",
       "    </tr>\n",
       "    <tr>\n",
       "      <th>2</th>\n",
       "      <td>266783</td>\n",
       "      <td>Footwear</td>\n",
       "      <td>Mens</td>\n",
       "      <td>1</td>\n",
       "    </tr>\n",
       "    <tr>\n",
       "      <th>3</th>\n",
       "      <td>266784</td>\n",
       "      <td>Books</td>\n",
       "      <td>Fiction</td>\n",
       "      <td>1</td>\n",
       "    </tr>\n",
       "    <tr>\n",
       "      <th>4</th>\n",
       "      <td>266784</td>\n",
       "      <td>Books</td>\n",
       "      <td>Non-Fiction</td>\n",
       "      <td>1</td>\n",
       "    </tr>\n",
       "    <tr>\n",
       "      <th>...</th>\n",
       "      <td>...</td>\n",
       "      <td>...</td>\n",
       "      <td>...</td>\n",
       "      <td>...</td>\n",
       "    </tr>\n",
       "    <tr>\n",
       "      <th>19273</th>\n",
       "      <td>275264</td>\n",
       "      <td>Books</td>\n",
       "      <td>Non-Fiction</td>\n",
       "      <td>1</td>\n",
       "    </tr>\n",
       "    <tr>\n",
       "      <th>19274</th>\n",
       "      <td>275264</td>\n",
       "      <td>Home and kitchen</td>\n",
       "      <td>Tools</td>\n",
       "      <td>1</td>\n",
       "    </tr>\n",
       "    <tr>\n",
       "      <th>19275</th>\n",
       "      <td>275265</td>\n",
       "      <td>Bags</td>\n",
       "      <td>Mens</td>\n",
       "      <td>1</td>\n",
       "    </tr>\n",
       "    <tr>\n",
       "      <th>19276</th>\n",
       "      <td>275265</td>\n",
       "      <td>Books</td>\n",
       "      <td>Academic</td>\n",
       "      <td>1</td>\n",
       "    </tr>\n",
       "    <tr>\n",
       "      <th>19277</th>\n",
       "      <td>275265</td>\n",
       "      <td>Home and kitchen</td>\n",
       "      <td>Furnishing</td>\n",
       "      <td>1</td>\n",
       "    </tr>\n",
       "  </tbody>\n",
       "</table>\n",
       "<p>19278 rows × 4 columns</p>\n",
       "</div>"
      ],
      "text/plain": [
       "       cust_id          prod_cat  prod_subcat  transaction_id\n",
       "0       266783             Books  Non-Fiction               1\n",
       "1       266783          Clothing         Mens               2\n",
       "2       266783          Footwear         Mens               1\n",
       "3       266784             Books      Fiction               1\n",
       "4       266784             Books  Non-Fiction               1\n",
       "...        ...               ...          ...             ...\n",
       "19273   275264             Books  Non-Fiction               1\n",
       "19274   275264  Home and kitchen        Tools               1\n",
       "19275   275265              Bags         Mens               1\n",
       "19276   275265             Books     Academic               1\n",
       "19277   275265  Home and kitchen   Furnishing               1\n",
       "\n",
       "[19278 rows x 4 columns]"
      ]
     },
     "execution_count": 111,
     "metadata": {},
     "output_type": "execute_result"
    }
   ],
   "source": [
    "unique_trans = pos_trans.groupby(['cust_id','prod_cat','prod_subcat'])['transaction_id'].count().reset_index()\n",
    "unique_trans"
   ]
  },
  {
   "cell_type": "code",
   "execution_count": 112,
   "id": "d9b47399",
   "metadata": {},
   "outputs": [],
   "source": [
    "# #Counting all the unique transactions among all the customers"
   ]
  },
  {
   "cell_type": "code",
   "execution_count": 113,
   "id": "3de28d00",
   "metadata": {},
   "outputs": [
    {
     "data": {
      "text/html": [
       "<div>\n",
       "<style scoped>\n",
       "    .dataframe tbody tr th:only-of-type {\n",
       "        vertical-align: middle;\n",
       "    }\n",
       "\n",
       "    .dataframe tbody tr th {\n",
       "        vertical-align: top;\n",
       "    }\n",
       "\n",
       "    .dataframe thead th {\n",
       "        text-align: right;\n",
       "    }\n",
       "</style>\n",
       "<table border=\"1\" class=\"dataframe\">\n",
       "  <thead>\n",
       "    <tr style=\"text-align: right;\">\n",
       "      <th></th>\n",
       "      <th>cust_id</th>\n",
       "      <th>transaction_id</th>\n",
       "    </tr>\n",
       "  </thead>\n",
       "  <tbody>\n",
       "    <tr>\n",
       "      <th>0</th>\n",
       "      <td>266783</td>\n",
       "      <td>3</td>\n",
       "    </tr>\n",
       "    <tr>\n",
       "      <th>1</th>\n",
       "      <td>266784</td>\n",
       "      <td>3</td>\n",
       "    </tr>\n",
       "    <tr>\n",
       "      <th>2</th>\n",
       "      <td>266785</td>\n",
       "      <td>5</td>\n",
       "    </tr>\n",
       "    <tr>\n",
       "      <th>3</th>\n",
       "      <td>266788</td>\n",
       "      <td>4</td>\n",
       "    </tr>\n",
       "    <tr>\n",
       "      <th>4</th>\n",
       "      <td>266794</td>\n",
       "      <td>8</td>\n",
       "    </tr>\n",
       "    <tr>\n",
       "      <th>...</th>\n",
       "      <td>...</td>\n",
       "      <td>...</td>\n",
       "    </tr>\n",
       "    <tr>\n",
       "      <th>5501</th>\n",
       "      <td>275257</td>\n",
       "      <td>4</td>\n",
       "    </tr>\n",
       "    <tr>\n",
       "      <th>5502</th>\n",
       "      <td>275261</td>\n",
       "      <td>3</td>\n",
       "    </tr>\n",
       "    <tr>\n",
       "      <th>5503</th>\n",
       "      <td>275262</td>\n",
       "      <td>2</td>\n",
       "    </tr>\n",
       "    <tr>\n",
       "      <th>5504</th>\n",
       "      <td>275264</td>\n",
       "      <td>2</td>\n",
       "    </tr>\n",
       "    <tr>\n",
       "      <th>5505</th>\n",
       "      <td>275265</td>\n",
       "      <td>3</td>\n",
       "    </tr>\n",
       "  </tbody>\n",
       "</table>\n",
       "<p>5506 rows × 2 columns</p>\n",
       "</div>"
      ],
      "text/plain": [
       "      cust_id  transaction_id\n",
       "0      266783               3\n",
       "1      266784               3\n",
       "2      266785               5\n",
       "3      266788               4\n",
       "4      266794               8\n",
       "...       ...             ...\n",
       "5501   275257               4\n",
       "5502   275261               3\n",
       "5503   275262               2\n",
       "5504   275264               2\n",
       "5505   275265               3\n",
       "\n",
       "[5506 rows x 2 columns]"
      ]
     },
     "execution_count": 113,
     "metadata": {},
     "output_type": "execute_result"
    }
   ],
   "source": [
    "unique_trans_count = unique_trans.groupby('cust_id')['transaction_id'].count().reset_index()\n",
    "unique_trans_count"
   ]
  },
  {
   "cell_type": "code",
   "execution_count": 114,
   "id": "b45226fb",
   "metadata": {},
   "outputs": [],
   "source": [
    "#Checking if there exists any customer with more than 10 unique transactions "
   ]
  },
  {
   "cell_type": "code",
   "execution_count": 115,
   "id": "8b3ae3d0",
   "metadata": {},
   "outputs": [
    {
     "data": {
      "text/html": [
       "<div>\n",
       "<style scoped>\n",
       "    .dataframe tbody tr th:only-of-type {\n",
       "        vertical-align: middle;\n",
       "    }\n",
       "\n",
       "    .dataframe tbody tr th {\n",
       "        vertical-align: top;\n",
       "    }\n",
       "\n",
       "    .dataframe thead th {\n",
       "        text-align: right;\n",
       "    }\n",
       "</style>\n",
       "<table border=\"1\" class=\"dataframe\">\n",
       "  <thead>\n",
       "    <tr style=\"text-align: right;\">\n",
       "      <th></th>\n",
       "      <th>cust_id</th>\n",
       "      <th>transaction_id</th>\n",
       "    </tr>\n",
       "  </thead>\n",
       "  <tbody>\n",
       "  </tbody>\n",
       "</table>\n",
       "</div>"
      ],
      "text/plain": [
       "Empty DataFrame\n",
       "Columns: [cust_id, transaction_id]\n",
       "Index: []"
      ]
     },
     "execution_count": 115,
     "metadata": {},
     "output_type": "execute_result"
    }
   ],
   "source": [
    "unique_trans_count[unique_trans_count['transaction_id'] > 10]"
   ]
  },
  {
   "cell_type": "code",
   "execution_count": 116,
   "id": "07e5a099",
   "metadata": {},
   "outputs": [
    {
     "name": "stdout",
     "output_type": "stream",
     "text": [
      "There are no unique transactions greater than 10\n"
     ]
    }
   ],
   "source": [
    "print('There are no unique transactions greater than 10')"
   ]
  },
  {
   "cell_type": "markdown",
   "id": "3fce36eb",
   "metadata": {},
   "source": [
    "# 11. For all customers aged between 25 - 35, find out:"
   ]
  },
  {
   "cell_type": "markdown",
   "id": "377bcc6c",
   "metadata": {},
   "source": [
    "# a. What was the total amount spent for “Electronics” and “Books” product categories?"
   ]
  },
  {
   "cell_type": "code",
   "execution_count": 117,
   "id": "4491a505",
   "metadata": {},
   "outputs": [],
   "source": [
    "#Adding new column \"age\""
   ]
  },
  {
   "cell_type": "code",
   "execution_count": 118,
   "id": "e4ddfcb1",
   "metadata": {},
   "outputs": [],
   "source": [
    "now = pd.Timestamp('now')\n",
    "df['DOB'] = pd.to_datetime(df['DOB'], format='%m%d%y')   \n",
    "df['DOB'] = df['DOB'].where(df['DOB'] < now, df['DOB'] -  np.timedelta64(100, 'Y'))\n",
    "df['AGE'] = (now - df['DOB']).astype('<m8[Y]')"
   ]
  },
  {
   "cell_type": "code",
   "execution_count": 119,
   "id": "b9ff6449",
   "metadata": {},
   "outputs": [
    {
     "data": {
      "text/html": [
       "<div>\n",
       "<style scoped>\n",
       "    .dataframe tbody tr th:only-of-type {\n",
       "        vertical-align: middle;\n",
       "    }\n",
       "\n",
       "    .dataframe tbody tr th {\n",
       "        vertical-align: top;\n",
       "    }\n",
       "\n",
       "    .dataframe thead th {\n",
       "        text-align: right;\n",
       "    }\n",
       "</style>\n",
       "<table border=\"1\" class=\"dataframe\">\n",
       "  <thead>\n",
       "    <tr style=\"text-align: right;\">\n",
       "      <th></th>\n",
       "      <th>transaction_id</th>\n",
       "      <th>cust_id</th>\n",
       "      <th>tran_date</th>\n",
       "      <th>prod_sub_cat_code</th>\n",
       "      <th>prod_cat_code</th>\n",
       "      <th>Qty</th>\n",
       "      <th>Rate</th>\n",
       "      <th>Tax</th>\n",
       "      <th>total_amt</th>\n",
       "      <th>Store_type</th>\n",
       "      <th>prod_cat</th>\n",
       "      <th>prod_subcat</th>\n",
       "      <th>DOB</th>\n",
       "      <th>Gender</th>\n",
       "      <th>city_code</th>\n",
       "      <th>AGE</th>\n",
       "    </tr>\n",
       "  </thead>\n",
       "  <tbody>\n",
       "    <tr>\n",
       "      <th>0</th>\n",
       "      <td>80712190438</td>\n",
       "      <td>270351</td>\n",
       "      <td>2014-02-28</td>\n",
       "      <td>1</td>\n",
       "      <td>1</td>\n",
       "      <td>-5</td>\n",
       "      <td>-772</td>\n",
       "      <td>405.300</td>\n",
       "      <td>-4265.300</td>\n",
       "      <td>e-Shop</td>\n",
       "      <td>Clothing</td>\n",
       "      <td>Women</td>\n",
       "      <td>1981-09-26</td>\n",
       "      <td>M</td>\n",
       "      <td>5.0</td>\n",
       "      <td>40.0</td>\n",
       "    </tr>\n",
       "    <tr>\n",
       "      <th>1</th>\n",
       "      <td>29258453508</td>\n",
       "      <td>270384</td>\n",
       "      <td>2014-02-27</td>\n",
       "      <td>5</td>\n",
       "      <td>3</td>\n",
       "      <td>-5</td>\n",
       "      <td>-1497</td>\n",
       "      <td>785.925</td>\n",
       "      <td>-8270.925</td>\n",
       "      <td>e-Shop</td>\n",
       "      <td>Electronics</td>\n",
       "      <td>Computers</td>\n",
       "      <td>1973-05-11</td>\n",
       "      <td>F</td>\n",
       "      <td>8.0</td>\n",
       "      <td>49.0</td>\n",
       "    </tr>\n",
       "  </tbody>\n",
       "</table>\n",
       "</div>"
      ],
      "text/plain": [
       "   transaction_id  cust_id  tran_date  prod_sub_cat_code  prod_cat_code  Qty  \\\n",
       "0     80712190438   270351 2014-02-28                  1              1   -5   \n",
       "1     29258453508   270384 2014-02-27                  5              3   -5   \n",
       "\n",
       "   Rate      Tax  total_amt Store_type     prod_cat prod_subcat        DOB  \\\n",
       "0  -772  405.300  -4265.300     e-Shop     Clothing       Women 1981-09-26   \n",
       "1 -1497  785.925  -8270.925     e-Shop  Electronics   Computers 1973-05-11   \n",
       "\n",
       "  Gender  city_code   AGE  \n",
       "0      M        5.0  40.0  \n",
       "1      F        8.0  49.0  "
      ]
     },
     "execution_count": 119,
     "metadata": {},
     "output_type": "execute_result"
    }
   ],
   "source": [
    "df.head(2)"
   ]
  },
  {
   "cell_type": "markdown",
   "id": "9932cfb1",
   "metadata": {},
   "source": [
    "as we have to deal with customers aged between 25-35, so creating new column 'Age_cat'"
   ]
  },
  {
   "cell_type": "code",
   "execution_count": 120,
   "id": "8ce9a9d6",
   "metadata": {},
   "outputs": [],
   "source": [
    "df['Age_cat'] = pd.cut(df['AGE'],bins=[24,35,46,57],labels=['25-35','36-46','47-57'],include_lowest=True)"
   ]
  },
  {
   "cell_type": "code",
   "execution_count": 121,
   "id": "1e30e947",
   "metadata": {},
   "outputs": [
    {
     "data": {
      "text/html": [
       "<div>\n",
       "<style scoped>\n",
       "    .dataframe tbody tr th:only-of-type {\n",
       "        vertical-align: middle;\n",
       "    }\n",
       "\n",
       "    .dataframe tbody tr th {\n",
       "        vertical-align: top;\n",
       "    }\n",
       "\n",
       "    .dataframe thead th {\n",
       "        text-align: right;\n",
       "    }\n",
       "</style>\n",
       "<table border=\"1\" class=\"dataframe\">\n",
       "  <thead>\n",
       "    <tr style=\"text-align: right;\">\n",
       "      <th></th>\n",
       "      <th>transaction_id</th>\n",
       "      <th>cust_id</th>\n",
       "      <th>tran_date</th>\n",
       "      <th>prod_sub_cat_code</th>\n",
       "      <th>prod_cat_code</th>\n",
       "      <th>Qty</th>\n",
       "      <th>Rate</th>\n",
       "      <th>Tax</th>\n",
       "      <th>total_amt</th>\n",
       "      <th>Store_type</th>\n",
       "      <th>prod_cat</th>\n",
       "      <th>prod_subcat</th>\n",
       "      <th>DOB</th>\n",
       "      <th>Gender</th>\n",
       "      <th>city_code</th>\n",
       "      <th>AGE</th>\n",
       "      <th>Age_cat</th>\n",
       "    </tr>\n",
       "  </thead>\n",
       "  <tbody>\n",
       "    <tr>\n",
       "      <th>0</th>\n",
       "      <td>80712190438</td>\n",
       "      <td>270351</td>\n",
       "      <td>2014-02-28</td>\n",
       "      <td>1</td>\n",
       "      <td>1</td>\n",
       "      <td>-5</td>\n",
       "      <td>-772</td>\n",
       "      <td>405.300</td>\n",
       "      <td>-4265.300</td>\n",
       "      <td>e-Shop</td>\n",
       "      <td>Clothing</td>\n",
       "      <td>Women</td>\n",
       "      <td>1981-09-26</td>\n",
       "      <td>M</td>\n",
       "      <td>5.0</td>\n",
       "      <td>40.0</td>\n",
       "      <td>36-46</td>\n",
       "    </tr>\n",
       "    <tr>\n",
       "      <th>1</th>\n",
       "      <td>29258453508</td>\n",
       "      <td>270384</td>\n",
       "      <td>2014-02-27</td>\n",
       "      <td>5</td>\n",
       "      <td>3</td>\n",
       "      <td>-5</td>\n",
       "      <td>-1497</td>\n",
       "      <td>785.925</td>\n",
       "      <td>-8270.925</td>\n",
       "      <td>e-Shop</td>\n",
       "      <td>Electronics</td>\n",
       "      <td>Computers</td>\n",
       "      <td>1973-05-11</td>\n",
       "      <td>F</td>\n",
       "      <td>8.0</td>\n",
       "      <td>49.0</td>\n",
       "      <td>47-57</td>\n",
       "    </tr>\n",
       "    <tr>\n",
       "      <th>2</th>\n",
       "      <td>51750724947</td>\n",
       "      <td>273420</td>\n",
       "      <td>2014-02-24</td>\n",
       "      <td>6</td>\n",
       "      <td>5</td>\n",
       "      <td>-2</td>\n",
       "      <td>-791</td>\n",
       "      <td>166.110</td>\n",
       "      <td>-1748.110</td>\n",
       "      <td>TeleShop</td>\n",
       "      <td>Books</td>\n",
       "      <td>DIY</td>\n",
       "      <td>1992-07-27</td>\n",
       "      <td>M</td>\n",
       "      <td>8.0</td>\n",
       "      <td>29.0</td>\n",
       "      <td>25-35</td>\n",
       "    </tr>\n",
       "    <tr>\n",
       "      <th>3</th>\n",
       "      <td>93274880719</td>\n",
       "      <td>271509</td>\n",
       "      <td>2014-02-24</td>\n",
       "      <td>11</td>\n",
       "      <td>6</td>\n",
       "      <td>-3</td>\n",
       "      <td>-1363</td>\n",
       "      <td>429.345</td>\n",
       "      <td>-4518.345</td>\n",
       "      <td>e-Shop</td>\n",
       "      <td>Home and kitchen</td>\n",
       "      <td>Bath</td>\n",
       "      <td>1981-06-08</td>\n",
       "      <td>M</td>\n",
       "      <td>3.0</td>\n",
       "      <td>41.0</td>\n",
       "      <td>36-46</td>\n",
       "    </tr>\n",
       "    <tr>\n",
       "      <th>4</th>\n",
       "      <td>51750724947</td>\n",
       "      <td>273420</td>\n",
       "      <td>2014-02-23</td>\n",
       "      <td>6</td>\n",
       "      <td>5</td>\n",
       "      <td>-2</td>\n",
       "      <td>-791</td>\n",
       "      <td>166.110</td>\n",
       "      <td>-1748.110</td>\n",
       "      <td>TeleShop</td>\n",
       "      <td>Books</td>\n",
       "      <td>DIY</td>\n",
       "      <td>1992-07-27</td>\n",
       "      <td>M</td>\n",
       "      <td>8.0</td>\n",
       "      <td>29.0</td>\n",
       "      <td>25-35</td>\n",
       "    </tr>\n",
       "  </tbody>\n",
       "</table>\n",
       "</div>"
      ],
      "text/plain": [
       "   transaction_id  cust_id  tran_date  prod_sub_cat_code  prod_cat_code  Qty  \\\n",
       "0     80712190438   270351 2014-02-28                  1              1   -5   \n",
       "1     29258453508   270384 2014-02-27                  5              3   -5   \n",
       "2     51750724947   273420 2014-02-24                  6              5   -2   \n",
       "3     93274880719   271509 2014-02-24                 11              6   -3   \n",
       "4     51750724947   273420 2014-02-23                  6              5   -2   \n",
       "\n",
       "   Rate      Tax  total_amt Store_type          prod_cat prod_subcat  \\\n",
       "0  -772  405.300  -4265.300     e-Shop          Clothing       Women   \n",
       "1 -1497  785.925  -8270.925     e-Shop       Electronics   Computers   \n",
       "2  -791  166.110  -1748.110   TeleShop             Books         DIY   \n",
       "3 -1363  429.345  -4518.345     e-Shop  Home and kitchen        Bath   \n",
       "4  -791  166.110  -1748.110   TeleShop             Books         DIY   \n",
       "\n",
       "         DOB Gender  city_code   AGE Age_cat  \n",
       "0 1981-09-26      M        5.0  40.0   36-46  \n",
       "1 1973-05-11      F        8.0  49.0   47-57  \n",
       "2 1992-07-27      M        8.0  29.0   25-35  \n",
       "3 1981-06-08      M        3.0  41.0   36-46  \n",
       "4 1992-07-27      M        8.0  29.0   25-35  "
      ]
     },
     "execution_count": 121,
     "metadata": {},
     "output_type": "execute_result"
    }
   ],
   "source": [
    "df.head()"
   ]
  },
  {
   "cell_type": "code",
   "execution_count": 122,
   "id": "7ccb0cee",
   "metadata": {},
   "outputs": [
    {
     "data": {
      "text/plain": [
       "Age_cat  prod_cat        \n",
       "25-35    Bags                1122020.315\n",
       "         Books               3381021.540\n",
       "         Clothing            1939255.110\n",
       "         Electronics         3093856.350\n",
       "         Footwear            1868087.585\n",
       "         Home and kitchen    2433523.820\n",
       "36-46    Bags                1937870.545\n",
       "         Books               6353944.480\n",
       "         Clothing            2914828.670\n",
       "         Electronics         5016634.805\n",
       "         Footwear            2893729.800\n",
       "         Home and kitchen    4084811.510\n",
       "47-57    Bags                1066450.970\n",
       "         Books               3097626.610\n",
       "         Clothing            1397053.710\n",
       "         Electronics         2620214.675\n",
       "         Footwear            1464087.430\n",
       "         Home and kitchen    1926276.885\n",
       "Name: total_amt, dtype: float64"
      ]
     },
     "execution_count": 122,
     "metadata": {},
     "output_type": "execute_result"
    }
   ],
   "source": [
    "customer_25_35 = df.groupby(['Age_cat','prod_cat'])['total_amt'].sum()\n",
    "customer_25_35"
   ]
  },
  {
   "cell_type": "code",
   "execution_count": 123,
   "id": "201e2e78",
   "metadata": {},
   "outputs": [
    {
     "data": {
      "text/plain": [
       "<AxesSubplot:title={'center':'Sales Amount across Age categories'}, xlabel='Age_cat vs prod_cat', ylabel='Total Amount'>"
      ]
     },
     "execution_count": 123,
     "metadata": {},
     "output_type": "execute_result"
    },
    {
     "data": {
      "image/png": "[encoded data removed]",
      "text/plain": [
       "<Figure size 864x576 with 1 Axes>"
      ]
     },
     "metadata": {
      "needs_background": "light"
     },
     "output_type": "display_data"
    }
   ],
   "source": [
    "customer_25_35.plot(kind=\"bar\",figsize=(12,8), xlabel=(\"Age_cat vs prod_cat\"),ylabel= (\"Total Amount\"), legend= True, title= \"Sales Amount across Age categories\")"
   ]
  },
  {
   "cell_type": "code",
   "execution_count": 124,
   "id": "33da66b4",
   "metadata": {},
   "outputs": [
    {
     "data": {
      "text/plain": [
       "Age_cat  prod_cat   \n",
       "25-35    Books          3381021.54\n",
       "         Electronics    3093856.35\n",
       "Name: total_amt, dtype: float64"
      ]
     },
     "execution_count": 124,
     "metadata": {},
     "output_type": "execute_result"
    }
   ],
   "source": [
    "a=customer_25_35.loc['25-35',['Books','Electronics']]\n",
    "a"
   ]
  },
  {
   "cell_type": "code",
   "execution_count": 125,
   "id": "5a6f1683",
   "metadata": {},
   "outputs": [
    {
     "data": {
      "text/plain": [
       "<AxesSubplot:title={'center':'Total Amount for Books and Electronics'}, xlabel='Age_cat vs prod_cat', ylabel='Total Amount'>"
      ]
     },
     "execution_count": 125,
     "metadata": {},
     "output_type": "execute_result"
    },
    {
     "data": {
      "image/png": "[encoded data removed]",
      "text/plain": [
       "<Figure size 432x432 with 1 Axes>"
      ]
     },
     "metadata": {
      "needs_background": "light"
     },
     "output_type": "display_data"
    }
   ],
   "source": [
    "a.plot(kind=\"bar\",figsize=(6,6), xlabel=(\"Age_cat vs prod_cat\"),ylabel= (\"Total Amount\"), legend= True, title= \"Total Amount for Books and Electronics\")"
   ]
  },
  {
   "cell_type": "code",
   "execution_count": 126,
   "id": "11ee97e9",
   "metadata": {},
   "outputs": [
    {
     "name": "stdout",
     "output_type": "stream",
     "text": [
      "Total amount spent on 'Electronics' and 'Books' product categories is 6474877.89\n"
     ]
    }
   ],
   "source": [
    "print(\"Total amount spent on 'Electronics' and 'Books' product categories is\", \n",
    "      customer_25_35.loc['25-35',['Books','Electronics']].sum().round(2))"
   ]
  },
  {
   "cell_type": "markdown",
   "id": "80574354",
   "metadata": {},
   "source": [
    "# b. What was the total amount spent by these customers between 1st Jan, 2014 to 1st Mar, 2014?"
   ]
  },
  {
   "cell_type": "code",
   "execution_count": 127,
   "id": "d53569ff",
   "metadata": {},
   "outputs": [
    {
     "data": {
      "text/html": [
       "<div>\n",
       "<style scoped>\n",
       "    .dataframe tbody tr th:only-of-type {\n",
       "        vertical-align: middle;\n",
       "    }\n",
       "\n",
       "    .dataframe tbody tr th {\n",
       "        vertical-align: top;\n",
       "    }\n",
       "\n",
       "    .dataframe thead th {\n",
       "        text-align: right;\n",
       "    }\n",
       "</style>\n",
       "<table border=\"1\" class=\"dataframe\">\n",
       "  <thead>\n",
       "    <tr style=\"text-align: right;\">\n",
       "      <th></th>\n",
       "      <th>transaction_id</th>\n",
       "      <th>cust_id</th>\n",
       "      <th>tran_date</th>\n",
       "      <th>prod_sub_cat_code</th>\n",
       "      <th>prod_cat_code</th>\n",
       "      <th>Qty</th>\n",
       "      <th>Rate</th>\n",
       "      <th>Tax</th>\n",
       "      <th>total_amt</th>\n",
       "      <th>Store_type</th>\n",
       "      <th>prod_cat</th>\n",
       "      <th>prod_subcat</th>\n",
       "      <th>DOB</th>\n",
       "      <th>Gender</th>\n",
       "      <th>city_code</th>\n",
       "      <th>AGE</th>\n",
       "      <th>Age_cat</th>\n",
       "    </tr>\n",
       "  </thead>\n",
       "  <tbody>\n",
       "    <tr>\n",
       "      <th>0</th>\n",
       "      <td>80712190438</td>\n",
       "      <td>270351</td>\n",
       "      <td>2014-02-28</td>\n",
       "      <td>1</td>\n",
       "      <td>1</td>\n",
       "      <td>-5</td>\n",
       "      <td>-772</td>\n",
       "      <td>405.300</td>\n",
       "      <td>-4265.300</td>\n",
       "      <td>e-Shop</td>\n",
       "      <td>Clothing</td>\n",
       "      <td>Women</td>\n",
       "      <td>1981-09-26</td>\n",
       "      <td>M</td>\n",
       "      <td>5.0</td>\n",
       "      <td>40.0</td>\n",
       "      <td>36-46</td>\n",
       "    </tr>\n",
       "    <tr>\n",
       "      <th>1</th>\n",
       "      <td>29258453508</td>\n",
       "      <td>270384</td>\n",
       "      <td>2014-02-27</td>\n",
       "      <td>5</td>\n",
       "      <td>3</td>\n",
       "      <td>-5</td>\n",
       "      <td>-1497</td>\n",
       "      <td>785.925</td>\n",
       "      <td>-8270.925</td>\n",
       "      <td>e-Shop</td>\n",
       "      <td>Electronics</td>\n",
       "      <td>Computers</td>\n",
       "      <td>1973-05-11</td>\n",
       "      <td>F</td>\n",
       "      <td>8.0</td>\n",
       "      <td>49.0</td>\n",
       "      <td>47-57</td>\n",
       "    </tr>\n",
       "    <tr>\n",
       "      <th>2</th>\n",
       "      <td>51750724947</td>\n",
       "      <td>273420</td>\n",
       "      <td>2014-02-24</td>\n",
       "      <td>6</td>\n",
       "      <td>5</td>\n",
       "      <td>-2</td>\n",
       "      <td>-791</td>\n",
       "      <td>166.110</td>\n",
       "      <td>-1748.110</td>\n",
       "      <td>TeleShop</td>\n",
       "      <td>Books</td>\n",
       "      <td>DIY</td>\n",
       "      <td>1992-07-27</td>\n",
       "      <td>M</td>\n",
       "      <td>8.0</td>\n",
       "      <td>29.0</td>\n",
       "      <td>25-35</td>\n",
       "    </tr>\n",
       "    <tr>\n",
       "      <th>3</th>\n",
       "      <td>93274880719</td>\n",
       "      <td>271509</td>\n",
       "      <td>2014-02-24</td>\n",
       "      <td>11</td>\n",
       "      <td>6</td>\n",
       "      <td>-3</td>\n",
       "      <td>-1363</td>\n",
       "      <td>429.345</td>\n",
       "      <td>-4518.345</td>\n",
       "      <td>e-Shop</td>\n",
       "      <td>Home and kitchen</td>\n",
       "      <td>Bath</td>\n",
       "      <td>1981-06-08</td>\n",
       "      <td>M</td>\n",
       "      <td>3.0</td>\n",
       "      <td>41.0</td>\n",
       "      <td>36-46</td>\n",
       "    </tr>\n",
       "    <tr>\n",
       "      <th>4</th>\n",
       "      <td>51750724947</td>\n",
       "      <td>273420</td>\n",
       "      <td>2014-02-23</td>\n",
       "      <td>6</td>\n",
       "      <td>5</td>\n",
       "      <td>-2</td>\n",
       "      <td>-791</td>\n",
       "      <td>166.110</td>\n",
       "      <td>-1748.110</td>\n",
       "      <td>TeleShop</td>\n",
       "      <td>Books</td>\n",
       "      <td>DIY</td>\n",
       "      <td>1992-07-27</td>\n",
       "      <td>M</td>\n",
       "      <td>8.0</td>\n",
       "      <td>29.0</td>\n",
       "      <td>25-35</td>\n",
       "    </tr>\n",
       "  </tbody>\n",
       "</table>\n",
       "</div>"
      ],
      "text/plain": [
       "   transaction_id  cust_id  tran_date  prod_sub_cat_code  prod_cat_code  Qty  \\\n",
       "0     80712190438   270351 2014-02-28                  1              1   -5   \n",
       "1     29258453508   270384 2014-02-27                  5              3   -5   \n",
       "2     51750724947   273420 2014-02-24                  6              5   -2   \n",
       "3     93274880719   271509 2014-02-24                 11              6   -3   \n",
       "4     51750724947   273420 2014-02-23                  6              5   -2   \n",
       "\n",
       "   Rate      Tax  total_amt Store_type          prod_cat prod_subcat  \\\n",
       "0  -772  405.300  -4265.300     e-Shop          Clothing       Women   \n",
       "1 -1497  785.925  -8270.925     e-Shop       Electronics   Computers   \n",
       "2  -791  166.110  -1748.110   TeleShop             Books         DIY   \n",
       "3 -1363  429.345  -4518.345     e-Shop  Home and kitchen        Bath   \n",
       "4  -791  166.110  -1748.110   TeleShop             Books         DIY   \n",
       "\n",
       "         DOB Gender  city_code   AGE Age_cat  \n",
       "0 1981-09-26      M        5.0  40.0   36-46  \n",
       "1 1973-05-11      F        8.0  49.0   47-57  \n",
       "2 1992-07-27      M        8.0  29.0   25-35  \n",
       "3 1981-06-08      M        3.0  41.0   36-46  \n",
       "4 1992-07-27      M        8.0  29.0   25-35  "
      ]
     },
     "execution_count": 127,
     "metadata": {},
     "output_type": "execute_result"
    }
   ],
   "source": [
    "df.head()"
   ]
  },
  {
   "cell_type": "code",
   "execution_count": 128,
   "id": "2113155f",
   "metadata": {},
   "outputs": [],
   "source": [
    "customer_total_amount_25_35 = df[df['Age_cat']=='25-35']"
   ]
  },
  {
   "cell_type": "code",
   "execution_count": 129,
   "id": "7db26668",
   "metadata": {},
   "outputs": [
    {
     "data": {
      "text/html": [
       "<div>\n",
       "<style scoped>\n",
       "    .dataframe tbody tr th:only-of-type {\n",
       "        vertical-align: middle;\n",
       "    }\n",
       "\n",
       "    .dataframe tbody tr th {\n",
       "        vertical-align: top;\n",
       "    }\n",
       "\n",
       "    .dataframe thead th {\n",
       "        text-align: right;\n",
       "    }\n",
       "</style>\n",
       "<table border=\"1\" class=\"dataframe\">\n",
       "  <thead>\n",
       "    <tr style=\"text-align: right;\">\n",
       "      <th></th>\n",
       "      <th>transaction_id</th>\n",
       "      <th>cust_id</th>\n",
       "      <th>tran_date</th>\n",
       "      <th>prod_sub_cat_code</th>\n",
       "      <th>prod_cat_code</th>\n",
       "      <th>Qty</th>\n",
       "      <th>Rate</th>\n",
       "      <th>Tax</th>\n",
       "      <th>total_amt</th>\n",
       "      <th>Store_type</th>\n",
       "      <th>prod_cat</th>\n",
       "      <th>prod_subcat</th>\n",
       "      <th>DOB</th>\n",
       "      <th>Gender</th>\n",
       "      <th>city_code</th>\n",
       "      <th>AGE</th>\n",
       "      <th>Age_cat</th>\n",
       "    </tr>\n",
       "  </thead>\n",
       "  <tbody>\n",
       "    <tr>\n",
       "      <th>2</th>\n",
       "      <td>51750724947</td>\n",
       "      <td>273420</td>\n",
       "      <td>2014-02-24</td>\n",
       "      <td>6</td>\n",
       "      <td>5</td>\n",
       "      <td>-2</td>\n",
       "      <td>-791</td>\n",
       "      <td>166.11</td>\n",
       "      <td>-1748.11</td>\n",
       "      <td>TeleShop</td>\n",
       "      <td>Books</td>\n",
       "      <td>DIY</td>\n",
       "      <td>1992-07-27</td>\n",
       "      <td>M</td>\n",
       "      <td>8.0</td>\n",
       "      <td>29.0</td>\n",
       "      <td>25-35</td>\n",
       "    </tr>\n",
       "    <tr>\n",
       "      <th>4</th>\n",
       "      <td>51750724947</td>\n",
       "      <td>273420</td>\n",
       "      <td>2014-02-23</td>\n",
       "      <td>6</td>\n",
       "      <td>5</td>\n",
       "      <td>-2</td>\n",
       "      <td>-791</td>\n",
       "      <td>166.11</td>\n",
       "      <td>-1748.11</td>\n",
       "      <td>TeleShop</td>\n",
       "      <td>Books</td>\n",
       "      <td>DIY</td>\n",
       "      <td>1992-07-27</td>\n",
       "      <td>M</td>\n",
       "      <td>8.0</td>\n",
       "      <td>29.0</td>\n",
       "      <td>25-35</td>\n",
       "    </tr>\n",
       "    <tr>\n",
       "      <th>11</th>\n",
       "      <td>25455265351</td>\n",
       "      <td>267750</td>\n",
       "      <td>2014-02-20</td>\n",
       "      <td>12</td>\n",
       "      <td>6</td>\n",
       "      <td>3</td>\n",
       "      <td>1360</td>\n",
       "      <td>428.40</td>\n",
       "      <td>4508.40</td>\n",
       "      <td>e-Shop</td>\n",
       "      <td>Home and kitchen</td>\n",
       "      <td>Tools</td>\n",
       "      <td>1986-10-13</td>\n",
       "      <td>M</td>\n",
       "      <td>1.0</td>\n",
       "      <td>35.0</td>\n",
       "      <td>25-35</td>\n",
       "    </tr>\n",
       "    <tr>\n",
       "      <th>23</th>\n",
       "      <td>91116291703</td>\n",
       "      <td>268509</td>\n",
       "      <td>2014-02-20</td>\n",
       "      <td>1</td>\n",
       "      <td>2</td>\n",
       "      <td>4</td>\n",
       "      <td>1243</td>\n",
       "      <td>522.06</td>\n",
       "      <td>5494.06</td>\n",
       "      <td>MBR</td>\n",
       "      <td>Footwear</td>\n",
       "      <td>Mens</td>\n",
       "      <td>1989-08-17</td>\n",
       "      <td>M</td>\n",
       "      <td>10.0</td>\n",
       "      <td>32.0</td>\n",
       "      <td>25-35</td>\n",
       "    </tr>\n",
       "    <tr>\n",
       "      <th>28</th>\n",
       "      <td>88853694830</td>\n",
       "      <td>268444</td>\n",
       "      <td>2014-02-20</td>\n",
       "      <td>4</td>\n",
       "      <td>4</td>\n",
       "      <td>-3</td>\n",
       "      <td>-80</td>\n",
       "      <td>25.20</td>\n",
       "      <td>-265.20</td>\n",
       "      <td>MBR</td>\n",
       "      <td>Bags</td>\n",
       "      <td>Women</td>\n",
       "      <td>1992-01-02</td>\n",
       "      <td>F</td>\n",
       "      <td>6.0</td>\n",
       "      <td>30.0</td>\n",
       "      <td>25-35</td>\n",
       "    </tr>\n",
       "  </tbody>\n",
       "</table>\n",
       "</div>"
      ],
      "text/plain": [
       "    transaction_id  cust_id  tran_date  prod_sub_cat_code  prod_cat_code  Qty  \\\n",
       "2      51750724947   273420 2014-02-24                  6              5   -2   \n",
       "4      51750724947   273420 2014-02-23                  6              5   -2   \n",
       "11     25455265351   267750 2014-02-20                 12              6    3   \n",
       "23     91116291703   268509 2014-02-20                  1              2    4   \n",
       "28     88853694830   268444 2014-02-20                  4              4   -3   \n",
       "\n",
       "    Rate     Tax  total_amt Store_type          prod_cat prod_subcat  \\\n",
       "2   -791  166.11   -1748.11   TeleShop             Books         DIY   \n",
       "4   -791  166.11   -1748.11   TeleShop             Books         DIY   \n",
       "11  1360  428.40    4508.40     e-Shop  Home and kitchen       Tools   \n",
       "23  1243  522.06    5494.06        MBR          Footwear        Mens   \n",
       "28   -80   25.20    -265.20        MBR              Bags       Women   \n",
       "\n",
       "          DOB Gender  city_code   AGE Age_cat  \n",
       "2  1992-07-27      M        8.0  29.0   25-35  \n",
       "4  1992-07-27      M        8.0  29.0   25-35  \n",
       "11 1986-10-13      M        1.0  35.0   25-35  \n",
       "23 1989-08-17      M       10.0  32.0   25-35  \n",
       "28 1992-01-02      F        6.0  30.0   25-35  "
      ]
     },
     "execution_count": 129,
     "metadata": {},
     "output_type": "execute_result"
    }
   ],
   "source": [
    "customer_total_amount_25_35.head()"
   ]
  },
  {
   "cell_type": "code",
   "execution_count": 130,
   "id": "557e5c46",
   "metadata": {},
   "outputs": [],
   "source": [
    "total_amount = customer_total_amount_25_35[(customer_total_amount_25_35['tran_date'] >='2014-01-01') & (customer_total_amount_25_35['tran_date'] <='2014-03-01')]"
   ]
  },
  {
   "cell_type": "code",
   "execution_count": 131,
   "id": "99c8a0cf",
   "metadata": {},
   "outputs": [
    {
     "data": {
      "text/html": [
       "<div>\n",
       "<style scoped>\n",
       "    .dataframe tbody tr th:only-of-type {\n",
       "        vertical-align: middle;\n",
       "    }\n",
       "\n",
       "    .dataframe tbody tr th {\n",
       "        vertical-align: top;\n",
       "    }\n",
       "\n",
       "    .dataframe thead th {\n",
       "        text-align: right;\n",
       "    }\n",
       "</style>\n",
       "<table border=\"1\" class=\"dataframe\">\n",
       "  <thead>\n",
       "    <tr style=\"text-align: right;\">\n",
       "      <th></th>\n",
       "      <th>transaction_id</th>\n",
       "      <th>cust_id</th>\n",
       "      <th>tran_date</th>\n",
       "      <th>prod_sub_cat_code</th>\n",
       "      <th>prod_cat_code</th>\n",
       "      <th>Qty</th>\n",
       "      <th>Rate</th>\n",
       "      <th>Tax</th>\n",
       "      <th>total_amt</th>\n",
       "      <th>Store_type</th>\n",
       "      <th>prod_cat</th>\n",
       "      <th>prod_subcat</th>\n",
       "      <th>DOB</th>\n",
       "      <th>Gender</th>\n",
       "      <th>city_code</th>\n",
       "      <th>AGE</th>\n",
       "      <th>Age_cat</th>\n",
       "    </tr>\n",
       "  </thead>\n",
       "  <tbody>\n",
       "    <tr>\n",
       "      <th>2</th>\n",
       "      <td>51750724947</td>\n",
       "      <td>273420</td>\n",
       "      <td>2014-02-24</td>\n",
       "      <td>6</td>\n",
       "      <td>5</td>\n",
       "      <td>-2</td>\n",
       "      <td>-791</td>\n",
       "      <td>166.110</td>\n",
       "      <td>-1748.110</td>\n",
       "      <td>TeleShop</td>\n",
       "      <td>Books</td>\n",
       "      <td>DIY</td>\n",
       "      <td>1992-07-27</td>\n",
       "      <td>M</td>\n",
       "      <td>8.0</td>\n",
       "      <td>29.0</td>\n",
       "      <td>25-35</td>\n",
       "    </tr>\n",
       "    <tr>\n",
       "      <th>4</th>\n",
       "      <td>51750724947</td>\n",
       "      <td>273420</td>\n",
       "      <td>2014-02-23</td>\n",
       "      <td>6</td>\n",
       "      <td>5</td>\n",
       "      <td>-2</td>\n",
       "      <td>-791</td>\n",
       "      <td>166.110</td>\n",
       "      <td>-1748.110</td>\n",
       "      <td>TeleShop</td>\n",
       "      <td>Books</td>\n",
       "      <td>DIY</td>\n",
       "      <td>1992-07-27</td>\n",
       "      <td>M</td>\n",
       "      <td>8.0</td>\n",
       "      <td>29.0</td>\n",
       "      <td>25-35</td>\n",
       "    </tr>\n",
       "    <tr>\n",
       "      <th>11</th>\n",
       "      <td>25455265351</td>\n",
       "      <td>267750</td>\n",
       "      <td>2014-02-20</td>\n",
       "      <td>12</td>\n",
       "      <td>6</td>\n",
       "      <td>3</td>\n",
       "      <td>1360</td>\n",
       "      <td>428.400</td>\n",
       "      <td>4508.400</td>\n",
       "      <td>e-Shop</td>\n",
       "      <td>Home and kitchen</td>\n",
       "      <td>Tools</td>\n",
       "      <td>1986-10-13</td>\n",
       "      <td>M</td>\n",
       "      <td>1.0</td>\n",
       "      <td>35.0</td>\n",
       "      <td>25-35</td>\n",
       "    </tr>\n",
       "    <tr>\n",
       "      <th>23</th>\n",
       "      <td>91116291703</td>\n",
       "      <td>268509</td>\n",
       "      <td>2014-02-20</td>\n",
       "      <td>1</td>\n",
       "      <td>2</td>\n",
       "      <td>4</td>\n",
       "      <td>1243</td>\n",
       "      <td>522.060</td>\n",
       "      <td>5494.060</td>\n",
       "      <td>MBR</td>\n",
       "      <td>Footwear</td>\n",
       "      <td>Mens</td>\n",
       "      <td>1989-08-17</td>\n",
       "      <td>M</td>\n",
       "      <td>10.0</td>\n",
       "      <td>32.0</td>\n",
       "      <td>25-35</td>\n",
       "    </tr>\n",
       "    <tr>\n",
       "      <th>28</th>\n",
       "      <td>88853694830</td>\n",
       "      <td>268444</td>\n",
       "      <td>2014-02-20</td>\n",
       "      <td>4</td>\n",
       "      <td>4</td>\n",
       "      <td>-3</td>\n",
       "      <td>-80</td>\n",
       "      <td>25.200</td>\n",
       "      <td>-265.200</td>\n",
       "      <td>MBR</td>\n",
       "      <td>Bags</td>\n",
       "      <td>Women</td>\n",
       "      <td>1992-01-02</td>\n",
       "      <td>F</td>\n",
       "      <td>6.0</td>\n",
       "      <td>30.0</td>\n",
       "      <td>25-35</td>\n",
       "    </tr>\n",
       "    <tr>\n",
       "      <th>...</th>\n",
       "      <td>...</td>\n",
       "      <td>...</td>\n",
       "      <td>...</td>\n",
       "      <td>...</td>\n",
       "      <td>...</td>\n",
       "      <td>...</td>\n",
       "      <td>...</td>\n",
       "      <td>...</td>\n",
       "      <td>...</td>\n",
       "      <td>...</td>\n",
       "      <td>...</td>\n",
       "      <td>...</td>\n",
       "      <td>...</td>\n",
       "      <td>...</td>\n",
       "      <td>...</td>\n",
       "      <td>...</td>\n",
       "      <td>...</td>\n",
       "    </tr>\n",
       "    <tr>\n",
       "      <th>1048</th>\n",
       "      <td>14460826915</td>\n",
       "      <td>269348</td>\n",
       "      <td>2014-01-01</td>\n",
       "      <td>11</td>\n",
       "      <td>6</td>\n",
       "      <td>3</td>\n",
       "      <td>84</td>\n",
       "      <td>26.460</td>\n",
       "      <td>278.460</td>\n",
       "      <td>MBR</td>\n",
       "      <td>Home and kitchen</td>\n",
       "      <td>Bath</td>\n",
       "      <td>1989-02-10</td>\n",
       "      <td>M</td>\n",
       "      <td>9.0</td>\n",
       "      <td>33.0</td>\n",
       "      <td>25-35</td>\n",
       "    </tr>\n",
       "    <tr>\n",
       "      <th>1051</th>\n",
       "      <td>32889219128</td>\n",
       "      <td>269536</td>\n",
       "      <td>2014-01-01</td>\n",
       "      <td>10</td>\n",
       "      <td>5</td>\n",
       "      <td>5</td>\n",
       "      <td>1423</td>\n",
       "      <td>747.075</td>\n",
       "      <td>7862.075</td>\n",
       "      <td>e-Shop</td>\n",
       "      <td>Books</td>\n",
       "      <td>Non-Fiction</td>\n",
       "      <td>1990-03-21</td>\n",
       "      <td>M</td>\n",
       "      <td>5.0</td>\n",
       "      <td>32.0</td>\n",
       "      <td>25-35</td>\n",
       "    </tr>\n",
       "    <tr>\n",
       "      <th>1054</th>\n",
       "      <td>42711619809</td>\n",
       "      <td>271701</td>\n",
       "      <td>2014-01-01</td>\n",
       "      <td>1</td>\n",
       "      <td>2</td>\n",
       "      <td>5</td>\n",
       "      <td>336</td>\n",
       "      <td>176.400</td>\n",
       "      <td>1856.400</td>\n",
       "      <td>MBR</td>\n",
       "      <td>Footwear</td>\n",
       "      <td>Mens</td>\n",
       "      <td>1991-07-11</td>\n",
       "      <td>M</td>\n",
       "      <td>7.0</td>\n",
       "      <td>31.0</td>\n",
       "      <td>25-35</td>\n",
       "    </tr>\n",
       "    <tr>\n",
       "      <th>1059</th>\n",
       "      <td>67088172893</td>\n",
       "      <td>271877</td>\n",
       "      <td>2014-01-01</td>\n",
       "      <td>1</td>\n",
       "      <td>1</td>\n",
       "      <td>1</td>\n",
       "      <td>902</td>\n",
       "      <td>94.710</td>\n",
       "      <td>996.710</td>\n",
       "      <td>e-Shop</td>\n",
       "      <td>Clothing</td>\n",
       "      <td>Women</td>\n",
       "      <td>1992-03-28</td>\n",
       "      <td>F</td>\n",
       "      <td>6.0</td>\n",
       "      <td>30.0</td>\n",
       "      <td>25-35</td>\n",
       "    </tr>\n",
       "    <tr>\n",
       "      <th>1061</th>\n",
       "      <td>63635040022</td>\n",
       "      <td>268886</td>\n",
       "      <td>2014-01-01</td>\n",
       "      <td>3</td>\n",
       "      <td>2</td>\n",
       "      <td>5</td>\n",
       "      <td>652</td>\n",
       "      <td>342.300</td>\n",
       "      <td>3602.300</td>\n",
       "      <td>e-Shop</td>\n",
       "      <td>Footwear</td>\n",
       "      <td>Women</td>\n",
       "      <td>1992-08-03</td>\n",
       "      <td>M</td>\n",
       "      <td>1.0</td>\n",
       "      <td>29.0</td>\n",
       "      <td>25-35</td>\n",
       "    </tr>\n",
       "  </tbody>\n",
       "</table>\n",
       "<p>311 rows × 17 columns</p>\n",
       "</div>"
      ],
      "text/plain": [
       "      transaction_id  cust_id  tran_date  prod_sub_cat_code  prod_cat_code  \\\n",
       "2        51750724947   273420 2014-02-24                  6              5   \n",
       "4        51750724947   273420 2014-02-23                  6              5   \n",
       "11       25455265351   267750 2014-02-20                 12              6   \n",
       "23       91116291703   268509 2014-02-20                  1              2   \n",
       "28       88853694830   268444 2014-02-20                  4              4   \n",
       "...              ...      ...        ...                ...            ...   \n",
       "1048     14460826915   269348 2014-01-01                 11              6   \n",
       "1051     32889219128   269536 2014-01-01                 10              5   \n",
       "1054     42711619809   271701 2014-01-01                  1              2   \n",
       "1059     67088172893   271877 2014-01-01                  1              1   \n",
       "1061     63635040022   268886 2014-01-01                  3              2   \n",
       "\n",
       "      Qty  Rate      Tax  total_amt Store_type          prod_cat  prod_subcat  \\\n",
       "2      -2  -791  166.110  -1748.110   TeleShop             Books          DIY   \n",
       "4      -2  -791  166.110  -1748.110   TeleShop             Books          DIY   \n",
       "11      3  1360  428.400   4508.400     e-Shop  Home and kitchen        Tools   \n",
       "23      4  1243  522.060   5494.060        MBR          Footwear         Mens   \n",
       "28     -3   -80   25.200   -265.200        MBR              Bags        Women   \n",
       "...   ...   ...      ...        ...        ...               ...          ...   \n",
       "1048    3    84   26.460    278.460        MBR  Home and kitchen         Bath   \n",
       "1051    5  1423  747.075   7862.075     e-Shop             Books  Non-Fiction   \n",
       "1054    5   336  176.400   1856.400        MBR          Footwear         Mens   \n",
       "1059    1   902   94.710    996.710     e-Shop          Clothing        Women   \n",
       "1061    5   652  342.300   3602.300     e-Shop          Footwear        Women   \n",
       "\n",
       "            DOB Gender  city_code   AGE Age_cat  \n",
       "2    1992-07-27      M        8.0  29.0   25-35  \n",
       "4    1992-07-27      M        8.0  29.0   25-35  \n",
       "11   1986-10-13      M        1.0  35.0   25-35  \n",
       "23   1989-08-17      M       10.0  32.0   25-35  \n",
       "28   1992-01-02      F        6.0  30.0   25-35  \n",
       "...         ...    ...        ...   ...     ...  \n",
       "1048 1989-02-10      M        9.0  33.0   25-35  \n",
       "1051 1990-03-21      M        5.0  32.0   25-35  \n",
       "1054 1991-07-11      M        7.0  31.0   25-35  \n",
       "1059 1992-03-28      F        6.0  30.0   25-35  \n",
       "1061 1992-08-03      M        1.0  29.0   25-35  \n",
       "\n",
       "[311 rows x 17 columns]"
      ]
     },
     "execution_count": 131,
     "metadata": {},
     "output_type": "execute_result"
    }
   ],
   "source": [
    "total_amount"
   ]
  },
  {
   "cell_type": "code",
   "execution_count": 132,
   "id": "7039da09",
   "metadata": {},
   "outputs": [
    {
     "data": {
      "text/plain": [
       "675570.48"
      ]
     },
     "execution_count": 132,
     "metadata": {},
     "output_type": "execute_result"
    }
   ],
   "source": [
    "(total_amount['total_amt'].sum())"
   ]
  },
  {
   "cell_type": "markdown",
   "id": "47eebd4d",
   "metadata": {},
   "source": [
    "# Insights"
   ]
  },
  {
   "cell_type": "code",
   "execution_count": 133,
   "id": "0d109e2e",
   "metadata": {},
   "outputs": [
    {
     "data": {
      "text/plain": [
       "268819    13\n",
       "269449    13\n",
       "275252    12\n",
       "272415    12\n",
       "270831    12\n",
       "Name: cust_id, dtype: int64"
      ]
     },
     "execution_count": 133,
     "metadata": {},
     "output_type": "execute_result"
    }
   ],
   "source": [
    "#Top 5 customers by No.of transactions\n",
    "top_5_cust=df.cust_id.value_counts().head(5)\n",
    "top_5_cust"
   ]
  },
  {
   "cell_type": "code",
   "execution_count": 134,
   "id": "16c72eb1",
   "metadata": {},
   "outputs": [
    {
     "data": {
      "text/plain": [
       "<AxesSubplot:title={'center':'Top 5 customers by No of transactions'}, xlabel='Customer Id', ylabel='No. of transactions'>"
      ]
     },
     "execution_count": 134,
     "metadata": {},
     "output_type": "execute_result"
    },
    {
     "data": {
      "image/png": "[encoded data removed]",
      "text/plain": [
       "<Figure size 720x432 with 1 Axes>"
      ]
     },
     "metadata": {
      "needs_background": "light"
     },
     "output_type": "display_data"
    }
   ],
   "source": [
    "df.cust_id.value_counts().head(5).plot(kind=\"bar\",figsize=(10,6), xlabel=(\"Customer Id\"),ylabel= (\"No. of transactions\"), title= \"Top 5 customers by No of transactions\")"
   ]
  },
  {
   "cell_type": "code",
   "execution_count": 135,
   "id": "1ff5e4e2",
   "metadata": {},
   "outputs": [
    {
     "data": {
      "text/plain": [
       "count    23040.000000\n",
       "mean      2109.865226\n",
       "std       2505.610295\n",
       "min      -8270.925000\n",
       "25%        762.450000\n",
       "50%       1756.950000\n",
       "75%       3570.255000\n",
       "max       8287.500000\n",
       "Name: total_amt, dtype: float64"
      ]
     },
     "execution_count": 135,
     "metadata": {},
     "output_type": "execute_result"
    }
   ],
   "source": [
    "df.total_amt.describe()"
   ]
  },
  {
   "cell_type": "code",
   "execution_count": 136,
   "id": "744f64e0",
   "metadata": {},
   "outputs": [
    {
     "data": {
      "text/html": [
       "<div>\n",
       "<style scoped>\n",
       "    .dataframe tbody tr th:only-of-type {\n",
       "        vertical-align: middle;\n",
       "    }\n",
       "\n",
       "    .dataframe tbody tr th {\n",
       "        vertical-align: top;\n",
       "    }\n",
       "\n",
       "    .dataframe thead th {\n",
       "        text-align: right;\n",
       "    }\n",
       "</style>\n",
       "<table border=\"1\" class=\"dataframe\">\n",
       "  <thead>\n",
       "    <tr style=\"text-align: right;\">\n",
       "      <th></th>\n",
       "      <th>transaction_id</th>\n",
       "      <th>cust_id</th>\n",
       "      <th>tran_date</th>\n",
       "      <th>prod_sub_cat_code</th>\n",
       "      <th>prod_cat_code</th>\n",
       "      <th>Qty</th>\n",
       "      <th>Rate</th>\n",
       "      <th>Tax</th>\n",
       "      <th>total_amt</th>\n",
       "      <th>Store_type</th>\n",
       "      <th>prod_cat</th>\n",
       "      <th>prod_subcat</th>\n",
       "      <th>DOB</th>\n",
       "      <th>Gender</th>\n",
       "      <th>city_code</th>\n",
       "      <th>AGE</th>\n",
       "      <th>Age_cat</th>\n",
       "    </tr>\n",
       "  </thead>\n",
       "  <tbody>\n",
       "    <tr>\n",
       "      <th>6864</th>\n",
       "      <td>94956713072</td>\n",
       "      <td>271944</td>\n",
       "      <td>2013-03-23</td>\n",
       "      <td>4</td>\n",
       "      <td>2</td>\n",
       "      <td>5</td>\n",
       "      <td>1500</td>\n",
       "      <td>787.5</td>\n",
       "      <td>8287.5</td>\n",
       "      <td>e-Shop</td>\n",
       "      <td>Footwear</td>\n",
       "      <td>Kids</td>\n",
       "      <td>1971-12-11</td>\n",
       "      <td>F</td>\n",
       "      <td>5.0</td>\n",
       "      <td>50.0</td>\n",
       "      <td>47-57</td>\n",
       "    </tr>\n",
       "    <tr>\n",
       "      <th>11292</th>\n",
       "      <td>47747209902</td>\n",
       "      <td>270667</td>\n",
       "      <td>2012-08-23</td>\n",
       "      <td>5</td>\n",
       "      <td>3</td>\n",
       "      <td>5</td>\n",
       "      <td>1500</td>\n",
       "      <td>787.5</td>\n",
       "      <td>8287.5</td>\n",
       "      <td>MBR</td>\n",
       "      <td>Electronics</td>\n",
       "      <td>Computers</td>\n",
       "      <td>1974-02-24</td>\n",
       "      <td>M</td>\n",
       "      <td>9.0</td>\n",
       "      <td>48.0</td>\n",
       "      <td>47-57</td>\n",
       "    </tr>\n",
       "    <tr>\n",
       "      <th>13009</th>\n",
       "      <td>53187031441</td>\n",
       "      <td>272954</td>\n",
       "      <td>2012-05-26</td>\n",
       "      <td>2</td>\n",
       "      <td>6</td>\n",
       "      <td>5</td>\n",
       "      <td>1500</td>\n",
       "      <td>787.5</td>\n",
       "      <td>8287.5</td>\n",
       "      <td>TeleShop</td>\n",
       "      <td>Home and kitchen</td>\n",
       "      <td>Furnishing</td>\n",
       "      <td>1980-06-05</td>\n",
       "      <td>F</td>\n",
       "      <td>3.0</td>\n",
       "      <td>42.0</td>\n",
       "      <td>36-46</td>\n",
       "    </tr>\n",
       "    <tr>\n",
       "      <th>20123</th>\n",
       "      <td>96892547017</td>\n",
       "      <td>274854</td>\n",
       "      <td>2011-06-21</td>\n",
       "      <td>3</td>\n",
       "      <td>2</td>\n",
       "      <td>5</td>\n",
       "      <td>1500</td>\n",
       "      <td>787.5</td>\n",
       "      <td>8287.5</td>\n",
       "      <td>e-Shop</td>\n",
       "      <td>Footwear</td>\n",
       "      <td>Women</td>\n",
       "      <td>1978-02-07</td>\n",
       "      <td>M</td>\n",
       "      <td>1.0</td>\n",
       "      <td>44.0</td>\n",
       "      <td>36-46</td>\n",
       "    </tr>\n",
       "  </tbody>\n",
       "</table>\n",
       "</div>"
      ],
      "text/plain": [
       "       transaction_id  cust_id  tran_date  prod_sub_cat_code  prod_cat_code  \\\n",
       "6864      94956713072   271944 2013-03-23                  4              2   \n",
       "11292     47747209902   270667 2012-08-23                  5              3   \n",
       "13009     53187031441   272954 2012-05-26                  2              6   \n",
       "20123     96892547017   274854 2011-06-21                  3              2   \n",
       "\n",
       "       Qty  Rate    Tax  total_amt Store_type          prod_cat prod_subcat  \\\n",
       "6864     5  1500  787.5     8287.5     e-Shop          Footwear        Kids   \n",
       "11292    5  1500  787.5     8287.5        MBR       Electronics   Computers   \n",
       "13009    5  1500  787.5     8287.5   TeleShop  Home and kitchen  Furnishing   \n",
       "20123    5  1500  787.5     8287.5     e-Shop          Footwear       Women   \n",
       "\n",
       "             DOB Gender  city_code   AGE Age_cat  \n",
       "6864  1971-12-11      F        5.0  50.0   47-57  \n",
       "11292 1974-02-24      M        9.0  48.0   47-57  \n",
       "13009 1980-06-05      F        3.0  42.0   36-46  \n",
       "20123 1978-02-07      M        1.0  44.0   36-46  "
      ]
     },
     "execution_count": 136,
     "metadata": {},
     "output_type": "execute_result"
    }
   ],
   "source": [
    "df[df.total_amt== df.total_amt.max()]"
   ]
  },
  {
   "cell_type": "code",
   "execution_count": 137,
   "id": "7b91011e",
   "metadata": {},
   "outputs": [
    {
     "data": {
      "text/plain": [
       "48611294.81"
      ]
     },
     "execution_count": 137,
     "metadata": {},
     "output_type": "execute_result"
    }
   ],
   "source": [
    "df.total_amt.sum()"
   ]
  },
  {
   "cell_type": "code",
   "execution_count": 138,
   "id": "c6800067",
   "metadata": {},
   "outputs": [
    {
     "name": "stderr",
     "output_type": "stream",
     "text": [
      "C:\\Users\\91903\\AppData\\Local\\Temp/ipykernel_1824/3860377318.py:1: FutureWarning: Treating datetime data as categorical rather than numeric in `.describe` is deprecated and will be removed in a future version of pandas. Specify `datetime_is_numeric=True` to silence this warning and adopt the future behavior now.\n",
      "  df.tran_date.describe()\n"
     ]
    },
    {
     "data": {
      "text/plain": [
       "count                   23040\n",
       "unique                   1129\n",
       "top       2011-07-13 00:00:00\n",
       "freq                       35\n",
       "first     2011-01-25 00:00:00\n",
       "last      2014-02-28 00:00:00\n",
       "Name: tran_date, dtype: object"
      ]
     },
     "execution_count": 138,
     "metadata": {},
     "output_type": "execute_result"
    }
   ],
   "source": [
    "df.tran_date.describe()"
   ]
  },
  {
   "cell_type": "code",
   "execution_count": 139,
   "id": "b95d75af",
   "metadata": {},
   "outputs": [
    {
     "data": {
      "text/plain": [
       "2011-07-13    35\n",
       "Name: tran_date, dtype: int64"
      ]
     },
     "execution_count": 139,
     "metadata": {},
     "output_type": "execute_result"
    }
   ],
   "source": [
    "df.tran_date.value_counts().head(1)"
   ]
  },
  {
   "cell_type": "code",
   "execution_count": 140,
   "id": "089aa19b",
   "metadata": {},
   "outputs": [
    {
     "data": {
      "text/plain": [
       "4    4000\n",
       "Name: prod_sub_cat_code, dtype: int64"
      ]
     },
     "execution_count": 140,
     "metadata": {},
     "output_type": "execute_result"
    }
   ],
   "source": [
    "df.prod_sub_cat_code.value_counts().head(1)"
   ]
  },
  {
   "cell_type": "code",
   "execution_count": 141,
   "id": "b2e2ad81",
   "metadata": {},
   "outputs": [
    {
     "data": {
      "text/plain": [
       "5    6066\n",
       "Name: prod_cat_code, dtype: int64"
      ]
     },
     "execution_count": 141,
     "metadata": {},
     "output_type": "execute_result"
    }
   ],
   "source": [
    "df.prod_cat_code.value_counts().head(1)"
   ]
  },
  {
   "cell_type": "code",
   "execution_count": 142,
   "id": "340be373",
   "metadata": {},
   "outputs": [
    {
     "data": {
      "text/plain": [
       "e-Shop    9304\n",
       "Name: Store_type, dtype: int64"
      ]
     },
     "execution_count": 142,
     "metadata": {},
     "output_type": "execute_result"
    }
   ],
   "source": [
    "df.Store_type.value_counts().head(1)"
   ]
  },
  {
   "cell_type": "code",
   "execution_count": 143,
   "id": "84c90644",
   "metadata": {},
   "outputs": [
    {
     "data": {
      "text/plain": [
       "Books    6066\n",
       "Name: prod_cat, dtype: int64"
      ]
     },
     "execution_count": 143,
     "metadata": {},
     "output_type": "execute_result"
    }
   ],
   "source": [
    "df.prod_cat.value_counts().head(1)"
   ]
  },
  {
   "cell_type": "code",
   "execution_count": 144,
   "id": "869dbe94",
   "metadata": {},
   "outputs": [
    {
     "data": {
      "text/plain": [
       "Women    3046\n",
       "Name: prod_subcat, dtype: int64"
      ]
     },
     "execution_count": 144,
     "metadata": {},
     "output_type": "execute_result"
    }
   ],
   "source": [
    "df.prod_subcat.value_counts().head(1)"
   ]
  },
  {
   "cell_type": "code",
   "execution_count": 145,
   "id": "4871ea5d",
   "metadata": {},
   "outputs": [
    {
     "data": {
      "text/plain": [
       "M    11804\n",
       "F    11227\n",
       "Name: Gender, dtype: int64"
      ]
     },
     "execution_count": 145,
     "metadata": {},
     "output_type": "execute_result"
    }
   ],
   "source": [
    "df.Gender.value_counts().head()"
   ]
  },
  {
   "cell_type": "code",
   "execution_count": 146,
   "id": "f7ca70eb",
   "metadata": {},
   "outputs": [
    {
     "data": {
      "text/plain": [
       "4.0    2422\n",
       "Name: city_code, dtype: int64"
      ]
     },
     "execution_count": 146,
     "metadata": {},
     "output_type": "execute_result"
    }
   ],
   "source": [
    "df.city_code.value_counts().head(1)"
   ]
  },
  {
   "cell_type": "code",
   "execution_count": 147,
   "id": "6fa744a1",
   "metadata": {},
   "outputs": [
    {
     "data": {
      "text/plain": [
       "42.0    1131\n",
       "Name: AGE, dtype: int64"
      ]
     },
     "execution_count": 147,
     "metadata": {},
     "output_type": "execute_result"
    }
   ],
   "source": [
    "df.AGE.value_counts().head(1)"
   ]
  },
  {
   "cell_type": "code",
   "execution_count": 148,
   "id": "6c8d6225",
   "metadata": {},
   "outputs": [
    {
     "data": {
      "text/plain": [
       "count    23040.000000\n",
       "mean        40.533420\n",
       "std          6.645136\n",
       "min         29.000000\n",
       "25%         35.000000\n",
       "50%         41.000000\n",
       "75%         46.000000\n",
       "max         52.000000\n",
       "Name: AGE, dtype: float64"
      ]
     },
     "execution_count": 148,
     "metadata": {},
     "output_type": "execute_result"
    }
   ],
   "source": [
    "df.AGE.describe()"
   ]
  },
  {
   "cell_type": "code",
   "execution_count": 149,
   "id": "fde5fd13",
   "metadata": {},
   "outputs": [
    {
     "data": {
      "text/html": [
       "<div>\n",
       "<style scoped>\n",
       "    .dataframe tbody tr th:only-of-type {\n",
       "        vertical-align: middle;\n",
       "    }\n",
       "\n",
       "    .dataframe tbody tr th {\n",
       "        vertical-align: top;\n",
       "    }\n",
       "\n",
       "    .dataframe thead th {\n",
       "        text-align: right;\n",
       "    }\n",
       "</style>\n",
       "<table border=\"1\" class=\"dataframe\">\n",
       "  <thead>\n",
       "    <tr style=\"text-align: right;\">\n",
       "      <th></th>\n",
       "      <th>transaction_id</th>\n",
       "      <th>cust_id</th>\n",
       "      <th>tran_date</th>\n",
       "      <th>prod_sub_cat_code</th>\n",
       "      <th>prod_cat_code</th>\n",
       "      <th>Qty</th>\n",
       "      <th>Rate</th>\n",
       "      <th>Tax</th>\n",
       "      <th>total_amt</th>\n",
       "      <th>Store_type</th>\n",
       "      <th>prod_cat</th>\n",
       "      <th>prod_subcat</th>\n",
       "      <th>DOB</th>\n",
       "      <th>Gender</th>\n",
       "      <th>city_code</th>\n",
       "      <th>AGE</th>\n",
       "      <th>Age_cat</th>\n",
       "    </tr>\n",
       "  </thead>\n",
       "  <tbody>\n",
       "    <tr>\n",
       "      <th>0</th>\n",
       "      <td>80712190438</td>\n",
       "      <td>270351</td>\n",
       "      <td>2014-02-28</td>\n",
       "      <td>1</td>\n",
       "      <td>1</td>\n",
       "      <td>-5</td>\n",
       "      <td>-772</td>\n",
       "      <td>405.300</td>\n",
       "      <td>-4265.300</td>\n",
       "      <td>e-Shop</td>\n",
       "      <td>Clothing</td>\n",
       "      <td>Women</td>\n",
       "      <td>1981-09-26</td>\n",
       "      <td>M</td>\n",
       "      <td>5.0</td>\n",
       "      <td>40.0</td>\n",
       "      <td>36-46</td>\n",
       "    </tr>\n",
       "    <tr>\n",
       "      <th>1</th>\n",
       "      <td>29258453508</td>\n",
       "      <td>270384</td>\n",
       "      <td>2014-02-27</td>\n",
       "      <td>5</td>\n",
       "      <td>3</td>\n",
       "      <td>-5</td>\n",
       "      <td>-1497</td>\n",
       "      <td>785.925</td>\n",
       "      <td>-8270.925</td>\n",
       "      <td>e-Shop</td>\n",
       "      <td>Electronics</td>\n",
       "      <td>Computers</td>\n",
       "      <td>1973-05-11</td>\n",
       "      <td>F</td>\n",
       "      <td>8.0</td>\n",
       "      <td>49.0</td>\n",
       "      <td>47-57</td>\n",
       "    </tr>\n",
       "    <tr>\n",
       "      <th>2</th>\n",
       "      <td>51750724947</td>\n",
       "      <td>273420</td>\n",
       "      <td>2014-02-24</td>\n",
       "      <td>6</td>\n",
       "      <td>5</td>\n",
       "      <td>-2</td>\n",
       "      <td>-791</td>\n",
       "      <td>166.110</td>\n",
       "      <td>-1748.110</td>\n",
       "      <td>TeleShop</td>\n",
       "      <td>Books</td>\n",
       "      <td>DIY</td>\n",
       "      <td>1992-07-27</td>\n",
       "      <td>M</td>\n",
       "      <td>8.0</td>\n",
       "      <td>29.0</td>\n",
       "      <td>25-35</td>\n",
       "    </tr>\n",
       "    <tr>\n",
       "      <th>3</th>\n",
       "      <td>93274880719</td>\n",
       "      <td>271509</td>\n",
       "      <td>2014-02-24</td>\n",
       "      <td>11</td>\n",
       "      <td>6</td>\n",
       "      <td>-3</td>\n",
       "      <td>-1363</td>\n",
       "      <td>429.345</td>\n",
       "      <td>-4518.345</td>\n",
       "      <td>e-Shop</td>\n",
       "      <td>Home and kitchen</td>\n",
       "      <td>Bath</td>\n",
       "      <td>1981-06-08</td>\n",
       "      <td>M</td>\n",
       "      <td>3.0</td>\n",
       "      <td>41.0</td>\n",
       "      <td>36-46</td>\n",
       "    </tr>\n",
       "    <tr>\n",
       "      <th>4</th>\n",
       "      <td>51750724947</td>\n",
       "      <td>273420</td>\n",
       "      <td>2014-02-23</td>\n",
       "      <td>6</td>\n",
       "      <td>5</td>\n",
       "      <td>-2</td>\n",
       "      <td>-791</td>\n",
       "      <td>166.110</td>\n",
       "      <td>-1748.110</td>\n",
       "      <td>TeleShop</td>\n",
       "      <td>Books</td>\n",
       "      <td>DIY</td>\n",
       "      <td>1992-07-27</td>\n",
       "      <td>M</td>\n",
       "      <td>8.0</td>\n",
       "      <td>29.0</td>\n",
       "      <td>25-35</td>\n",
       "    </tr>\n",
       "    <tr>\n",
       "      <th>...</th>\n",
       "      <td>...</td>\n",
       "      <td>...</td>\n",
       "      <td>...</td>\n",
       "      <td>...</td>\n",
       "      <td>...</td>\n",
       "      <td>...</td>\n",
       "      <td>...</td>\n",
       "      <td>...</td>\n",
       "      <td>...</td>\n",
       "      <td>...</td>\n",
       "      <td>...</td>\n",
       "      <td>...</td>\n",
       "      <td>...</td>\n",
       "      <td>...</td>\n",
       "      <td>...</td>\n",
       "      <td>...</td>\n",
       "      <td>...</td>\n",
       "    </tr>\n",
       "    <tr>\n",
       "      <th>23048</th>\n",
       "      <td>94340757522</td>\n",
       "      <td>274550</td>\n",
       "      <td>2011-01-25</td>\n",
       "      <td>12</td>\n",
       "      <td>5</td>\n",
       "      <td>1</td>\n",
       "      <td>1264</td>\n",
       "      <td>132.720</td>\n",
       "      <td>1396.720</td>\n",
       "      <td>e-Shop</td>\n",
       "      <td>Books</td>\n",
       "      <td>Academic</td>\n",
       "      <td>1972-02-21</td>\n",
       "      <td>M</td>\n",
       "      <td>7.0</td>\n",
       "      <td>50.0</td>\n",
       "      <td>47-57</td>\n",
       "    </tr>\n",
       "    <tr>\n",
       "      <th>23049</th>\n",
       "      <td>89780862956</td>\n",
       "      <td>270022</td>\n",
       "      <td>2011-01-25</td>\n",
       "      <td>4</td>\n",
       "      <td>1</td>\n",
       "      <td>1</td>\n",
       "      <td>677</td>\n",
       "      <td>71.085</td>\n",
       "      <td>748.085</td>\n",
       "      <td>e-Shop</td>\n",
       "      <td>Clothing</td>\n",
       "      <td>Mens</td>\n",
       "      <td>1984-04-27</td>\n",
       "      <td>M</td>\n",
       "      <td>9.0</td>\n",
       "      <td>38.0</td>\n",
       "      <td>36-46</td>\n",
       "    </tr>\n",
       "    <tr>\n",
       "      <th>23050</th>\n",
       "      <td>85115299378</td>\n",
       "      <td>271020</td>\n",
       "      <td>2011-01-25</td>\n",
       "      <td>2</td>\n",
       "      <td>6</td>\n",
       "      <td>4</td>\n",
       "      <td>1052</td>\n",
       "      <td>441.840</td>\n",
       "      <td>4649.840</td>\n",
       "      <td>MBR</td>\n",
       "      <td>Home and kitchen</td>\n",
       "      <td>Furnishing</td>\n",
       "      <td>1976-06-20</td>\n",
       "      <td>M</td>\n",
       "      <td>8.0</td>\n",
       "      <td>46.0</td>\n",
       "      <td>36-46</td>\n",
       "    </tr>\n",
       "    <tr>\n",
       "      <th>23051</th>\n",
       "      <td>72870271171</td>\n",
       "      <td>270911</td>\n",
       "      <td>2011-01-25</td>\n",
       "      <td>11</td>\n",
       "      <td>5</td>\n",
       "      <td>3</td>\n",
       "      <td>1142</td>\n",
       "      <td>359.730</td>\n",
       "      <td>3785.730</td>\n",
       "      <td>TeleShop</td>\n",
       "      <td>Books</td>\n",
       "      <td>Children</td>\n",
       "      <td>1970-05-22</td>\n",
       "      <td>M</td>\n",
       "      <td>2.0</td>\n",
       "      <td>52.0</td>\n",
       "      <td>47-57</td>\n",
       "    </tr>\n",
       "    <tr>\n",
       "      <th>23052</th>\n",
       "      <td>77960931771</td>\n",
       "      <td>271961</td>\n",
       "      <td>2011-01-25</td>\n",
       "      <td>11</td>\n",
       "      <td>5</td>\n",
       "      <td>1</td>\n",
       "      <td>447</td>\n",
       "      <td>46.935</td>\n",
       "      <td>493.935</td>\n",
       "      <td>TeleShop</td>\n",
       "      <td>Books</td>\n",
       "      <td>Children</td>\n",
       "      <td>1982-01-15</td>\n",
       "      <td>M</td>\n",
       "      <td>1.0</td>\n",
       "      <td>40.0</td>\n",
       "      <td>36-46</td>\n",
       "    </tr>\n",
       "  </tbody>\n",
       "</table>\n",
       "<p>23040 rows × 17 columns</p>\n",
       "</div>"
      ],
      "text/plain": [
       "       transaction_id  cust_id  tran_date  prod_sub_cat_code  prod_cat_code  \\\n",
       "0         80712190438   270351 2014-02-28                  1              1   \n",
       "1         29258453508   270384 2014-02-27                  5              3   \n",
       "2         51750724947   273420 2014-02-24                  6              5   \n",
       "3         93274880719   271509 2014-02-24                 11              6   \n",
       "4         51750724947   273420 2014-02-23                  6              5   \n",
       "...               ...      ...        ...                ...            ...   \n",
       "23048     94340757522   274550 2011-01-25                 12              5   \n",
       "23049     89780862956   270022 2011-01-25                  4              1   \n",
       "23050     85115299378   271020 2011-01-25                  2              6   \n",
       "23051     72870271171   270911 2011-01-25                 11              5   \n",
       "23052     77960931771   271961 2011-01-25                 11              5   \n",
       "\n",
       "       Qty  Rate      Tax  total_amt Store_type          prod_cat prod_subcat  \\\n",
       "0       -5  -772  405.300  -4265.300     e-Shop          Clothing       Women   \n",
       "1       -5 -1497  785.925  -8270.925     e-Shop       Electronics   Computers   \n",
       "2       -2  -791  166.110  -1748.110   TeleShop             Books         DIY   \n",
       "3       -3 -1363  429.345  -4518.345     e-Shop  Home and kitchen        Bath   \n",
       "4       -2  -791  166.110  -1748.110   TeleShop             Books         DIY   \n",
       "...    ...   ...      ...        ...        ...               ...         ...   \n",
       "23048    1  1264  132.720   1396.720     e-Shop             Books    Academic   \n",
       "23049    1   677   71.085    748.085     e-Shop          Clothing        Mens   \n",
       "23050    4  1052  441.840   4649.840        MBR  Home and kitchen  Furnishing   \n",
       "23051    3  1142  359.730   3785.730   TeleShop             Books    Children   \n",
       "23052    1   447   46.935    493.935   TeleShop             Books    Children   \n",
       "\n",
       "             DOB Gender  city_code   AGE Age_cat  \n",
       "0     1981-09-26      M        5.0  40.0   36-46  \n",
       "1     1973-05-11      F        8.0  49.0   47-57  \n",
       "2     1992-07-27      M        8.0  29.0   25-35  \n",
       "3     1981-06-08      M        3.0  41.0   36-46  \n",
       "4     1992-07-27      M        8.0  29.0   25-35  \n",
       "...          ...    ...        ...   ...     ...  \n",
       "23048 1972-02-21      M        7.0  50.0   47-57  \n",
       "23049 1984-04-27      M        9.0  38.0   36-46  \n",
       "23050 1976-06-20      M        8.0  46.0   36-46  \n",
       "23051 1970-05-22      M        2.0  52.0   47-57  \n",
       "23052 1982-01-15      M        1.0  40.0   36-46  \n",
       "\n",
       "[23040 rows x 17 columns]"
      ]
     },
     "execution_count": 149,
     "metadata": {},
     "output_type": "execute_result"
    }
   ],
   "source": [
    "df"
   ]
  },
  {
   "cell_type": "code",
   "execution_count": null,
   "id": "ba51623c",
   "metadata": {},
   "outputs": [],
   "source": []
  }
 ],
 "metadata": {
  "kernelspec": {
   "display_name": "Python 3 (ipykernel)",
   "language": "python",
   "name": "python3"
  },
  "language_info": {
   "codemirror_mode": {
    "name": "ipython",
    "version": 3
   },
   "file_extension": ".py",
   "mimetype": "text/x-python",
   "name": "python",
   "nbconvert_exporter": "python",
   "pygments_lexer": "ipython3",
   "version": "3.9.7"
  }
 },
 "nbformat": 4,
 "nbformat_minor": 5
}
